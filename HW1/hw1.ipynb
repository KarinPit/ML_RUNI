{
  "cells": [
    {
      "cell_type": "markdown",
      "metadata": {
        "id": "psRAz819C4lN",
        "nbgrader": {
          "grade": false,
          "grade_id": "cell-35def0d0f4b47a0a",
          "locked": true,
          "schema_version": 1,
          "solution": false
        }
      },
      "source": [
        "# Exercise 1: Linear Regression\n",
        "\n",
        "## Do not start the exercise until you fully understand the submission guidelines.\n",
        "\n",
        "\n",
        "* The homework assignments are executed automatically.\n",
        "* Failure to comply with the following instructions will result in a significant penalty.\n",
        "* Appeals regarding your failure to read these instructions will be denied.\n",
        "* Kindly reminder: the homework assignments contribute 50% of the final grade.\n",
        "\n",
        "\n",
        "## Read the following instructions carefully:\n",
        "\n",
        "1. This Jupyter notebook contains all the step-by-step instructions needed for this exercise.\n",
        "1. Write **efficient**, **vectorized** code whenever possible. Some calculations in this exercise may take several minutes when implemented efficiently, and might take much longer otherwise. Unnecessary loops will result in point deductions.\n",
        "1. You are responsible for the correctness of your code and should add as many tests as you see fit to this jupyter notebook. Tests will not be graded nor checked.\n",
        "1. Complete the required functions in `hw1.py` script only. This exercise is graded automatically, and only the `hw1.py` script is tested.\n",
        "1. You are allowed to use functions and methods from the [Python Standard Library](https://docs.python.org/3/library/), numpy and pandas only. **Do not import anything else.**\n",
        "1. Your code must run without errors. Use at least `numpy` 1.15.4. Any code that cannot run will not be graded.\n",
        "1. Write your own code. Cheating will not be tolerated.\n",
        "1. Submission includes a zip file that contains the hw1.py script as well as this notebook, with your ID as the file name. For example, `hw1_123456789_987654321.zip` if you submitted in pairs and `hw1_123456789.zip` if you submitted the exercise alone.\n",
        "Please use only a **zip** file in your submission.\n",
        "\n",
        "---\n",
        "---\n",
        "\n",
        "## Please sign that you have read and understood the instructions:\n",
        "\n",
        "### 323842914, 208663120\n",
        "\n",
        "---\n",
        "---"
      ]
    },
    {
      "cell_type": "code",
      "execution_count": 1,
      "metadata": {
        "id": "9T8vs4R5C4lO",
        "nbgrader": {
          "grade": false,
          "grade_id": "cell-5ed0076cec86f623",
          "locked": true,
          "schema_version": 1,
          "solution": false
        }
      },
      "outputs": [],
      "source": [
        "import numpy as np # used for scientific computing\n",
        "import pandas as pd # used for data analysis and manipulation\n",
        "import matplotlib.pyplot as plt # used for visualization and plotting\n",
        "np.random.seed(42)\n",
        "\n",
        "# make the notebook automatically reload external python modules\n",
        "%load_ext autoreload\n",
        "%autoreload 2"
      ]
    },
    {
      "cell_type": "markdown",
      "metadata": {
        "id": "ltcPY7z7C4lP",
        "nbgrader": {
          "grade": false,
          "grade_id": "cell-916f46de8cde2ca7",
          "locked": true,
          "schema_version": 1,
          "solution": false
        }
      },
      "source": [
        "## Part 1: Data Preprocessing (10 Points)\n",
        "\n",
        "For the following exercise, we will use a dataset containing housing prices in King County, USA. The dataset contains 5,000 observations with 18 features and a single target value - the house price.\n",
        "\n",
        "First, we will read and explore the data using pandas and the `.read_csv` method. Pandas is an open source library providing high-performance, easy-to-use data structures and data analysis tools for the Python programming language."
      ]
    },
    {
      "cell_type": "code",
      "execution_count": 2,
      "metadata": {
        "id": "0aTou443C4lP",
        "nbgrader": {
          "grade": false,
          "grade_id": "cell-9ef8b2769c2c1949",
          "locked": true,
          "schema_version": 1,
          "solution": false
        }
      },
      "outputs": [],
      "source": [
        "# Read comma separated data\n",
        "df = pd.read_csv('data.csv')\n",
        "# df stands for dataframe, which is the default format for datasets in pandas"
      ]
    },
    {
      "cell_type": "markdown",
      "metadata": {
        "id": "y8JnBC9OC4lP",
        "nbgrader": {
          "grade": false,
          "grade_id": "cell-6966afc155aa6616",
          "locked": true,
          "schema_version": 1,
          "solution": false
        }
      },
      "source": [
        "### Data Exploration\n",
        "A good practice in any data-oriented project is to first try and understand the data. Fortunately, pandas is built for that purpose. Start by looking at the top of the dataset using the `df.head()` command. This will be the first indication that you read your data properly, and that the headers are correct. Next, you can use `df.describe()` to show statistics on the data and check for trends and irregularities."
      ]
    },
    {
      "cell_type": "code",
      "execution_count": 3,
      "metadata": {
        "id": "KMGGRHVcC4lQ"
      },
      "outputs": [
        {
          "data": {
            "text/html": [
              "<div>\n",
              "<style scoped>\n",
              "    .dataframe tbody tr th:only-of-type {\n",
              "        vertical-align: middle;\n",
              "    }\n",
              "\n",
              "    .dataframe tbody tr th {\n",
              "        vertical-align: top;\n",
              "    }\n",
              "\n",
              "    .dataframe thead th {\n",
              "        text-align: right;\n",
              "    }\n",
              "</style>\n",
              "<table border=\"1\" class=\"dataframe\">\n",
              "  <thead>\n",
              "    <tr style=\"text-align: right;\">\n",
              "      <th></th>\n",
              "      <th>id</th>\n",
              "      <th>date</th>\n",
              "      <th>price</th>\n",
              "      <th>bedrooms</th>\n",
              "      <th>bathrooms</th>\n",
              "      <th>sqft_living</th>\n",
              "      <th>sqft_lot</th>\n",
              "      <th>floors</th>\n",
              "      <th>waterfront</th>\n",
              "      <th>view</th>\n",
              "      <th>condition</th>\n",
              "      <th>grade</th>\n",
              "      <th>sqft_above</th>\n",
              "      <th>yr_built</th>\n",
              "      <th>yr_renovated</th>\n",
              "      <th>zipcode</th>\n",
              "      <th>lat</th>\n",
              "      <th>long</th>\n",
              "      <th>sqft_living15</th>\n",
              "      <th>sqft_lot15</th>\n",
              "    </tr>\n",
              "  </thead>\n",
              "  <tbody>\n",
              "    <tr>\n",
              "      <th>0</th>\n",
              "      <td>7129300520</td>\n",
              "      <td>20141013T000000</td>\n",
              "      <td>221900.0</td>\n",
              "      <td>3</td>\n",
              "      <td>1.00</td>\n",
              "      <td>1180</td>\n",
              "      <td>5650</td>\n",
              "      <td>1.0</td>\n",
              "      <td>0</td>\n",
              "      <td>0</td>\n",
              "      <td>3</td>\n",
              "      <td>7</td>\n",
              "      <td>1180</td>\n",
              "      <td>1955</td>\n",
              "      <td>0</td>\n",
              "      <td>98178</td>\n",
              "      <td>47.5112</td>\n",
              "      <td>-122.257</td>\n",
              "      <td>1340</td>\n",
              "      <td>5650</td>\n",
              "    </tr>\n",
              "    <tr>\n",
              "      <th>1</th>\n",
              "      <td>6414100192</td>\n",
              "      <td>20141209T000000</td>\n",
              "      <td>538000.0</td>\n",
              "      <td>3</td>\n",
              "      <td>2.25</td>\n",
              "      <td>2570</td>\n",
              "      <td>7242</td>\n",
              "      <td>2.0</td>\n",
              "      <td>0</td>\n",
              "      <td>0</td>\n",
              "      <td>3</td>\n",
              "      <td>7</td>\n",
              "      <td>2170</td>\n",
              "      <td>1951</td>\n",
              "      <td>1991</td>\n",
              "      <td>98125</td>\n",
              "      <td>47.7210</td>\n",
              "      <td>-122.319</td>\n",
              "      <td>1690</td>\n",
              "      <td>7639</td>\n",
              "    </tr>\n",
              "    <tr>\n",
              "      <th>2</th>\n",
              "      <td>5631500400</td>\n",
              "      <td>20150225T000000</td>\n",
              "      <td>180000.0</td>\n",
              "      <td>2</td>\n",
              "      <td>1.00</td>\n",
              "      <td>770</td>\n",
              "      <td>10000</td>\n",
              "      <td>1.0</td>\n",
              "      <td>0</td>\n",
              "      <td>0</td>\n",
              "      <td>3</td>\n",
              "      <td>6</td>\n",
              "      <td>770</td>\n",
              "      <td>1933</td>\n",
              "      <td>0</td>\n",
              "      <td>98028</td>\n",
              "      <td>47.7379</td>\n",
              "      <td>-122.233</td>\n",
              "      <td>2720</td>\n",
              "      <td>8062</td>\n",
              "    </tr>\n",
              "    <tr>\n",
              "      <th>3</th>\n",
              "      <td>2487200875</td>\n",
              "      <td>20141209T000000</td>\n",
              "      <td>604000.0</td>\n",
              "      <td>4</td>\n",
              "      <td>3.00</td>\n",
              "      <td>1960</td>\n",
              "      <td>5000</td>\n",
              "      <td>1.0</td>\n",
              "      <td>0</td>\n",
              "      <td>0</td>\n",
              "      <td>5</td>\n",
              "      <td>7</td>\n",
              "      <td>1050</td>\n",
              "      <td>1965</td>\n",
              "      <td>0</td>\n",
              "      <td>98136</td>\n",
              "      <td>47.5208</td>\n",
              "      <td>-122.393</td>\n",
              "      <td>1360</td>\n",
              "      <td>5000</td>\n",
              "    </tr>\n",
              "    <tr>\n",
              "      <th>4</th>\n",
              "      <td>1954400510</td>\n",
              "      <td>20150218T000000</td>\n",
              "      <td>510000.0</td>\n",
              "      <td>3</td>\n",
              "      <td>2.00</td>\n",
              "      <td>1680</td>\n",
              "      <td>8080</td>\n",
              "      <td>1.0</td>\n",
              "      <td>0</td>\n",
              "      <td>0</td>\n",
              "      <td>3</td>\n",
              "      <td>8</td>\n",
              "      <td>1680</td>\n",
              "      <td>1987</td>\n",
              "      <td>0</td>\n",
              "      <td>98074</td>\n",
              "      <td>47.6168</td>\n",
              "      <td>-122.045</td>\n",
              "      <td>1800</td>\n",
              "      <td>7503</td>\n",
              "    </tr>\n",
              "  </tbody>\n",
              "</table>\n",
              "</div>"
            ],
            "text/plain": [
              "           id             date     price  bedrooms  bathrooms  sqft_living  \\\n",
              "0  7129300520  20141013T000000  221900.0         3       1.00         1180   \n",
              "1  6414100192  20141209T000000  538000.0         3       2.25         2570   \n",
              "2  5631500400  20150225T000000  180000.0         2       1.00          770   \n",
              "3  2487200875  20141209T000000  604000.0         4       3.00         1960   \n",
              "4  1954400510  20150218T000000  510000.0         3       2.00         1680   \n",
              "\n",
              "   sqft_lot  floors  waterfront  view  condition  grade  sqft_above  yr_built  \\\n",
              "0      5650     1.0           0     0          3      7        1180      1955   \n",
              "1      7242     2.0           0     0          3      7        2170      1951   \n",
              "2     10000     1.0           0     0          3      6         770      1933   \n",
              "3      5000     1.0           0     0          5      7        1050      1965   \n",
              "4      8080     1.0           0     0          3      8        1680      1987   \n",
              "\n",
              "   yr_renovated  zipcode      lat     long  sqft_living15  sqft_lot15  \n",
              "0             0    98178  47.5112 -122.257           1340        5650  \n",
              "1          1991    98125  47.7210 -122.319           1690        7639  \n",
              "2             0    98028  47.7379 -122.233           2720        8062  \n",
              "3             0    98136  47.5208 -122.393           1360        5000  \n",
              "4             0    98074  47.6168 -122.045           1800        7503  "
            ]
          },
          "execution_count": 3,
          "metadata": {},
          "output_type": "execute_result"
        }
      ],
      "source": [
        "df.head(5)"
      ]
    },
    {
      "cell_type": "code",
      "execution_count": 4,
      "metadata": {
        "id": "WWjtSNkRC4lQ",
        "nbgrader": {
          "grade": true,
          "grade_id": "cell-5bd0d6844b64ea1a",
          "locked": false,
          "points": 1,
          "schema_version": 1,
          "solution": true
        }
      },
      "outputs": [
        {
          "data": {
            "text/html": [
              "<div>\n",
              "<style scoped>\n",
              "    .dataframe tbody tr th:only-of-type {\n",
              "        vertical-align: middle;\n",
              "    }\n",
              "\n",
              "    .dataframe tbody tr th {\n",
              "        vertical-align: top;\n",
              "    }\n",
              "\n",
              "    .dataframe thead th {\n",
              "        text-align: right;\n",
              "    }\n",
              "</style>\n",
              "<table border=\"1\" class=\"dataframe\">\n",
              "  <thead>\n",
              "    <tr style=\"text-align: right;\">\n",
              "      <th></th>\n",
              "      <th>id</th>\n",
              "      <th>price</th>\n",
              "      <th>bedrooms</th>\n",
              "      <th>bathrooms</th>\n",
              "      <th>sqft_living</th>\n",
              "      <th>sqft_lot</th>\n",
              "      <th>floors</th>\n",
              "      <th>waterfront</th>\n",
              "      <th>view</th>\n",
              "      <th>condition</th>\n",
              "      <th>grade</th>\n",
              "      <th>sqft_above</th>\n",
              "      <th>yr_built</th>\n",
              "      <th>yr_renovated</th>\n",
              "      <th>zipcode</th>\n",
              "      <th>lat</th>\n",
              "      <th>long</th>\n",
              "      <th>sqft_living15</th>\n",
              "      <th>sqft_lot15</th>\n",
              "    </tr>\n",
              "  </thead>\n",
              "  <tbody>\n",
              "    <tr>\n",
              "      <th>count</th>\n",
              "      <td>5.000000e+03</td>\n",
              "      <td>5.000000e+03</td>\n",
              "      <td>5000.0000</td>\n",
              "      <td>5000.000000</td>\n",
              "      <td>5000.000000</td>\n",
              "      <td>5.000000e+03</td>\n",
              "      <td>5000.000000</td>\n",
              "      <td>5000.000000</td>\n",
              "      <td>5000.000000</td>\n",
              "      <td>5000.000000</td>\n",
              "      <td>5000.000000</td>\n",
              "      <td>5000.000000</td>\n",
              "      <td>5000.000000</td>\n",
              "      <td>5000.000000</td>\n",
              "      <td>5000.000000</td>\n",
              "      <td>5000.000000</td>\n",
              "      <td>5000.000000</td>\n",
              "      <td>5000.00000</td>\n",
              "      <td>5000.000000</td>\n",
              "    </tr>\n",
              "    <tr>\n",
              "      <th>mean</th>\n",
              "      <td>4.630823e+09</td>\n",
              "      <td>5.394699e+05</td>\n",
              "      <td>3.3714</td>\n",
              "      <td>2.062150</td>\n",
              "      <td>2061.036800</td>\n",
              "      <td>1.615893e+04</td>\n",
              "      <td>1.432600</td>\n",
              "      <td>0.009400</td>\n",
              "      <td>0.243000</td>\n",
              "      <td>3.455000</td>\n",
              "      <td>7.595200</td>\n",
              "      <td>1753.151000</td>\n",
              "      <td>1966.660800</td>\n",
              "      <td>95.052800</td>\n",
              "      <td>98078.812600</td>\n",
              "      <td>47.559312</td>\n",
              "      <td>-122.215864</td>\n",
              "      <td>1976.84520</td>\n",
              "      <td>13451.164600</td>\n",
              "    </tr>\n",
              "    <tr>\n",
              "      <th>std</th>\n",
              "      <td>2.870890e+09</td>\n",
              "      <td>3.873115e+05</td>\n",
              "      <td>0.9104</td>\n",
              "      <td>0.773592</td>\n",
              "      <td>923.727509</td>\n",
              "      <td>4.600220e+04</td>\n",
              "      <td>0.510793</td>\n",
              "      <td>0.096506</td>\n",
              "      <td>0.774643</td>\n",
              "      <td>0.677692</td>\n",
              "      <td>1.166537</td>\n",
              "      <td>818.390844</td>\n",
              "      <td>28.286855</td>\n",
              "      <td>425.234932</td>\n",
              "      <td>54.126332</td>\n",
              "      <td>0.139521</td>\n",
              "      <td>0.141807</td>\n",
              "      <td>674.73601</td>\n",
              "      <td>26514.749009</td>\n",
              "    </tr>\n",
              "    <tr>\n",
              "      <th>min</th>\n",
              "      <td>1.000102e+06</td>\n",
              "      <td>7.500000e+04</td>\n",
              "      <td>0.0000</td>\n",
              "      <td>0.000000</td>\n",
              "      <td>380.000000</td>\n",
              "      <td>6.090000e+02</td>\n",
              "      <td>1.000000</td>\n",
              "      <td>0.000000</td>\n",
              "      <td>0.000000</td>\n",
              "      <td>1.000000</td>\n",
              "      <td>3.000000</td>\n",
              "      <td>380.000000</td>\n",
              "      <td>1900.000000</td>\n",
              "      <td>0.000000</td>\n",
              "      <td>98001.000000</td>\n",
              "      <td>47.155900</td>\n",
              "      <td>-122.514000</td>\n",
              "      <td>620.00000</td>\n",
              "      <td>660.000000</td>\n",
              "    </tr>\n",
              "    <tr>\n",
              "      <th>25%</th>\n",
              "      <td>2.154075e+09</td>\n",
              "      <td>3.179062e+05</td>\n",
              "      <td>3.0000</td>\n",
              "      <td>1.500000</td>\n",
              "      <td>1410.000000</td>\n",
              "      <td>5.400000e+03</td>\n",
              "      <td>1.000000</td>\n",
              "      <td>0.000000</td>\n",
              "      <td>0.000000</td>\n",
              "      <td>3.000000</td>\n",
              "      <td>7.000000</td>\n",
              "      <td>1190.000000</td>\n",
              "      <td>1949.000000</td>\n",
              "      <td>0.000000</td>\n",
              "      <td>98033.000000</td>\n",
              "      <td>47.463675</td>\n",
              "      <td>-122.329000</td>\n",
              "      <td>1490.00000</td>\n",
              "      <td>5391.500000</td>\n",
              "    </tr>\n",
              "    <tr>\n",
              "      <th>50%</th>\n",
              "      <td>4.022900e+09</td>\n",
              "      <td>4.490000e+05</td>\n",
              "      <td>3.0000</td>\n",
              "      <td>2.000000</td>\n",
              "      <td>1890.000000</td>\n",
              "      <td>7.875000e+03</td>\n",
              "      <td>1.000000</td>\n",
              "      <td>0.000000</td>\n",
              "      <td>0.000000</td>\n",
              "      <td>3.000000</td>\n",
              "      <td>7.000000</td>\n",
              "      <td>1530.000000</td>\n",
              "      <td>1968.000000</td>\n",
              "      <td>0.000000</td>\n",
              "      <td>98070.000000</td>\n",
              "      <td>47.572850</td>\n",
              "      <td>-122.235000</td>\n",
              "      <td>1820.00000</td>\n",
              "      <td>7800.000000</td>\n",
              "    </tr>\n",
              "    <tr>\n",
              "      <th>75%</th>\n",
              "      <td>7.345078e+09</td>\n",
              "      <td>6.500000e+05</td>\n",
              "      <td>4.0000</td>\n",
              "      <td>2.500000</td>\n",
              "      <td>2500.000000</td>\n",
              "      <td>1.123400e+04</td>\n",
              "      <td>2.000000</td>\n",
              "      <td>0.000000</td>\n",
              "      <td>0.000000</td>\n",
              "      <td>4.000000</td>\n",
              "      <td>8.000000</td>\n",
              "      <td>2130.000000</td>\n",
              "      <td>1990.000000</td>\n",
              "      <td>0.000000</td>\n",
              "      <td>98118.000000</td>\n",
              "      <td>47.679200</td>\n",
              "      <td>-122.129000</td>\n",
              "      <td>2340.00000</td>\n",
              "      <td>10469.250000</td>\n",
              "    </tr>\n",
              "    <tr>\n",
              "      <th>max</th>\n",
              "      <td>9.842300e+09</td>\n",
              "      <td>7.060000e+06</td>\n",
              "      <td>9.0000</td>\n",
              "      <td>6.750000</td>\n",
              "      <td>10040.000000</td>\n",
              "      <td>1.651359e+06</td>\n",
              "      <td>3.500000</td>\n",
              "      <td>1.000000</td>\n",
              "      <td>4.000000</td>\n",
              "      <td>5.000000</td>\n",
              "      <td>13.000000</td>\n",
              "      <td>7680.000000</td>\n",
              "      <td>2015.000000</td>\n",
              "      <td>2015.000000</td>\n",
              "      <td>98199.000000</td>\n",
              "      <td>47.777600</td>\n",
              "      <td>-121.315000</td>\n",
              "      <td>5790.00000</td>\n",
              "      <td>434728.000000</td>\n",
              "    </tr>\n",
              "  </tbody>\n",
              "</table>\n",
              "</div>"
            ],
            "text/plain": [
              "                 id         price   bedrooms    bathrooms   sqft_living  \\\n",
              "count  5.000000e+03  5.000000e+03  5000.0000  5000.000000   5000.000000   \n",
              "mean   4.630823e+09  5.394699e+05     3.3714     2.062150   2061.036800   \n",
              "std    2.870890e+09  3.873115e+05     0.9104     0.773592    923.727509   \n",
              "min    1.000102e+06  7.500000e+04     0.0000     0.000000    380.000000   \n",
              "25%    2.154075e+09  3.179062e+05     3.0000     1.500000   1410.000000   \n",
              "50%    4.022900e+09  4.490000e+05     3.0000     2.000000   1890.000000   \n",
              "75%    7.345078e+09  6.500000e+05     4.0000     2.500000   2500.000000   \n",
              "max    9.842300e+09  7.060000e+06     9.0000     6.750000  10040.000000   \n",
              "\n",
              "           sqft_lot       floors   waterfront         view    condition  \\\n",
              "count  5.000000e+03  5000.000000  5000.000000  5000.000000  5000.000000   \n",
              "mean   1.615893e+04     1.432600     0.009400     0.243000     3.455000   \n",
              "std    4.600220e+04     0.510793     0.096506     0.774643     0.677692   \n",
              "min    6.090000e+02     1.000000     0.000000     0.000000     1.000000   \n",
              "25%    5.400000e+03     1.000000     0.000000     0.000000     3.000000   \n",
              "50%    7.875000e+03     1.000000     0.000000     0.000000     3.000000   \n",
              "75%    1.123400e+04     2.000000     0.000000     0.000000     4.000000   \n",
              "max    1.651359e+06     3.500000     1.000000     4.000000     5.000000   \n",
              "\n",
              "             grade   sqft_above     yr_built  yr_renovated       zipcode  \\\n",
              "count  5000.000000  5000.000000  5000.000000   5000.000000   5000.000000   \n",
              "mean      7.595200  1753.151000  1966.660800     95.052800  98078.812600   \n",
              "std       1.166537   818.390844    28.286855    425.234932     54.126332   \n",
              "min       3.000000   380.000000  1900.000000      0.000000  98001.000000   \n",
              "25%       7.000000  1190.000000  1949.000000      0.000000  98033.000000   \n",
              "50%       7.000000  1530.000000  1968.000000      0.000000  98070.000000   \n",
              "75%       8.000000  2130.000000  1990.000000      0.000000  98118.000000   \n",
              "max      13.000000  7680.000000  2015.000000   2015.000000  98199.000000   \n",
              "\n",
              "               lat         long  sqft_living15     sqft_lot15  \n",
              "count  5000.000000  5000.000000     5000.00000    5000.000000  \n",
              "mean     47.559312  -122.215864     1976.84520   13451.164600  \n",
              "std       0.139521     0.141807      674.73601   26514.749009  \n",
              "min      47.155900  -122.514000      620.00000     660.000000  \n",
              "25%      47.463675  -122.329000     1490.00000    5391.500000  \n",
              "50%      47.572850  -122.235000     1820.00000    7800.000000  \n",
              "75%      47.679200  -122.129000     2340.00000   10469.250000  \n",
              "max      47.777600  -121.315000     5790.00000  434728.000000  "
            ]
          },
          "execution_count": 4,
          "metadata": {},
          "output_type": "execute_result"
        }
      ],
      "source": [
        "df.describe()"
      ]
    },
    {
      "cell_type": "markdown",
      "metadata": {
        "id": "_UW1iHkqC4lQ",
        "nbgrader": {
          "grade": false,
          "grade_id": "cell-9b9bd1b387905904",
          "locked": true,
          "schema_version": 1,
          "solution": false
        }
      },
      "source": [
        "We will start with one variable linear regression by extracting the target column and the `sqft_living` variable from the dataset. We use pandas and select both columns as separate variables and transform them into a numpy array."
      ]
    },
    {
      "cell_type": "code",
      "execution_count": 5,
      "metadata": {
        "id": "b8g_CwY6C4lQ",
        "nbgrader": {
          "grade": true,
          "grade_id": "cell-c7cd243e8b5fe5aa",
          "locked": false,
          "points": 1,
          "schema_version": 1,
          "solution": true
        }
      },
      "outputs": [],
      "source": [
        "X = df['sqft_living'].values\n",
        "y = df['price'].values"
      ]
    },
    {
      "cell_type": "markdown",
      "metadata": {
        "id": "IFAUSykGC4lR",
        "nbgrader": {
          "grade": false,
          "grade_id": "cell-508e7e1a13f9bbe4",
          "locked": true,
          "schema_version": 1,
          "solution": false
        }
      },
      "source": [
        "## Preprocessing\n",
        "\n",
        "As the number of features grows, calculating gradients gets computationally expensive. We can speed this up by normalizing the input data to ensure all values are within the same range. This is especially important for datasets with high standard deviations or differences in the ranges of the attributes. Use [mean normalization](https://en.wikipedia.org/wiki/Feature_scaling) for the fearures (`X`) and the true labels (`y`).\n",
        "\n",
        "Your implementation should not contain loops.\n",
        "\n",
        "---\n",
        "Open `hw1.py` and complete the function `preprocess`. (5 points)"
      ]
    },
    {
      "cell_type": "code",
      "execution_count": 6,
      "metadata": {
        "id": "OK3oRuEkC4lR"
      },
      "outputs": [
        {
          "data": {
            "text/plain": [
              "((5000,), (5000,))"
            ]
          },
          "execution_count": 6,
          "metadata": {},
          "output_type": "execute_result"
        }
      ],
      "source": [
        "from hw1 import preprocess\n",
        "\n",
        "X, y = preprocess(X, y)\n",
        "X.shape, y.shape"
      ]
    },
    {
      "cell_type": "markdown",
      "metadata": {
        "id": "nfrLddpuC4lR"
      },
      "source": [
        "We will split the data into two datasets:\n",
        "1. The training dataset will contain 80% of the data and will always be used for model training.\n",
        "2. The validation dataset will contain the remaining 20% of the data and will be used for model evaluation. For example, we will pick the best alpha and the best features using the validation dataset, while still training the model using the training dataset."
      ]
    },
    {
      "cell_type": "code",
      "execution_count": 7,
      "metadata": {
        "id": "9NY_U-mBC4lR"
      },
      "outputs": [],
      "source": [
        "# training and validation split\n",
        "np.random.seed(42)\n",
        "indices = np.random.permutation(X.shape[0])\n",
        "idx_train, idx_val = indices[:int(0.8*X.shape[0])], indices[int(0.8*X.shape[0]):]\n",
        "X_train, X_val = X[idx_train], X[idx_val]\n",
        "y_train, y_val = y[idx_train], y[idx_val]"
      ]
    },
    {
      "cell_type": "markdown",
      "metadata": {
        "id": "bUqiw9R_C4lR",
        "nbgrader": {
          "grade": false,
          "grade_id": "cell-0c168d036748663e",
          "locked": true,
          "schema_version": 1,
          "solution": false
        }
      },
      "source": [
        "## Data Visualization\n",
        "Another useful tool is data visualization. Since this problem has only two parameters, it is possible to create a two-dimensional scatter plot to visualize the data. Note that many real-world datasets are highly dimensional and cannot be visualized naively. We will be using `matplotlib` for all data visualization purposes since it offers a wide range of visualization tools and is easy to use."
      ]
    },
    {
      "cell_type": "code",
      "execution_count": 8,
      "metadata": {
        "id": "pMyuc6-XC4lR",
        "nbgrader": {
          "grade": false,
          "grade_id": "cell-cbad8871e083093f",
          "locked": true,
          "schema_version": 1,
          "solution": false
        }
      },
      "outputs": [
        {
          "data": {
            "image/png": "[encoded data removed]",
            "text/plain": [
              "<Figure size 640x480 with 1 Axes>"
            ]
          },
          "metadata": {},
          "output_type": "display_data"
        }
      ],
      "source": [
        "plt.plot(X_train, y_train, 'ro', ms=1, mec='k') # the parameters control the size, shape and color of the scatter plot\n",
        "plt.ylabel('Price in USD')\n",
        "plt.xlabel('sq.ft')\n",
        "plt.show()"
      ]
    },
    {
      "cell_type": "markdown",
      "metadata": {
        "id": "la5rWw3ZC4lR",
        "nbgrader": {
          "grade": false,
          "grade_id": "cell-c50f0a0e569142ed",
          "locked": true,
          "schema_version": 1,
          "solution": false
        }
      },
      "source": [
        "## Bias Trick\n",
        "\n",
        "Make sure that `X` takes into consideration the bias $\\theta_0$ in the linear model. Hint, recall that the predications of our linear model are of the form:\n",
        "\n",
        "$$\n",
        "\\hat{y} = h_\\theta(x) = \\theta^T x = \\theta_0 + \\theta_1 x_1\n",
        "$$\n",
        "\n",
        "Add columns of ones as the zeroth column of the features (do this for both the training and validation sets).\n",
        "\n",
        "---\n",
        "Open `hw1.py` and complete the function `apply_bias_trick`. (5 points)"
      ]
    },
    {
      "cell_type": "code",
      "execution_count": 9,
      "metadata": {
        "id": "SspnWP-0C4lR"
      },
      "outputs": [
        {
          "data": {
            "text/plain": [
              "((4000, 2), (1000, 2))"
            ]
          },
          "execution_count": 9,
          "metadata": {},
          "output_type": "execute_result"
        }
      ],
      "source": [
        "from hw1 import apply_bias_trick\n",
        "\n",
        "X_train = apply_bias_trick(X_train)\n",
        "X_val = apply_bias_trick(X_val)\n",
        "\n",
        "X_train.shape, X_val.shape"
      ]
    },
    {
      "cell_type": "markdown",
      "metadata": {
        "id": "vTolZbdLC4lR",
        "nbgrader": {
          "grade": false,
          "grade_id": "cell-c7d7fd68c1b24943",
          "locked": true,
          "schema_version": 1,
          "solution": false
        }
      },
      "source": [
        "## Part 2: Single Variable Linear Regression (60 Points)\n",
        "Simple linear regression is a linear regression model with a single explanatory varaible and a single target value.\n",
        "\n",
        "$$\n",
        "\\hat{y} = h_\\theta(x) = \\theta^T x = \\theta_0 + \\theta_1 x_1\n",
        "$$\n",
        "\n",
        "## Gradient Descent\n",
        "\n",
        "Our task is to find the best possible linear line that explains all the points in our dataset. We start by guessing initial values for the linear regression parameters $\\theta$ and updating the values using gradient descent.\n",
        "\n",
        "The objective of linear regression is to minimize the cost function $J$:\n",
        "\n",
        "$$\n",
        "J(\\theta) = \\frac{1}{2m} \\sum_{i=1}^{n}(h_\\theta(x^{(i)})-y^{(i)})^2\n",
        "$$\n",
        "\n",
        "where the hypothesis (model) $h_\\theta(x)$ is given by a **linear** model:\n",
        "\n",
        "$$\n",
        "h_\\theta(x) = \\theta^T x = \\theta_0 + \\theta_1 x_1\n",
        "$$\n",
        "\n",
        "$\\theta_j$ are parameters of your model. and by changing those values accordingly you will be able to lower the cost function $J(\\theta)$. One way to accopmlish this is to use gradient descent:\n",
        "\n",
        "$$\n",
        "\\theta_j = \\theta_j - \\alpha \\frac{1}{m} \\sum_{i=1}^m (h_\\theta(x^{(i)})-y^{(i)})x_j^{(i)}\n",
        "$$\n",
        "\n",
        "In linear regresion, we know that with each step of gradient descent, the parameters $\\theta_j$ get closer to the optimal values that will achieve the lowest cost $J(\\theta)$.\n",
        "\n",
        "---\n",
        "\n",
        "Open `hw1.py` and complete the function `compute_cost`. (10 points)"
      ]
    },
    {
      "cell_type": "code",
      "execution_count": 10,
      "metadata": {
        "id": "YvDLVbSQC4lS"
      },
      "outputs": [],
      "source": [
        "from hw1 import compute_cost\n",
        "theta = np.array([-1, 2])\n",
        "J = compute_cost(X_train, y_train, theta)"
      ]
    },
    {
      "cell_type": "code",
      "execution_count": 11,
      "metadata": {},
      "outputs": [
        {
          "data": {
            "text/plain": [
              "0.5110382451954535"
            ]
          },
          "execution_count": 11,
          "metadata": {},
          "output_type": "execute_result"
        }
      ],
      "source": [
        "J"
      ]
    },
    {
      "cell_type": "markdown",
      "metadata": {
        "id": "HFAhDftxC4lS",
        "nbgrader": {
          "grade": false,
          "grade_id": "cell-afdc527b73d275bb",
          "locked": true,
          "schema_version": 1,
          "solution": false
        }
      },
      "source": [
        "Open `hw1.py` and complete the function `gradient_descent`. (30 points)"
      ]
    },
    {
      "cell_type": "code",
      "execution_count": 12,
      "metadata": {
        "id": "-I2np-Z3C4lS"
      },
      "outputs": [],
      "source": [
        "from hw1 import gradient_descent\n",
        "\n",
        "np.random.seed(42)\n",
        "theta = np.random.random(size=2)\n",
        "iterations = 40000\n",
        "alpha = 0.1\n",
        "theta, J_history = gradient_descent(X_train ,y_train, theta, alpha, iterations)"
      ]
    },
    {
      "cell_type": "code",
      "execution_count": 13,
      "metadata": {},
      "outputs": [
        {
          "data": {
            "text/plain": [
              "array([1.94301549e-04, 4.08751964e-01])"
            ]
          },
          "execution_count": 13,
          "metadata": {},
          "output_type": "execute_result"
        }
      ],
      "source": [
        "theta"
      ]
    },
    {
      "cell_type": "code",
      "execution_count": 14,
      "metadata": {},
      "outputs": [
        {
          "data": {
            "text/plain": [
              "[0.05909008502223918,\n",
              " 0.04827077592584291,\n",
              " 0.03950666558098807,\n",
              " 0.03240726667985371,\n",
              " 0.026656284581135437,\n",
              " 0.021997520688276838,\n",
              " 0.01822345418871239,\n",
              " 0.015165993264983293,\n",
              " 0.01268898357762762,\n",
              " 0.010682140137849598,\n",
              " 0.009056132125619261,\n",
              " 0.007738601593335897,\n",
              " 0.006670938616607399,\n",
              " 0.005805669167039375,\n",
              " 0.005104339289727086,\n",
              " 0.004535801287455525,\n",
              " 0.004074825530251001,\n",
              " 0.00370097602140111,\n",
              " 0.0033976996061602324,\n",
              " 0.003151588230986775,\n",
              " 0.0029517813736757974,\n",
              " 0.002789482011888336,\n",
              " 0.0026575645577588685,\n",
              " 0.0025502572850073313,\n",
              " 0.0024628850949646257,\n",
              " 0.0023916611571057375,\n",
              " 0.0023335181379240577,\n",
              " 0.0022859714963540108,\n",
              " 0.002247008753091248,\n",
              " 0.002214999798764597,\n",
              " 0.002188624243573624,\n",
              " 0.002166812570509875,\n",
              " 0.002148698469478078,\n",
              " 0.0021335802279440355,\n",
              " 0.0021208894573672837,\n",
              " 0.0021101657616179248,\n",
              " 0.0021010362183994215,\n",
              " 0.0020931987592052374,\n",
              " 0.002086408707087107,\n",
              " 0.002080467872250066,\n",
              " 0.002075215719486655,\n",
              " 0.0020705222138004136,\n",
              " 0.002066282025362365,\n",
              " 0.0020624098355269526,\n",
              " 0.0020588365347058916,\n",
              " 0.0020555061426467632,\n",
              " 0.0020523733138593037,\n",
              " 0.0020494013170111913,\n",
              " 0.002046560398239051,\n",
              " 0.0020438264554306926,\n",
              " 0.0020411799643939884,\n",
              " 0.0020386051090538794,\n",
              " 0.0020360890769121225,\n",
              " 0.0020336214883698235,\n",
              " 0.002031193934478801,\n",
              " 0.00202879960252028,\n",
              " 0.0020264329727237057,\n",
              " 0.002024089572609038,\n",
              " 0.002021765778004056,\n",
              " 0.002019458651868413,\n",
              " 0.0020171658137411413,\n",
              " 0.0020148853339931622,\n",
              " 0.0020126156481718276,\n",
              " 0.002010355487620016,\n",
              " 0.002008103823277611,\n",
              " 0.002005859820160695,\n",
              " 0.0020036228004897162,\n",
              " 0.002001392213823292,\n",
              " 0.001999167612866599,\n",
              " 0.0019969486338761696,\n",
              " 0.001994734980787769,\n",
              " 0.00199252641235998,\n",
              " 0.0019903227317605056,\n",
              " 0.001988123778131065,\n",
              " 0.0019859294197549604,\n",
              " 0.0019837395485228053,\n",
              " 0.001981554075449753,\n",
              " 0.0019793729270444543,\n",
              " 0.0019771960423679074,\n",
              " 0.001975023370651121,\n",
              " 0.0019728548693654173,\n",
              " 0.0019706905026593735,\n",
              " 0.001968530240092741,\n",
              " 0.001966374055610912,\n",
              " 0.001964221926714238,\n",
              " 0.0019620738337851667,\n",
              " 0.001959929759543225,\n",
              " 0.0019577896886035463,\n",
              " 0.0019556536071192723,\n",
              " 0.0019535215024918976,\n",
              " 0.0019513933631366408,\n",
              " 0.0019492691782923924,\n",
              " 0.001947148937867766,\n",
              " 0.0019450326323163978,\n",
              " 0.001942920252535931,\n",
              " 0.0019408117897861926,\n",
              " 0.0019387072356229064,\n",
              " 0.0019366065818440029,\n",
              " 0.001934509820446119,\n",
              " 0.001932416943589363,\n",
              " 0.0019303279435687667,\n",
              " 0.0019282428127911561,\n",
              " 0.001926161543756419,\n",
              " 0.0019240841290423148,\n",
              " 0.0019220105612921792,\n",
              " 0.00191994083320495,\n",
              " 0.0019178749375270904,\n",
              " 0.0019158128670460363,\n",
              " 0.0019137546145848905,\n",
              " 0.0019117001729981144,\n",
              " 0.001909649535168037,\n",
              " 0.0019076026940020227,\n",
              " 0.001905559642430172,\n",
              " 0.001903520373403452,\n",
              " 0.0019014848798921831,\n",
              " 0.0018994531548848052,\n",
              " 0.0018974251913868707,\n",
              " 0.0018954009824202337,\n",
              " 0.0018933805210223766,\n",
              " 0.0018913638002458707,\n",
              " 0.0018893508131579294,\n",
              " 0.0018873415528400425,\n",
              " 0.0018853360123876747,\n",
              " 0.0018833341849100209,\n",
              " 0.0018813360635297994,\n",
              " 0.0018793416413830806,\n",
              " 0.001877350911619145,\n",
              " 0.0018753638674003641,\n",
              " 0.001873380501902097,\n",
              " 0.0018714008083126053,\n",
              " 0.0018694247798329777,\n",
              " 0.001867452409677066,\n",
              " 0.0018654836910714271,\n",
              " 0.0018635186172552723,\n",
              " 0.0018615571814804236,\n",
              " 0.0018595993770112711,\n",
              " 0.0018576451971247358,\n",
              " 0.0018556946351102352,\n",
              " 0.0018537476842696511,\n",
              " 0.0018518043379172977,\n",
              " 0.0018498645893798933,\n",
              " 0.0018479284319965312,\n",
              " 0.0018459958591186556,\n",
              " 0.0018440668641100315,\n",
              " 0.001842141440346722,\n",
              " 0.0018402195812170627,\n",
              " 0.0018383012801216373,\n",
              " 0.0018363865304732534,\n",
              " 0.0018344753256969175,\n",
              " 0.001832567659229814,\n",
              " 0.00183066352452128,\n",
              " 0.001828762915032783,\n",
              " 0.0018268658242378976,\n",
              " 0.0018249722456222823,\n",
              " 0.0018230821726836588,\n",
              " 0.0018211955989317857,\n",
              " 0.0018193125178884403,\n",
              " 0.0018174329230873924,\n",
              " 0.0018155568080743855,\n",
              " 0.0018136841664071106,\n",
              " 0.0018118149916551874,\n",
              " 0.0018099492774001408,\n",
              " 0.001808087017235378,\n",
              " 0.0018062282047661676,\n",
              " 0.0018043728336096176,\n",
              " 0.0018025208973946533,\n",
              " 0.0018006723897619943,\n",
              " 0.0017988273043641342,\n",
              " 0.0017969856348653175,\n",
              " 0.0017951473749415192,\n",
              " 0.0017933125182804225,\n",
              " 0.0017914810585813955,\n",
              " 0.0017896529895554726,\n",
              " 0.0017878283049253306,\n",
              " 0.001786006998425268,\n",
              " 0.0017841890638011836,\n",
              " 0.0017823744948105538,\n",
              " 0.0017805632852224132,\n",
              " 0.0017787554288173314,\n",
              " 0.001776950919387392,\n",
              " 0.0017751497507361726,\n",
              " 0.0017733519166787226,\n",
              " 0.0017715574110415409,\n",
              " 0.0017697662276625569,\n",
              " 0.0017679783603911068,\n",
              " 0.001766193803087915,\n",
              " 0.0017644125496250715,\n",
              " 0.0017626345938860108,\n",
              " 0.001760859929765492,\n",
              " 0.0017590885511695761,\n",
              " 0.0017573204520156074,\n",
              " 0.0017555556262321902,\n",
              " 0.0017537940677591704,\n",
              " 0.001752035770547612,\n",
              " 0.0017502807285597784,\n",
              " 0.0017485289357691105,\n",
              " 0.0017467803861602072,\n",
              " 0.0017450350737288033,\n",
              " 0.00174329299248175,\n",
              " 0.001741554136436994,\n",
              " 0.0017398184996235565,\n",
              " 0.0017380860760815135,\n",
              " 0.001736356859861974,\n",
              " 0.0017346308450270622,\n",
              " 0.0017329080256498937,\n",
              " 0.0017311883958145572,\n",
              " 0.001729471949616095,\n",
              " 0.0017277586811604796,\n",
              " 0.0017260485845645972,\n",
              " 0.0017243416539562241,\n",
              " 0.0017226378834740103,\n",
              " 0.001720937267267455,\n",
              " 0.0017192397994968901,\n",
              " 0.001717545474333458,\n",
              " 0.0017158542859590923,\n",
              " 0.0017141662285664987,\n",
              " 0.001712481296359134,\n",
              " 0.0017107994835511855,\n",
              " 0.0017091207843675535,\n",
              " 0.0017074451930438293,\n",
              " 0.0017057727038262752,\n",
              " 0.0017041033109718073,\n",
              " 0.0017024370087479737,\n",
              " 0.0017007737914329344,\n",
              " 0.0016991136533154436,\n",
              " 0.001697456588694829,\n",
              " 0.001695802591880971,\n",
              " 0.0016941516571942858,\n",
              " 0.001692503778965704,\n",
              " 0.0016908589515366508,\n",
              " 0.0016892171692590291,\n",
              " 0.0016875784264951967,\n",
              " 0.00168594271761795,\n",
              " 0.0016843100370105028,\n",
              " 0.0016826803790664674,\n",
              " 0.0016810537381898355,\n",
              " 0.0016794301087949587,\n",
              " 0.0016778094853065306,\n",
              " 0.0016761918621595654,\n",
              " 0.001674577233799381,\n",
              " 0.0016729655946815783,\n",
              " 0.0016713569392720232,\n",
              " 0.0016697512620468275,\n",
              " 0.0016681485574923287,\n",
              " 0.001666548820105073,\n",
              " 0.0016649520443917946,\n",
              " 0.001663358224869399,\n",
              " 0.001661767356064941,\n",
              " 0.0016601794325156085,\n",
              " 0.0016585944487687036,\n",
              " 0.0016570123993816229,\n",
              " 0.0016554332789218387,\n",
              " 0.0016538570819668813,\n",
              " 0.0016522838031043199,\n",
              " 0.0016507134369317437,\n",
              " 0.001649145978056743,\n",
              " 0.0016475814210968934,\n",
              " 0.001646019760679733,\n",
              " 0.0016444609914427481,\n",
              " 0.0016429051080333514,\n",
              " 0.001641352105108866,\n",
              " 0.0016398019773365053,\n",
              " 0.001638254719393357,\n",
              " 0.0016367103259663617,\n",
              " 0.0016351687917522976,\n",
              " 0.001633630111457761,\n",
              " 0.001632094279799146,\n",
              " 0.0016305612915026313,\n",
              " 0.0016290311413041584,\n",
              " 0.0016275038239494139,\n",
              " 0.0016259793341938127,\n",
              " 0.001624457666802478,\n",
              " 0.0016229388165502256,\n",
              " 0.0016214227782215453,\n",
              " 0.0016199095466105818,\n",
              " 0.0016183991165211178,\n",
              " 0.0016168914827665566,\n",
              " 0.0016153866401699033,\n",
              " 0.0016138845835637467,\n",
              " 0.0016123853077902436,\n",
              " 0.0016108888077010994,\n",
              " 0.0016093950781575499,\n",
              " 0.0016079041140303456,\n",
              " 0.0016064159101997326,\n",
              " 0.0016049304615554354,\n",
              " 0.0016034477629966396,\n",
              " 0.0016019678094319745,\n",
              " 0.0016004905957794947,\n",
              " 0.0015990161169666635,\n",
              " 0.001597544367930335,\n",
              " 0.0015960753436167372,\n",
              " 0.0015946090389814547,\n",
              " 0.0015931454489894103,\n",
              " 0.0015916845686148493,\n",
              " 0.0015902263928413208,\n",
              " 0.0015887709166616624,\n",
              " 0.0015873181350779797,\n",
              " 0.001585868043101632,\n",
              " 0.001584420635753215,\n",
              " 0.0015829759080625426,\n",
              " 0.0015815338550686298,\n",
              " 0.0015800944718196766,\n",
              " 0.0015786577533730508,\n",
              " 0.0015772236947952697,\n",
              " 0.001575792291161985,\n",
              " 0.0015743635375579654,\n",
              " 0.0015729374290770783,\n",
              " 0.001571513960822275,\n",
              " 0.0015700931279055723,\n",
              " 0.0015686749254480378,\n",
              " 0.0015672593485797693,\n",
              " 0.0015658463924398825,\n",
              " 0.0015644360521764919,\n",
              " 0.0015630283229466939,\n",
              " 0.0015616231999165512,\n",
              " 0.001560220678261076,\n",
              " 0.0015588207531642131,\n",
              " 0.0015574234198188232,\n",
              " 0.0015560286734266674,\n",
              " 0.0015546365091983882,\n",
              " 0.001553246922353498,\n",
              " 0.0015518599081203565,\n",
              " 0.0015504754617361597,\n",
              " 0.001549093578446919,\n",
              " 0.0015477142535074491,\n",
              " 0.001546337482181349,\n",
              " 0.0015449632597409862,\n",
              " 0.0015435915814674805,\n",
              " 0.0015422224426506887,\n",
              " 0.0015408558385891866,\n",
              " 0.001539491764590256,\n",
              " 0.001538130215969864,\n",
              " 0.001536771188052652,\n",
              " 0.0015354146761719148,\n",
              " 0.0015340606756695887,\n",
              " 0.0015327091818962328,\n",
              " 0.001531360190211014,\n",
              " 0.0015300136959816918,\n",
              " 0.0015286696945846002,\n",
              " 0.0015273281814046343,\n",
              " 0.001525989151835233,\n",
              " 0.0015246526012783637,\n",
              " 0.0015233185251445063,\n",
              " 0.0015219869188526376,\n",
              " 0.0015206577778302155,\n",
              " 0.0015193310975131628,\n",
              " 0.0015180068733458524,\n",
              " 0.001516685100781091,\n",
              " 0.0015153657752801043,\n",
              " 0.0015140488923125206,\n",
              " 0.001512734447356355,\n",
              " 0.001511422435897996,\n",
              " 0.0015101128534321853,\n",
              " 0.001508805695462009,\n",
              " 0.0015075009574988757,\n",
              " 0.001506198635062506,\n",
              " 0.0015048987236809135,\n",
              " 0.0015036012188903922,\n",
              " 0.001502306116235499,\n",
              " 0.0015010134112690404,\n",
              " 0.0014997230995520549,\n",
              " 0.0014984351766538003,\n",
              " 0.001497149638151737,\n",
              " 0.0014958664796315127,\n",
              " 0.0014945856966869476,\n",
              " 0.0014933072849200198,\n",
              " 0.0014920312399408487,\n",
              " 0.001490757557367682,\n",
              " 0.001489486232826879,\n",
              " 0.0014882172619528965,\n",
              " 0.001486950640388273,\n",
              " 0.0014856863637836145,\n",
              " 0.0014844244277975784,\n",
              " 0.0014831648280968608,\n",
              " 0.00148190756035618,\n",
              " 0.001480652620258261,\n",
              " 0.0014794000034938223,\n",
              " 0.0014781497057615599,\n",
              " 0.0014769017227681336,\n",
              " 0.0014756560502281516,\n",
              " 0.0014744126838641557,\n",
              " 0.0014731716194066062,\n",
              " 0.0014719328525938692,\n",
              " 0.0014706963791721987,\n",
              " 0.0014694621948957258,\n",
              " 0.001468230295526441,\n",
              " 0.0014670006768341814,\n",
              " 0.001465773334596614,\n",
              " 0.001464548264599226,\n",
              " 0.0014633254626353045,\n",
              " 0.0014621049245059255,\n",
              " 0.0014608866460199387,\n",
              " 0.0014596706229939532,\n",
              " 0.0014584568512523229,\n",
              " 0.0014572453266271318,\n",
              " 0.0014560360449581812,\n",
              " 0.001454829002092974,\n",
              " 0.0014536241938866998,\n",
              " 0.0014524216162022235,\n",
              " 0.001451221264910068,\n",
              " 0.0014500231358884012,\n",
              " 0.0014488272250230228,\n",
              " 0.001447633528207349,\n",
              " 0.0014464420413423983,\n",
              " 0.0014452527603367785,\n",
              " 0.0014440656811066717,\n",
              " 0.0014428807995758204,\n",
              " 0.0014416981116755138,\n",
              " 0.0014405176133445744,\n",
              " 0.0014393393005293423,\n",
              " 0.0014381631691836622,\n",
              " 0.0014369892152688711,\n",
              " 0.0014358174347537818,\n",
              " 0.0014346478236146702,\n",
              " 0.0014334803778352622,\n",
              " 0.0014323150934067188,\n",
              " 0.001431151966327623,\n",
              " 0.001429990992603965,\n",
              " 0.0014288321682491309,\n",
              " 0.0014276754892838866,\n",
              " 0.001426520951736364,\n",
              " 0.0014253685516420495,\n",
              " 0.001424218285043769,\n",
              " 0.0014230701479916743,\n",
              " 0.00142192413654323,\n",
              " 0.0014207802467631997,\n",
              " 0.0014196384747236315,\n",
              " 0.0014184988165038474,\n",
              " 0.001417361268190427,\n",
              " 0.0014162258258771936,\n",
              " 0.001415092485665205,\n",
              " 0.001413961243662735,\n",
              " 0.0014128320959852635,\n",
              " 0.0014117050387554616,\n",
              " 0.001410580068103179,\n",
              " 0.0014094571801654297,\n",
              " 0.0014083363710863804,\n",
              " 0.001407217637017336,\n",
              " 0.0014061009741167256,\n",
              " 0.0014049863785500925,\n",
              " 0.0014038738464900767,\n",
              " 0.0014027633741164056,\n",
              " 0.0014016549576158785,\n",
              " 0.0014005485931823545,\n",
              " 0.0013994442770167389,\n",
              " 0.001398342005326971,\n",
              " 0.00139724177432801,\n",
              " 0.001396143580241823,\n",
              " 0.0013950474192973713,\n",
              " 0.0013939532877305972,\n",
              " 0.0013928611817844128,\n",
              " 0.001391771097708685,\n",
              " 0.0013906830317602236,\n",
              " 0.0013895969802027687,\n",
              " 0.0013885129393069768,\n",
              " 0.0013874309053504097,\n",
              " 0.001386350874617521,\n",
              " 0.0013852728433996406,\n",
              " 0.0013841968079949677,\n",
              " 0.001383122764708552,\n",
              " 0.0013820507098522862,\n",
              " 0.0013809806397448896,\n",
              " 0.001379912550711897,\n",
              " 0.0013788464390856465,\n",
              " 0.0013777823012052655,\n",
              " 0.0013767201334166596,\n",
              " 0.001375659932072499,\n",
              " 0.001374601693532207,\n",
              " 0.0013735454141619462,\n",
              " 0.001372491090334607,\n",
              " 0.0013714387184297944,\n",
              " 0.0013703882948338168,\n",
              " 0.0013693398159396726,\n",
              " 0.0013682932781470378,\n",
              " 0.0013672486778622535,\n",
              " 0.0013662060114983147,\n",
              " 0.001365165275474857,\n",
              " 0.0013641264662181433,\n",
              " 0.0013630895801610553,\n",
              " 0.0013620546137430762,\n",
              " 0.0013610215634102824,\n",
              " 0.0013599904256153294,\n",
              " 0.0013589611968174398,\n",
              " 0.0013579338734823914,\n",
              " 0.001356908452082506,\n",
              " 0.0013558849290966353,\n",
              " 0.0013548633010101508,\n",
              " 0.0013538435643149298,\n",
              " 0.0013528257155093456,\n",
              " 0.0013518097510982524,\n",
              " 0.0013507956675929767,\n",
              " 0.0013497834615113042,\n",
              " 0.0013487731293774655,\n",
              " 0.0013477646677221276,\n",
              " 0.0013467580730823793,\n",
              " 0.001345753342001722,\n",
              " 0.0013447504710300548,\n",
              " 0.001343749456723665,\n",
              " 0.0013427502956452147,\n",
              " 0.0013417529843637306,\n",
              " 0.0013407575194545904,\n",
              " 0.0013397638974995136,\n",
              " 0.001338772115086546,\n",
              " 0.0013377821688100513,\n",
              " 0.001336794055270698,\n",
              " 0.0013358077710754483,\n",
              " 0.0013348233128375453,\n",
              " 0.0013338406771765032,\n",
              " 0.001332859860718094,\n",
              " 0.0013318808600943366,\n",
              " 0.0013309036719434855,\n",
              " 0.0013299282929100187,\n",
              " 0.0013289547196446263,\n",
              " 0.0013279829488041996,\n",
              " 0.001327012977051819,\n",
              " 0.0013260448010567428,\n",
              " 0.001325078417494395,\n",
              " 0.0013241138230463557,\n",
              " 0.0013231510144003475,\n",
              " 0.0013221899882502259,\n",
              " 0.001321230741295967,\n",
              " 0.0013202732702436563,\n",
              " 0.0013193175718054775,\n",
              " 0.0013183636426997007,\n",
              " 0.0013174114796506732,\n",
              " 0.001316461079388805,\n",
              " 0.0013155124386505601,\n",
              " 0.0013145655541784442,\n",
              " 0.0013136204227209936,\n",
              " 0.001312677041032765,\n",
              " 0.0013117354058743223,\n",
              " 0.0013107955140122275,\n",
              " 0.0013098573622190293,\n",
              " 0.0013089209472732502,\n",
              " 0.0013079862659593781,\n",
              " 0.0013070533150678532,\n",
              " 0.0013061220913950585,\n",
              " 0.0013051925917433062,\n",
              " 0.001304264812920831,\n",
              " 0.0013033387517417745,\n",
              " 0.0013024144050261782,\n",
              " 0.001301491769599969,\n",
              " 0.0013005708422949517,\n",
              " 0.0012996516199487963,\n",
              " 0.001298734099405026,\n",
              " 0.0012978182775130098,\n",
              " 0.0012969041511279485,\n",
              " 0.0012959917171108649,\n",
              " 0.0012950809723285927,\n",
              " 0.001294171913653768,\n",
              " 0.0012932645379648152,\n",
              " 0.001292358842145938,\n",
              " 0.001291454823087109,\n",
              " 0.0012905524776840576,\n",
              " 0.0012896518028382617,\n",
              " 0.0012887527954569356,\n",
              " 0.0012878554524530176,\n",
              " 0.0012869597707451629,\n",
              " 0.0012860657472577306,\n",
              " 0.0012851733789207744,\n",
              " 0.0012842826626700316,\n",
              " 0.001283393595446911,\n",
              " 0.001282506174198487,\n",
              " 0.0012816203958774825,\n",
              " 0.0012807362574422645,\n",
              " 0.00127985375585683,\n",
              " 0.0012789728880907973,\n",
              " 0.0012780936511193944,\n",
              " 0.0012772160419234496,\n",
              " 0.0012763400574893804,\n",
              " 0.001275465694809184,\n",
              " 0.0012745929508804264,\n",
              " 0.0012737218227062315,\n",
              " 0.0012728523072952722,\n",
              " 0.0012719844016617593,\n",
              " 0.0012711181028254301,\n",
              " 0.001270253407811542,\n",
              " 0.0012693903136508568,\n",
              " 0.0012685288173796359,\n",
              " 0.0012676689160396259,\n",
              " 0.0012668106066780506,\n",
              " 0.0012659538863476012,\n",
              " 0.0012650987521064235,\n",
              " 0.0012642452010181123,\n",
              " 0.0012633932301516968,\n",
              " 0.0012625428365816331,\n",
              " 0.0012616940173877933,\n",
              " 0.0012608467696554563,\n",
              " 0.0012600010904752958,\n",
              " 0.0012591569769433732,\n",
              " 0.0012583144261611254,\n",
              " 0.0012574734352353558,\n",
              " 0.0012566340012782234,\n",
              " 0.0012557961214072347,\n",
              " 0.0012549597927452316,\n",
              " 0.001254125012420384,\n",
              " 0.001253291777566177,\n",
              " 0.0012524600853214035,\n",
              " 0.0012516299328301536,\n",
              " 0.0012508013172418044,\n",
              " 0.0012499742357110104,\n",
              " 0.0012491486853976944,\n",
              " 0.0012483246634670362,\n",
              " 0.0012475021670894646,\n",
              " 0.0012466811934406469,\n",
              " 0.001245861739701479,\n",
              " 0.001245043803058076,\n",
              " 0.0012442273807017625,\n",
              " 0.001243412469829063,\n",
              " 0.001242599067641692,\n",
              " 0.0012417871713465449,\n",
              " 0.0012409767781556883,\n",
              " 0.0012401678852863487,\n",
              " 0.001239360489960907,\n",
              " 0.0012385545894068848,\n",
              " 0.0012377501808569363,\n",
              " 0.0012369472615488403,\n",
              " 0.0012361458287254885,\n",
              " 0.0012353458796348772,\n",
              " 0.0012345474115300974,\n",
              " 0.0012337504216693262,\n",
              " 0.0012329549073158163,\n",
              " 0.0012321608657378876,\n",
              " 0.001231368294208916,\n",
              " 0.0012305771900073266,\n",
              " 0.001229787550416583,\n",
              " 0.0012289993727251773,\n",
              " 0.0012282126542266223,\n",
              " 0.001227427392219441,\n",
              " 0.0012266435840071579,\n",
              " 0.00122586122689829,\n",
              " 0.0012250803182063366,\n",
              " 0.001224300855249771,\n",
              " 0.0012235228353520307,\n",
              " 0.0012227462558415084,\n",
              " 0.0012219711140515437,\n",
              " 0.0012211974073204118,\n",
              " 0.001220425132991317,\n",
              " 0.0012196542884123814,\n",
              " 0.0012188848709366368,\n",
              " 0.0012181168779220152,\n",
              " 0.0012173503067313411,\n",
              " 0.0012165851547323203,\n",
              " 0.0012158214192975318,\n",
              " 0.0012150590978044203,\n",
              " 0.0012142981876352831,\n",
              " 0.0012135386861772668,\n",
              " 0.0012127805908223536,\n",
              " 0.0012120238989673541,\n",
              " 0.0012112686080138987,\n",
              " 0.0012105147153684283,\n",
              " 0.0012097622184421852,\n",
              " 0.0012090111146512044,\n",
              " 0.0012082614014163047,\n",
              " 0.00120751307616308,\n",
              " 0.0012067661363218908,\n",
              " 0.0012060205793278536,\n",
              " 0.0012052764026208346,\n",
              " 0.001204533603645439,\n",
              " 0.0012037921798510034,\n",
              " 0.0012030521286915867,\n",
              " 0.0012023134476259606,\n",
              " 0.0012015761341176018,\n",
              " 0.001200840185634683,\n",
              " 0.0012001055996500643,\n",
              " 0.0011993723736412846,\n",
              " 0.0011986405050905518,\n",
              " 0.0011979099914847364,\n",
              " 0.001197180830315361,\n",
              " 0.0011964530190785917,\n",
              " 0.0011957265552752308,\n",
              " 0.001195001436410708,\n",
              " 0.0011942776599950698,\n",
              " 0.0011935552235429739,\n",
              " 0.0011928341245736782,\n",
              " 0.001192114360611034,\n",
              " 0.0011913959291834767,\n",
              " 0.001190678827824017,\n",
              " 0.0011899630540702336,\n",
              " 0.0011892486054642633,\n",
              " 0.0011885354795527939,\n",
              " 0.001187823673887054,\n",
              " 0.0011871131860228077,\n",
              " 0.0011864040135203422,\n",
              " 0.0011856961539444628,\n",
              " 0.001184989604864482,\n",
              " 0.0011842843638542142,\n",
              " 0.0011835804284919633,\n",
              " 0.0011828777963605185,\n",
              " 0.0011821764650471428,\n",
              " 0.0011814764321435671,\n",
              " 0.0011807776952459798,\n",
              " 0.00118008025195502,\n",
              " 0.0011793840998757694,\n",
              " 0.0011786892366177427,\n",
              " 0.0011779956597948807,\n",
              " 0.0011773033670255419,\n",
              " 0.0011766123559324927,\n",
              " 0.0011759226241429025,\n",
              " 0.0011752341692883323,\n",
              " 0.0011745469890047284,\n",
              " 0.001173861080932414,\n",
              " 0.00117317644271608,\n",
              " 0.0011724930720047788,\n",
              " 0.0011718109664519152,\n",
              " 0.0011711301237152369,\n",
              " 0.0011704505414568299,\n",
              " 0.0011697722173431076,\n",
              " 0.0011690951490448032,\n",
              " 0.0011684193342369632,\n",
              " 0.0011677447705989372,\n",
              " 0.001167071455814373,\n",
              " 0.0011663993875712043,\n",
              " 0.0011657285635616472,\n",
              " 0.00116505898148219,\n",
              " 0.0011643906390335847,\n",
              " 0.0011637235339208409,\n",
              " 0.0011630576638532169,\n",
              " 0.0011623930265442116,\n",
              " 0.001161729619711557,\n",
              " 0.0011610674410772106,\n",
              " 0.0011604064883673475,\n",
              " 0.0011597467593123525,\n",
              " 0.0011590882516468119,\n",
              " 0.0011584309631095058,\n",
              " 0.0011577748914434014,\n",
              " 0.001157120034395644,\n",
              " 0.0011564663897175498,\n",
              " 0.0011558139551645983,\n",
              " 0.0011551627284964237,\n",
              " 0.0011545127074768088,\n",
              " 0.0011538638898736756,\n",
              " 0.0011532162734590795,\n",
              " 0.0011525698560091993,\n",
              " 0.0011519246353043323,\n",
              " 0.0011512806091288838,\n",
              " 0.001150637775271362,\n",
              " 0.001149996131524369,\n",
              " 0.001149355675684593,\n",
              " 0.001148716405552803,\n",
              " 0.001148078318933837,\n",
              " 0.0011474414136365997,\n",
              " 0.0011468056874740502,\n",
              " 0.0011461711382631976,\n",
              " 0.001145537763825092,\n",
              " 0.0011449055619848184,\n",
              " 0.001144274530571487,\n",
              " 0.0011436446674182282,\n",
              " 0.0011430159703621832,\n",
              " 0.001142388437244498,\n",
              " 0.0011417620659103153,\n",
              " 0.001141136854208767,\n",
              " 0.0011405127999929673,\n",
              " 0.0011398899011200046,\n",
              " 0.0011392681554509344,\n",
              " 0.0011386475608507736,\n",
              " 0.0011380281151884897,\n",
              " 0.001137409816336997,\n",
              " 0.0011367926621731472,\n",
              " 0.0011361766505777221,\n",
              " 0.0011355617794354285,\n",
              " 0.0011349480466348876,\n",
              " 0.001134335450068631,\n",
              " 0.0011337239876330898,\n",
              " 0.0011331136572285928,\n",
              " 0.0011325044567593529,\n",
              " 0.0011318963841334653,\n",
              " 0.0011312894372628964,\n",
              " 0.0011306836140634788,\n",
              " 0.0011300789124549047,\n",
              " 0.001129475330360716,\n",
              " 0.0011288728657082997,\n",
              " 0.0011282715164288805,\n",
              " 0.0011276712804575118,\n",
              " 0.0011270721557330708,\n",
              " 0.0011264741401982507,\n",
              " 0.001125877231799553,\n",
              " 0.0011252814284872807,\n",
              " 0.0011246867282155323,\n",
              " 0.001124093128942194,\n",
              " 0.0011235006286289316,\n",
              " 0.0011229092252411851,\n",
              " 0.0011223189167481622,\n",
              " 0.0011217297011228292,\n",
              " 0.0011211415763419045,\n",
              " 0.0011205545403858543,\n",
              " 0.0011199685912388821,\n",
              " 0.0011193837268889239,\n",
              " 0.0011187999453276408,\n",
              " 0.0011182172445504115,\n",
              " 0.001117635622556326,\n",
              " 0.0011170550773481804,\n",
              " 0.0011164756069324652,\n",
              " 0.0011158972093193644,\n",
              " 0.0011153198825227446,\n",
              " 0.0011147436245601491,\n",
              " 0.001114168433452793,\n",
              " 0.0011135943072255528,\n",
              " 0.0011130212439069628,\n",
              " 0.0011124492415292072,\n",
              " 0.0011118782981281124,\n",
              " 0.001111308411743143,\n",
              " 0.001110739580417391,\n",
              " 0.001110171802197573,\n",
              " 0.001109605075134021,\n",
              " 0.001109039397280677,\n",
              " 0.001108474766695085,\n",
              " 0.0011079111814383863,\n",
              " 0.0011073486395753109,\n",
              " 0.0011067871391741723,\n",
              " 0.0011062266783068591,\n",
              " 0.0011056672550488309,\n",
              " 0.0011051088674791092,\n",
              " 0.0011045515136802729,\n",
              " 0.0011039951917384495,\n",
              " 0.0011034398997433108,\n",
              " 0.0011028856357880646,\n",
              " 0.0011023323979694494,\n",
              " 0.0011017801843877272,\n",
              " 0.0011012289931466765,\n",
              " 0.001100678822353587,\n",
              " 0.0011001296701192527,\n",
              " 0.0010995815345579637,\n",
              " 0.0010990344137875032,\n",
              " 0.0010984883059291378,\n",
              " 0.0010979432091076124,\n",
              " 0.001097399121451144,\n",
              " 0.001096856041091415,\n",
              " 0.0010963139661635658,\n",
              " 0.0010957728948061908,\n",
              " 0.0010952328251613288,\n",
              " 0.0010946937553744603,\n",
              " 0.0010941556835944973,\n",
              " 0.0010936186079737798,\n",
              " 0.0010930825266680685,\n",
              " 0.001092547437836538,\n",
              " 0.0010920133396417713,\n",
              " 0.0010914802302497526,\n",
              " 0.0010909481078298624,\n",
              " 0.001090416970554869,\n",
              " 0.0010898868166009247,\n",
              " 0.0010893576441475582,\n",
              " 0.0010888294513776678,\n",
              " 0.0010883022364775164,\n",
              " 0.0010877759976367254,\n",
              " 0.0010872507330482665,\n",
              " 0.0010867264409084585,\n",
              " 0.0010862031194169572,\n",
              " 0.0010856807667767537,\n",
              " 0.0010851593811941642,\n",
              " 0.0010846389608788276,\n",
              " 0.0010841195040436956,\n",
              " 0.001083601008905029,\n",
              " 0.001083083473682391,\n",
              " 0.0010825668965986413,\n",
              " 0.001082051275879929,\n",
              " 0.0010815366097556873,\n",
              " 0.0010810228964586285,\n",
              " 0.0010805101342247353,\n",
              " 0.0010799983212932567,\n",
              " 0.0010794874559067022,\n",
              " 0.001078977536310834,\n",
              " 0.0010784685607546623,\n",
              " 0.001077960527490439,\n",
              " 0.001077453434773652,\n",
              " 0.0010769472808630192,\n",
              " 0.001076442064020481,\n",
              " 0.0010759377825111961,\n",
              " 0.0010754344346035362,\n",
              " 0.0010749320185690775,\n",
              " 0.0010744305326825959,\n",
              " 0.0010739299752220621,\n",
              " 0.0010734303444686348,\n",
              " 0.0010729316387066547,\n",
              " 0.0010724338562236385,\n",
              " 0.0010719369953102738,\n",
              " 0.0010714410542604126,\n",
              " 0.0010709460313710652,\n",
              " 0.0010704519249423955,\n",
              " 0.0010699587332777137,\n",
              " 0.0010694664546834712,\n",
              " 0.0010689750874692554,\n",
              " 0.0010684846299477825,\n",
              " 0.0010679950804348927,\n",
              " 0.001067506437249544,\n",
              " 0.0010670186987138078,\n",
              " 0.0010665318631528594,\n",
              " 0.0010660459288949777,\n",
              " 0.0010655608942715348,\n",
              " 0.0010650767576169918,\n",
              " 0.0010645935172688946,\n",
              " 0.0010641111715678658,\n",
              " 0.0010636297188576008,\n",
              " 0.0010631491574848604,\n",
              " 0.0010626694857994675,\n",
              " 0.0010621907021542989,\n",
              " 0.0010617128049052816,\n",
              " 0.0010612357924113852,\n",
              " 0.001060759663034619,\n",
              " 0.001060284415140024,\n",
              " 0.0010598100470956676,\n",
              " 0.0010593365572726396,\n",
              " 0.0010588639440450443,\n",
              " 0.0010583922057899968,\n",
              " 0.0010579213408876166,\n",
              " 0.0010574513477210226,\n",
              " 0.0010569822246763257,\n",
              " 0.0010565139701426264,\n",
              " 0.0010560465825120067,\n",
              " 0.0010555800601795254,\n",
              " 0.0010551144015432125,\n",
              " 0.0010546496050040642,\n",
              " 0.0010541856689660369,\n",
              " 0.0010537225918360415,\n",
              " 0.0010532603720239387,\n",
              " 0.0010527990079425332,\n",
              " 0.0010523384980075671,\n",
              " 0.001051878840637717,\n",
              " 0.0010514200342545863,\n",
              " 0.0010509620772827005,\n",
              " 0.0010505049681495018,\n",
              " 0.0010500487052853445,\n",
              " 0.0010495932871234879,\n",
              " 0.0010491387121000925,\n",
              " 0.0010486849786542137,\n",
              " 0.0010482320852277967,\n",
              " 0.0010477800302656718,\n",
              " 0.0010473288122155476,\n",
              " 0.0010468784295280073,\n",
              " 0.0010464288806565027,\n",
              " 0.0010459801640573475,\n",
              " 0.0010455322781897146,\n",
              " 0.0010450852215156293,\n",
              " 0.0010446389924999638,\n",
              " 0.0010441935896104324,\n",
              " 0.001043749011317587,\n",
              " 0.0010433052560948099,\n",
              " 0.0010428623224183105,\n",
              " 0.0010424202087671191,\n",
              " 0.0010419789136230813,\n",
              " 0.0010415384354708543,\n",
              " 0.0010410987727979002,\n",
              " 0.0010406599240944813,\n",
              " 0.0010402218878536548,\n",
              " 0.001039784662571268,\n",
              " 0.001039348246745953,\n",
              " 0.0010389126388791214,\n",
              " 0.0010384778374749595,\n",
              " 0.001038043841040422,\n",
              " 0.0010376106480852285,\n",
              " 0.0010371782571218576,\n",
              " 0.0010367466666655412,\n",
              " 0.0010363158752342613,\n",
              " 0.0010358858813487419,\n",
              " 0.0010354566835324471,\n",
              " 0.0010350282803115742,\n",
              " 0.0010346006702150485,\n",
              " 0.0010341738517745192,\n",
              " 0.001033747823524354,\n",
              " 0.0010333225840016339,\n",
              " 0.001032898131746148,\n",
              " 0.0010324744653003894,\n",
              " 0.001032051583209549,\n",
              " 0.0010316294840215113,\n",
              " 0.0010312081662868491,\n",
              " 0.0010307876285588185,\n",
              " 0.0010303678693933545,\n",
              " 0.0010299488873490646,\n",
              " 0.001029530680987226,\n",
              " 0.0010291132488717788,\n",
              " 0.001028696589569322,\n",
              " 0.0010282807016491074,\n",
              " 0.0010278655836830372,\n",
              " 0.0010274512342456563,\n",
              " 0.0010270376519141496,\n",
              " 0.001026624835268335,\n",
              " 0.0010262127828906602,\n",
              " 0.001025801493366198,\n",
              " 0.001025390965282639,\n",
              " 0.0010249811972302902,\n",
              " 0.0010245721878020674,\n",
              " 0.001024163935593492,\n",
              " 0.0010237564392026853,\n",
              " 0.0010233496972303637,\n",
              " 0.0010229437082798349,\n",
              " 0.0010225384709569919,\n",
              " 0.0010221339838703083,\n",
              " 0.0010217302456308345,\n",
              " 0.001021327254852192,\n",
              " 0.0010209250101505694,\n",
              " 0.001020523510144717,\n",
              " 0.0010201227534559418,\n",
              " 0.0010197227387081038,\n",
              " 0.0010193234645276105,\n",
              " 0.001018924929543413,\n",
              " 0.0010185271323869998,\n",
              " 0.001018130071692393,\n",
              " 0.0010177337460961443,\n",
              " 0.0010173381542373295,\n",
              " 0.0010169432947575434,\n",
              " ...]"
            ]
          },
          "execution_count": 14,
          "metadata": {},
          "output_type": "execute_result"
        }
      ],
      "source": [
        "J_history"
      ]
    },
    {
      "cell_type": "markdown",
      "metadata": {
        "id": "1EPaTC6GC4lS",
        "nbgrader": {
          "grade": false,
          "grade_id": "cell-86125cd57f0fdb89",
          "locked": true,
          "schema_version": 1,
          "solution": false
        }
      },
      "source": [
        "You can evaluate the learning process by monitoring the loss as training progress. In the following graph, we visualize the loss as a function of the iterations. This is possible since we are saving the loss value at every iteration in the `J_history` array. This visualization might help you find problems with your code. Notice that since the network converges quickly, we are using logarithmic scale for the number of iterations."
      ]
    },
    {
      "cell_type": "code",
      "execution_count": 15,
      "metadata": {
        "id": "laQF0rByC4lS",
        "nbgrader": {
          "grade": false,
          "grade_id": "cell-a565f1f721f6377f",
          "locked": true,
          "schema_version": 1,
          "solution": false
        }
      },
      "outputs": [
        {
          "data": {
            "image/png": "[encoded data removed]",
            "text/plain": [
              "<Figure size 640x480 with 1 Axes>"
            ]
          },
          "metadata": {},
          "output_type": "display_data"
        }
      ],
      "source": [
        "plt.plot(np.arange(iterations), J_history)\n",
        "plt.xscale('log')\n",
        "plt.xlabel('Iterations')\n",
        "plt.ylabel('Loss')\n",
        "plt.title('Loss as a function of iterations')\n",
        "plt.show()"
      ]
    },
    {
      "cell_type": "markdown",
      "metadata": {
        "id": "9D4VkMrrC4lT",
        "nbgrader": {
          "grade": false,
          "grade_id": "cell-3bdd058ecc5db0eb",
          "locked": true,
          "schema_version": 1,
          "solution": false
        }
      },
      "source": [
        "The pseudo inverse solution is a direct approach to finding the best-fitting parameters of the linear model. In your implementation, **do not use `np.linalg.pinv`**. Instead, use only direct matrix multiplication as you saw in class (you can calculate the inverse of a matrix using `np.linalg.inv`).\n",
        "\n",
        "---\n",
        "Open `hw1.py` and complete the function `compute_pinv`. (10 points)"
      ]
    },
    {
      "cell_type": "code",
      "execution_count": 16,
      "metadata": {
        "id": "m5lonkWZC4lT"
      },
      "outputs": [],
      "source": [
        "from hw1 import compute_pinv"
      ]
    },
    {
      "cell_type": "code",
      "execution_count": 17,
      "metadata": {
        "id": "CCqKnjwOC4lT",
        "nbgrader": {
          "grade": false,
          "grade_id": "cell-ee89ac06af3087ae",
          "locked": true,
          "schema_version": 1,
          "solution": false
        }
      },
      "outputs": [],
      "source": [
        "theta_pinv = compute_pinv(X_train ,y_train)\n",
        "J_pinv = compute_cost(X_train, y_train, theta_pinv)"
      ]
    },
    {
      "cell_type": "code",
      "execution_count": 18,
      "metadata": {},
      "outputs": [
        {
          "data": {
            "text/plain": [
              "array([1.94301549e-04, 4.08751964e-01])"
            ]
          },
          "execution_count": 18,
          "metadata": {},
          "output_type": "execute_result"
        }
      ],
      "source": [
        "theta_pinv"
      ]
    },
    {
      "cell_type": "code",
      "execution_count": 19,
      "metadata": {},
      "outputs": [
        {
          "data": {
            "text/plain": [
              "0.0008040562476843768"
            ]
          },
          "execution_count": 19,
          "metadata": {},
          "output_type": "execute_result"
        }
      ],
      "source": [
        "J_pinv"
      ]
    },
    {
      "cell_type": "markdown",
      "metadata": {
        "id": "JUVTqa94C4lk"
      },
      "source": [
        "We can add the loss value for the theta calculated using the psuedo-inverse to our graph. This is another sanity check as the loss of our model should converge to the psuedo-inverse loss."
      ]
    },
    {
      "cell_type": "code",
      "execution_count": 20,
      "metadata": {
        "id": "P4GlE9VpC4lk",
        "nbgrader": {
          "grade": false,
          "grade_id": "cell-639b53fc41479335",
          "locked": true,
          "schema_version": 1,
          "solution": false
        }
      },
      "outputs": [
        {
          "data": {
            "image/png": "[encoded data removed]",
            "text/plain": [
              "<Figure size 640x480 with 1 Axes>"
            ]
          },
          "metadata": {},
          "output_type": "display_data"
        }
      ],
      "source": [
        "plt.plot(np.arange(len(J_history)), J_history)\n",
        "plt.xscale('log')\n",
        "plt.xlabel('Iterations')\n",
        "plt.ylabel('Loss')\n",
        "plt.title('Loss as a function of iterations')\n",
        "plt.hlines(y = J_pinv, xmin = 0, xmax = len(J_history), color='r',\n",
        "           linewidth = 1, linestyle = 'dashed')\n",
        "plt.show()"
      ]
    },
    {
      "cell_type": "markdown",
      "metadata": {
        "id": "Ct343icPC4lk",
        "nbgrader": {
          "grade": false,
          "grade_id": "cell-5043aa5363cbe5c9",
          "locked": true,
          "schema_version": 1,
          "solution": false
        }
      },
      "source": [
        "We can use a better approach for the implementation of `gradient_descent`. Instead of performing 40,000 iterations, we wish to stop when the improvement of the loss value is smaller than `1e-8` from one iteration to the next.\n",
        "\n",
        "The learning rate is another factor that determines the performance of our model in terms of speed and accuracy. Complete the function `find_best_alpha`. Make sure you use the training dataset to learn the parameters (thetas) and use those parameters with the validation dataset to compute the cost.\n",
        "\n",
        "**After implementing `efficient_gradient_descent` and finding the best alpha value, use them for the rest of the exercise.**\n",
        "\n",
        "---\n",
        "Open `hw1.py` and complete the function `efficient_gradient_descent` and `find_best_alpha`. (5 points each)"
      ]
    },
    {
      "cell_type": "code",
      "execution_count": 21,
      "metadata": {
        "id": "mhNMVntmC4lk"
      },
      "outputs": [],
      "source": [
        "from hw1 import efficient_gradient_descent, find_best_alpha"
      ]
    },
    {
      "cell_type": "code",
      "execution_count": 22,
      "metadata": {
        "id": "JTpAW1XZC4lk",
        "nbgrader": {
          "grade": false,
          "grade_id": "cell-a8b088fe7a10910a",
          "locked": true,
          "schema_version": 1,
          "solution": false
        }
      },
      "outputs": [
        {
          "name": "stderr",
          "output_type": "stream",
          "text": [
            "/opt/anaconda3/lib/python3.12/site-packages/numpy/core/fromnumeric.py:88: RuntimeWarning: overflow encountered in reduce\n",
            "  return ufunc.reduce(obj, axis, dtype, out, **passkwargs)\n"
          ]
        }
      ],
      "source": [
        "alpha_dict = find_best_alpha(X_train, y_train, X_val, y_val, 40000)"
      ]
    },
    {
      "cell_type": "code",
      "execution_count": 23,
      "metadata": {},
      "outputs": [
        {
          "data": {
            "text/plain": [
              "{1e-05: 0.0013732996298951707,\n",
              " 3e-05: 0.0013732991783727835,\n",
              " 0.0001: 0.0013732975980414808,\n",
              " 0.0003: 0.0013732930827839037,\n",
              " 0.001: 0.001165682839567445,\n",
              " 0.003: 0.0008490542925908263,\n",
              " 0.01: 0.000743700333106861,\n",
              " 0.03: 0.0007164468423525541,\n",
              " 0.1: 0.0007086420041979611,\n",
              " 0.3: 0.0007073219698654301,\n",
              " 1: 0.0007074187205587333,\n",
              " 2: 0.000708461763532936,\n",
              " 3: 3.6764095162145437e+304}"
            ]
          },
          "execution_count": 23,
          "metadata": {},
          "output_type": "execute_result"
        }
      ],
      "source": [
        "alpha_dict"
      ]
    },
    {
      "cell_type": "markdown",
      "metadata": {
        "id": "RmtmsqkfC4lk",
        "nbgrader": {
          "grade": false,
          "grade_id": "cell-5bd93130c022d3e1",
          "locked": true,
          "schema_version": 1,
          "solution": false
        }
      },
      "source": [
        "We can now obtain the best learning rate from the dictionary `alpha_dict` in a single line."
      ]
    },
    {
      "cell_type": "code",
      "execution_count": 24,
      "metadata": {
        "id": "gv2RTAR_C4ll",
        "nbgrader": {
          "grade": false,
          "grade_id": "cell-4f81cf375ac46b73",
          "locked": false,
          "schema_version": 1,
          "solution": true
        }
      },
      "outputs": [
        {
          "name": "stdout",
          "output_type": "stream",
          "text": [
            "0.3\n"
          ]
        }
      ],
      "source": [
        "best_alpha = min(alpha_dict, key=alpha_dict.get)\n",
        "print(best_alpha)"
      ]
    },
    {
      "cell_type": "markdown",
      "metadata": {
        "id": "g-eoydDNC4ll",
        "nbgrader": {
          "grade": false,
          "grade_id": "cell-d16367ecb7183996",
          "locked": true,
          "schema_version": 1,
          "solution": false
        }
      },
      "source": [
        "The following code gets the best three alpha values you just calculated and provides a graph with three lines indicating the training loss as a function of iterations. Use it as a test for your implementation. You can change this code as you see fit."
      ]
    },
    {
      "cell_type": "code",
      "execution_count": 25,
      "metadata": {
        "id": "ANx9d_VNC4ll",
        "nbgrader": {
          "grade": true,
          "grade_id": "cell-448638e817503ca3",
          "locked": false,
          "points": 0,
          "schema_version": 1,
          "solution": true
        }
      },
      "outputs": [
        {
          "data": {
            "image/png": "[encoded data removed]",
            "text/plain": [
              "<Figure size 640x480 with 1 Axes>"
            ]
          },
          "metadata": {},
          "output_type": "display_data"
        }
      ],
      "source": [
        "top_3_alphas = sorted([(value, key) for key, value in alpha_dict.items()], reverse=False)[:3]\n",
        "top_3_alphas = [x[1] for x in top_3_alphas]\n",
        "\n",
        "histories = []\n",
        "for alpha in top_3_alphas:\n",
        "    params = np.random.random(size=2)\n",
        "    _, J_history = gradient_descent(X_train ,y_train, params, alpha, num_iters=10000)\n",
        "    histories.append(J_history)\n",
        "\n",
        "for i, (alpha, color) in enumerate(zip(top_3_alphas, ['b','g','r'])):\n",
        "    plt.plot(np.arange(10000), histories[i], color, label='alpha='+str(alpha))\n",
        "\n",
        "plt.xscale('log')\n",
        "plt.ylim(0, 0.005)\n",
        "plt.xlabel('Iterations')\n",
        "plt.ylabel('Loss')\n",
        "plt.title('Loss as a function of iterations')\n",
        "plt.legend()\n",
        "plt.show()\n"
      ]
    },
    {
      "cell_type": "markdown",
      "metadata": {
        "id": "OS9K79UdC4ll",
        "nbgrader": {
          "grade": false,
          "grade_id": "cell-b73893d236bff1d5",
          "locked": true,
          "schema_version": 1,
          "solution": false
        }
      },
      "source": [
        "This is yet another check. This function plots the regression lines of your model and the model based on the pseudoinverse calculation. Both models should exhibit the same trend through the data."
      ]
    },
    {
      "cell_type": "code",
      "execution_count": 26,
      "metadata": {
        "id": "SG3I3VS5C4ll",
        "nbgrader": {
          "grade": false,
          "grade_id": "cell-c7ee7d8763464371",
          "locked": true,
          "schema_version": 1,
          "solution": false
        }
      },
      "outputs": [
        {
          "data": {
            "image/png": "[encoded data removed]",
            "text/plain": [
              "<Figure size 700x700 with 1 Axes>"
            ]
          },
          "metadata": {},
          "output_type": "display_data"
        }
      ],
      "source": [
        "plt.figure(figsize=(7, 7))\n",
        "plt.plot(X_train[:,1], y_train, 'ro', ms=1, mec='k')\n",
        "plt.ylabel('Price in USD')\n",
        "plt.xlabel('sq.ft')\n",
        "plt.plot(X_train[:, 1], np.dot(X_train, theta), 'o')\n",
        "plt.plot(X_train[:, 1], np.dot(X_train, theta_pinv), '-')\n",
        "\n",
        "plt.legend(['Training data', 'Linear regression', 'Best theta']);"
      ]
    },
    {
      "cell_type": "markdown",
      "metadata": {
        "id": "-BERdHQSC4ll",
        "nbgrader": {
          "grade": false,
          "grade_id": "cell-e77c602466fab37d",
          "locked": true,
          "schema_version": 1,
          "solution": false
        }
      },
      "source": [
        "## Part 2: Multivariate Linear Regression\n",
        "\n",
        "In most cases, you will deal with datasets that have more than one feature. It can be as little as two features and up to thousands of features. In those cases, we use a multivariate linear regression model. The regression equation is almost the same as the simple linear regression equation:\n",
        "\n",
        "$$\n",
        "\\hat{y} = h_\\theta(\\vec{x}) = \\theta^T \\vec{x} = \\theta_0 + \\theta_1 x_1 + ... + \\theta_n x_n\n",
        "$$\n",
        "\n",
        "\n",
        "If you wrote proper vectorized code, this part should be trivial and work without changes. If this is not the case, you should go back and edit your functions such that they support both multivariate and single variable regression. **Your code should not check the dimensionality of the input before running**."
      ]
    },
    {
      "cell_type": "code",
      "execution_count": 27,
      "metadata": {
        "id": "C68wvrSqC4ll",
        "nbgrader": {
          "grade": false,
          "grade_id": "cell-15626dda8db26550",
          "locked": true,
          "schema_version": 1,
          "solution": false
        }
      },
      "outputs": [
        {
          "data": {
            "text/html": [
              "<div>\n",
              "<style scoped>\n",
              "    .dataframe tbody tr th:only-of-type {\n",
              "        vertical-align: middle;\n",
              "    }\n",
              "\n",
              "    .dataframe tbody tr th {\n",
              "        vertical-align: top;\n",
              "    }\n",
              "\n",
              "    .dataframe thead th {\n",
              "        text-align: right;\n",
              "    }\n",
              "</style>\n",
              "<table border=\"1\" class=\"dataframe\">\n",
              "  <thead>\n",
              "    <tr style=\"text-align: right;\">\n",
              "      <th></th>\n",
              "      <th>id</th>\n",
              "      <th>date</th>\n",
              "      <th>price</th>\n",
              "      <th>bedrooms</th>\n",
              "      <th>bathrooms</th>\n",
              "      <th>sqft_living</th>\n",
              "      <th>sqft_lot</th>\n",
              "      <th>floors</th>\n",
              "      <th>waterfront</th>\n",
              "      <th>view</th>\n",
              "      <th>condition</th>\n",
              "      <th>grade</th>\n",
              "      <th>sqft_above</th>\n",
              "      <th>yr_built</th>\n",
              "      <th>yr_renovated</th>\n",
              "      <th>zipcode</th>\n",
              "      <th>lat</th>\n",
              "      <th>long</th>\n",
              "      <th>sqft_living15</th>\n",
              "      <th>sqft_lot15</th>\n",
              "    </tr>\n",
              "  </thead>\n",
              "  <tbody>\n",
              "    <tr>\n",
              "      <th>0</th>\n",
              "      <td>7129300520</td>\n",
              "      <td>20141013T000000</td>\n",
              "      <td>221900.0</td>\n",
              "      <td>3</td>\n",
              "      <td>1.00</td>\n",
              "      <td>1180</td>\n",
              "      <td>5650</td>\n",
              "      <td>1.0</td>\n",
              "      <td>0</td>\n",
              "      <td>0</td>\n",
              "      <td>3</td>\n",
              "      <td>7</td>\n",
              "      <td>1180</td>\n",
              "      <td>1955</td>\n",
              "      <td>0</td>\n",
              "      <td>98178</td>\n",
              "      <td>47.5112</td>\n",
              "      <td>-122.257</td>\n",
              "      <td>1340</td>\n",
              "      <td>5650</td>\n",
              "    </tr>\n",
              "    <tr>\n",
              "      <th>1</th>\n",
              "      <td>6414100192</td>\n",
              "      <td>20141209T000000</td>\n",
              "      <td>538000.0</td>\n",
              "      <td>3</td>\n",
              "      <td>2.25</td>\n",
              "      <td>2570</td>\n",
              "      <td>7242</td>\n",
              "      <td>2.0</td>\n",
              "      <td>0</td>\n",
              "      <td>0</td>\n",
              "      <td>3</td>\n",
              "      <td>7</td>\n",
              "      <td>2170</td>\n",
              "      <td>1951</td>\n",
              "      <td>1991</td>\n",
              "      <td>98125</td>\n",
              "      <td>47.7210</td>\n",
              "      <td>-122.319</td>\n",
              "      <td>1690</td>\n",
              "      <td>7639</td>\n",
              "    </tr>\n",
              "    <tr>\n",
              "      <th>2</th>\n",
              "      <td>5631500400</td>\n",
              "      <td>20150225T000000</td>\n",
              "      <td>180000.0</td>\n",
              "      <td>2</td>\n",
              "      <td>1.00</td>\n",
              "      <td>770</td>\n",
              "      <td>10000</td>\n",
              "      <td>1.0</td>\n",
              "      <td>0</td>\n",
              "      <td>0</td>\n",
              "      <td>3</td>\n",
              "      <td>6</td>\n",
              "      <td>770</td>\n",
              "      <td>1933</td>\n",
              "      <td>0</td>\n",
              "      <td>98028</td>\n",
              "      <td>47.7379</td>\n",
              "      <td>-122.233</td>\n",
              "      <td>2720</td>\n",
              "      <td>8062</td>\n",
              "    </tr>\n",
              "    <tr>\n",
              "      <th>3</th>\n",
              "      <td>2487200875</td>\n",
              "      <td>20141209T000000</td>\n",
              "      <td>604000.0</td>\n",
              "      <td>4</td>\n",
              "      <td>3.00</td>\n",
              "      <td>1960</td>\n",
              "      <td>5000</td>\n",
              "      <td>1.0</td>\n",
              "      <td>0</td>\n",
              "      <td>0</td>\n",
              "      <td>5</td>\n",
              "      <td>7</td>\n",
              "      <td>1050</td>\n",
              "      <td>1965</td>\n",
              "      <td>0</td>\n",
              "      <td>98136</td>\n",
              "      <td>47.5208</td>\n",
              "      <td>-122.393</td>\n",
              "      <td>1360</td>\n",
              "      <td>5000</td>\n",
              "    </tr>\n",
              "    <tr>\n",
              "      <th>4</th>\n",
              "      <td>1954400510</td>\n",
              "      <td>20150218T000000</td>\n",
              "      <td>510000.0</td>\n",
              "      <td>3</td>\n",
              "      <td>2.00</td>\n",
              "      <td>1680</td>\n",
              "      <td>8080</td>\n",
              "      <td>1.0</td>\n",
              "      <td>0</td>\n",
              "      <td>0</td>\n",
              "      <td>3</td>\n",
              "      <td>8</td>\n",
              "      <td>1680</td>\n",
              "      <td>1987</td>\n",
              "      <td>0</td>\n",
              "      <td>98074</td>\n",
              "      <td>47.6168</td>\n",
              "      <td>-122.045</td>\n",
              "      <td>1800</td>\n",
              "      <td>7503</td>\n",
              "    </tr>\n",
              "  </tbody>\n",
              "</table>\n",
              "</div>"
            ],
            "text/plain": [
              "           id             date     price  bedrooms  bathrooms  sqft_living  \\\n",
              "0  7129300520  20141013T000000  221900.0         3       1.00         1180   \n",
              "1  6414100192  20141209T000000  538000.0         3       2.25         2570   \n",
              "2  5631500400  20150225T000000  180000.0         2       1.00          770   \n",
              "3  2487200875  20141209T000000  604000.0         4       3.00         1960   \n",
              "4  1954400510  20150218T000000  510000.0         3       2.00         1680   \n",
              "\n",
              "   sqft_lot  floors  waterfront  view  condition  grade  sqft_above  yr_built  \\\n",
              "0      5650     1.0           0     0          3      7        1180      1955   \n",
              "1      7242     2.0           0     0          3      7        2170      1951   \n",
              "2     10000     1.0           0     0          3      6         770      1933   \n",
              "3      5000     1.0           0     0          5      7        1050      1965   \n",
              "4      8080     1.0           0     0          3      8        1680      1987   \n",
              "\n",
              "   yr_renovated  zipcode      lat     long  sqft_living15  sqft_lot15  \n",
              "0             0    98178  47.5112 -122.257           1340        5650  \n",
              "1          1991    98125  47.7210 -122.319           1690        7639  \n",
              "2             0    98028  47.7379 -122.233           2720        8062  \n",
              "3             0    98136  47.5208 -122.393           1360        5000  \n",
              "4             0    98074  47.6168 -122.045           1800        7503  "
            ]
          },
          "execution_count": 27,
          "metadata": {},
          "output_type": "execute_result"
        }
      ],
      "source": [
        "# Read comma separated data\n",
        "df = pd.read_csv('data.csv')\n",
        "df.head()"
      ]
    },
    {
      "cell_type": "markdown",
      "metadata": {
        "id": "a4HSv79GC4lm",
        "nbgrader": {
          "grade": false,
          "grade_id": "cell-2dc0f4dc3491520c",
          "locked": true,
          "schema_version": 1,
          "solution": false
        }
      },
      "source": [
        "## Preprocessing\n",
        "\n",
        "Like in the single variable case, we need to create a numpy array from the dataframe. Before doing so, we should notice that some of the features are clearly irrelevant so we will go ahead and drop them."
      ]
    },
    {
      "cell_type": "code",
      "execution_count": 28,
      "metadata": {
        "id": "HizyhctMC4lm",
        "nbgrader": {
          "grade": true,
          "grade_id": "cell-a87b4027bd3bda4b",
          "locked": false,
          "points": 0,
          "schema_version": 1,
          "solution": true
        }
      },
      "outputs": [],
      "source": [
        "X = df.drop(columns=['price', 'id', 'date']).values\n",
        "y = df['price'].values"
      ]
    },
    {
      "cell_type": "markdown",
      "metadata": {
        "id": "Su3al4KAC4lm",
        "nbgrader": {
          "grade": false,
          "grade_id": "cell-1aa12f54513b1efa",
          "locked": true,
          "schema_version": 1,
          "solution": false
        }
      },
      "source": [
        "Use the same `preprocess` function you implemented previously. Notice that proper vectorized implementation should work regardless of the dimensionality of the input. You might want to check that your code in the previous parts still works."
      ]
    },
    {
      "cell_type": "code",
      "execution_count": 29,
      "metadata": {
        "id": "33uywsUvC4lm",
        "nbgrader": {
          "grade": false,
          "grade_id": "cell-f40a9df530db9399",
          "locked": true,
          "schema_version": 1,
          "solution": false
        }
      },
      "outputs": [],
      "source": [
        "# preprocessing\n",
        "X, y = preprocess(X, y)"
      ]
    },
    {
      "cell_type": "code",
      "execution_count": 30,
      "metadata": {
        "id": "bNhna2pBC4lm"
      },
      "outputs": [],
      "source": [
        "# training and validation split\n",
        "np.random.seed(42)\n",
        "indices = np.random.permutation(X.shape[0])\n",
        "idx_train, idx_val = indices[:int(0.8*X.shape[0])], indices[int(0.8*X.shape[0]):]\n",
        "X_train, X_val = X[idx_train,:], X[idx_val,:]\n",
        "y_train, y_val = y[idx_train], y[idx_val]"
      ]
    },
    {
      "cell_type": "markdown",
      "metadata": {
        "id": "JqNQx8tGC4lm"
      },
      "source": [
        "Using 3D visualization, we can still observe trends in the data. Visualizing additional dimensions requires advanced techniques we will learn later in the course."
      ]
    },
    {
      "cell_type": "code",
      "execution_count": 31,
      "metadata": {
        "id": "jtkqxZCXC4lm",
        "nbgrader": {
          "grade": false,
          "grade_id": "cell-0c68216a26a9b5af",
          "locked": true,
          "schema_version": 1,
          "solution": false
        }
      },
      "outputs": [
        {
          "data": {
            "text/plain": [
              "<Figure size 500x500 with 0 Axes>"
            ]
          },
          "metadata": {},
          "output_type": "display_data"
        }
      ],
      "source": [
        "%matplotlib inline\n",
        "import mpl_toolkits.mplot3d.axes3d as p3\n",
        "fig = plt.figure(figsize=(5,5))\n",
        "ax = p3.Axes3D(fig)\n",
        "xx = X_train[:, 1][:1000]\n",
        "yy = X_train[:, 2][:1000]\n",
        "zz = y_train[:1000]\n",
        "ax.scatter(xx, yy, zz, marker='o')\n",
        "ax.set_xlabel('bathrooms')\n",
        "ax.set_ylabel('sqft_living')\n",
        "ax.set_zlabel('price')\n",
        "plt.show()"
      ]
    },
    {
      "cell_type": "markdown",
      "metadata": {
        "id": "NpygsygcC4lm",
        "nbgrader": {
          "grade": false,
          "grade_id": "cell-70fcd47d69caea00",
          "locked": true,
          "schema_version": 1,
          "solution": false
        }
      },
      "source": [
        "Make sure the functions `apply_bias_trick`, `compute_cost`, `gradient_descent`, `efficient_gradient_descent` and `compute_pinv` work on the multi-dimensional dataset. If you make any changes, make sure your code still works on the single variable regression model."
      ]
    },
    {
      "cell_type": "code",
      "execution_count": 32,
      "metadata": {
        "id": "GnhxRZseC4lm",
        "nbgrader": {
          "grade": true,
          "grade_id": "cell-2985911f4b7af3e1",
          "locked": false,
          "points": 0,
          "schema_version": 1,
          "solution": true
        }
      },
      "outputs": [
        {
          "data": {
            "text/plain": [
              "((4000, 18), (1000, 18))"
            ]
          },
          "execution_count": 32,
          "metadata": {},
          "output_type": "execute_result"
        }
      ],
      "source": [
        "# bias trick\n",
        "X_train = apply_bias_trick(X_train)\n",
        "X_val = apply_bias_trick(X_val)\n",
        "\n",
        "X_train.shape, X_val.shape"
      ]
    },
    {
      "cell_type": "code",
      "execution_count": 33,
      "metadata": {
        "id": "0x3DcmBtC4ln",
        "nbgrader": {
          "grade": false,
          "grade_id": "cell-81ab741781b2f6ec",
          "locked": true,
          "schema_version": 1,
          "solution": false
        }
      },
      "outputs": [],
      "source": [
        "# calculating the cost\n",
        "shape = X_train.shape[1]\n",
        "theta = np.ones(shape)\n",
        "J = compute_cost(X_train, y_train, theta)"
      ]
    },
    {
      "cell_type": "code",
      "execution_count": 34,
      "metadata": {},
      "outputs": [
        {
          "data": {
            "text/plain": [
              "0.5015467076207576"
            ]
          },
          "execution_count": 34,
          "metadata": {},
          "output_type": "execute_result"
        }
      ],
      "source": [
        "J"
      ]
    },
    {
      "cell_type": "code",
      "execution_count": 35,
      "metadata": {
        "id": "5tjKilnoC4ln",
        "nbgrader": {
          "grade": false,
          "grade_id": "cell-6f25fb05bd6c648a",
          "locked": true,
          "schema_version": 1,
          "solution": false
        }
      },
      "outputs": [],
      "source": [
        "# running the efficient version of gradient descent\n",
        "np.random.seed(42)\n",
        "shape = X_train.shape[1]\n",
        "theta = np.random.random(shape)\n",
        "iterations = 40000\n",
        "theta, J_history = efficient_gradient_descent(X_train ,y_train, theta, best_alpha, iterations)"
      ]
    },
    {
      "cell_type": "code",
      "execution_count": 36,
      "metadata": {},
      "outputs": [
        {
          "data": {
            "text/plain": [
              "array([0.01992913, 0.95242493, 0.73370488, 0.60008585, 0.15327208,\n",
              "       0.15770553, 0.0597949 , 0.86788746, 0.60282556, 0.70978242,\n",
              "       0.02203621, 0.97119875, 0.83414905, 0.19299041, 0.18352605,\n",
              "       0.18514203, 0.3056263 , 0.52276999])"
            ]
          },
          "execution_count": 36,
          "metadata": {},
          "output_type": "execute_result"
        }
      ],
      "source": [
        "theta"
      ]
    },
    {
      "cell_type": "code",
      "execution_count": 37,
      "metadata": {},
      "outputs": [
        {
          "data": {
            "text/plain": [
              "[0.06487121363492453,\n",
              " 0.03249813918463355,\n",
              " 0.016680157753778378,\n",
              " 0.00895124696923606,\n",
              " 0.0051747793306956,\n",
              " 0.003329535625382702,\n",
              " 0.0024279173552980674,\n",
              " 0.0019873688495441444,\n",
              " 0.0017721060562136703,\n",
              " 0.0016669212956816023,\n",
              " 0.0016155223406436727,\n",
              " 0.001590403951299571,\n",
              " 0.001578126648475608,\n",
              " 0.0015721236979137686,\n",
              " 0.0015691864932191365,\n",
              " 0.0015677472604274003,\n",
              " 0.0015670399612957846,\n",
              " 0.0015666902978684544,\n",
              " 0.0015665153824614246,\n",
              " 0.0015664258533654239,\n",
              " 0.0015663780470871714,\n",
              " 0.0015663506289778726,\n",
              " 0.0015663331746023003,\n",
              " 0.00156632059042178,\n",
              " 0.0015663103876549015,\n",
              " 0.0015663013502443344]"
            ]
          },
          "execution_count": 37,
          "metadata": {},
          "output_type": "execute_result"
        }
      ],
      "source": [
        "J_history"
      ]
    },
    {
      "cell_type": "code",
      "execution_count": 38,
      "metadata": {
        "id": "asmLJI3sC4ln",
        "nbgrader": {
          "grade": false,
          "grade_id": "cell-827d1de1293be51f",
          "locked": true,
          "schema_version": 1,
          "solution": false
        }
      },
      "outputs": [],
      "source": [
        "# calculating the pseudoinverse\n",
        "theta_pinv = compute_pinv(X_train ,y_train)\n",
        "J_pinv = compute_cost(X_train, y_train, theta_pinv)"
      ]
    },
    {
      "cell_type": "code",
      "execution_count": 39,
      "metadata": {},
      "outputs": [
        {
          "data": {
            "text/plain": [
              "array([ 1.51958890e+03, -1.06773233e+04,  5.50522045e+03,  4.16192468e+01,\n",
              "        1.45139130e-03,  2.16595741e+02,  1.88588197e+05,  1.13600866e+04,\n",
              "        4.82846976e+03,  2.16046129e+04,  7.23737790e+00, -6.85822911e+02,\n",
              "        3.59439609e+00, -1.40762544e+02,  1.35976787e+05, -4.21569942e+04,\n",
              "        7.98670245e+00, -1.03333368e-01])"
            ]
          },
          "execution_count": 39,
          "metadata": {},
          "output_type": "execute_result"
        }
      ],
      "source": [
        "theta_pinv"
      ]
    },
    {
      "cell_type": "code",
      "execution_count": 40,
      "metadata": {},
      "outputs": [
        {
          "data": {
            "text/plain": [
              "0.00046987767553924786"
            ]
          },
          "execution_count": 40,
          "metadata": {},
          "output_type": "execute_result"
        }
      ],
      "source": [
        "J_pinv"
      ]
    },
    {
      "cell_type": "markdown",
      "metadata": {
        "id": "cwEWOPD6C4ln"
      },
      "source": [
        "We can use visualization to make sure the code works well. Notice we use logarithmic scale for the number of iterations, since gradient descent converges after ~500 iterations."
      ]
    },
    {
      "cell_type": "code",
      "execution_count": 41,
      "metadata": {
        "id": "r9uHXzPPC4ln",
        "nbgrader": {
          "grade": false,
          "grade_id": "cell-4fa207b72d2445c2",
          "locked": true,
          "schema_version": 1,
          "solution": false
        }
      },
      "outputs": [
        {
          "data": {
            "image/png": "[encoded data removed]",
            "text/plain": [
              "<Figure size 640x480 with 1 Axes>"
            ]
          },
          "metadata": {},
          "output_type": "display_data"
        }
      ],
      "source": [
        "plt.plot(np.arange(len(J_history)), J_history)\n",
        "plt.xscale('log')\n",
        "plt.xlabel('Iterations')\n",
        "plt.ylabel('Loss')\n",
        "plt.title('Loss as a function of iterations - multivariate linear regression')\n",
        "plt.hlines(y = J_pinv, xmin = 0, xmax = len(J_history), color='r',\n",
        "           linewidth = 1, linestyle = 'dashed')\n",
        "plt.show()"
      ]
    },
    {
      "cell_type": "markdown",
      "metadata": {
        "id": "JYznpcf9C4ln",
        "nbgrader": {
          "grade": false,
          "grade_id": "cell-cad652570cee3629",
          "locked": true,
          "schema_version": 1,
          "solution": false
        }
      },
      "source": [
        "## Part 3: Forward feature selection (15 points)\n",
        "\n",
        "Adding additional features to our regression model makes it more complicated but does not necessarily improves performance.\n",
        "\n",
        "Forward feature selection is a greedy, iterative algorithm used to select the most relevant features for a predictive model. The objective of this algorithm is to improve the model's performance by identifying and using only the most relevant features, potentially reducing overfitting, improving accuracy, and reducing computational cost.\n",
        "\n",
        "Implement forward feature selection using the following guidelines:\n",
        "1. Start with an empty set of selected features.\n",
        "1. For each feature not yet in the selected set, do the following:\n",
        "    1. Add the feature to the selected set temporarily.\n",
        "    1. Train a model using the current set of selected features and evaluate its performance by calculating the cost or error on a validation set.\n",
        "    1. Remove the temporarily added feature from the selected set.\n",
        "1. Choose the feature that resulted in the best model performance and permanently add it to the selected set.\n",
        "1. Repeat steps 2-3 until you have 5 features (not including the bias).\n",
        "\n",
        "---\n",
        "Open `hw1.py` and complete the function `forward_feature_selection`.\n",
        "\n",
        "**Note that you should use the inputs as provided in the next cell and don't forget to use the bias trick inside `forward_feature_selection`**."
      ]
    },
    {
      "cell_type": "code",
      "execution_count": 42,
      "metadata": {
        "id": "kYLquGP-C4ln"
      },
      "outputs": [],
      "source": [
        "df = pd.read_csv('data.csv')\n",
        "feature_names = df.drop(columns=['price', 'id', 'date']).columns.values\n",
        "X = df.drop(columns=['price', 'id', 'date']).values\n",
        "y = df['price'].values\n",
        "\n",
        "# preprocessing\n",
        "X, y = preprocess(X, y)\n",
        "\n",
        "# training and validation split\n",
        "np.random.seed(42)\n",
        "indices = np.random.permutation(X.shape[0])\n",
        "idx_train, idx_val = indices[:int(0.8*X.shape[0])], indices[int(0.8*X.shape[0]):]\n",
        "X_train, X_val = X[idx_train,:], X[idx_val,:]\n",
        "y_train, y_val = y[idx_train], y[idx_val]"
      ]
    },
    {
      "cell_type": "code",
      "execution_count": 43,
      "metadata": {
        "id": "RXFUVUCfC4ln"
      },
      "outputs": [],
      "source": [
        "from hw1 import forward_feature_selection"
      ]
    },
    {
      "cell_type": "code",
      "execution_count": 44,
      "metadata": {
        "id": "YPR6g7p1C4lo"
      },
      "outputs": [
        {
          "name": "stdout",
          "output_type": "stream",
          "text": [
            "sqft_lot\n",
            "sqft_living\n",
            "sqft_above\n",
            "yr_renovated\n",
            "yr_built\n"
          ]
        }
      ],
      "source": [
        "ffs = forward_feature_selection(X_train, y_train, X_val, y_val, best_alpha, iterations)\n",
        "for feature in ffs:\n",
        "    print(feature_names[feature])"
      ]
    },
    {
      "cell_type": "markdown",
      "metadata": {
        "id": "sYfegilHC4lo"
      },
      "source": [
        "## Part 4: Polynomial regression (15 points)\n",
        "\n",
        "Implement a function to create polynomial features up to a degree of 2 for given dataset. The function should take a pandas DataFrame as input and should return a new DataFrame with all possible square features, including the original features. When you create the new dataframe, make sure the feature names also represent the transformation performed. For example: `sqft_lot`, `yr_built^2`, `bedrooms*bathrooms`, ...\n",
        "\n",
        "After you obtain the polynomial dataframe, use forward feature selection and print the 5 best features.\n",
        "\n",
        "Open `hw1.py` and complete the function `create_square_features`."
      ]
    },
    {
      "cell_type": "code",
      "execution_count": 45,
      "metadata": {
        "id": "rqXNPoLDC4lo"
      },
      "outputs": [],
      "source": [
        "from hw1 import create_square_features"
      ]
    },
    {
      "cell_type": "code",
      "execution_count": 46,
      "metadata": {
        "id": "gRJFDhCgC4lo"
      },
      "outputs": [
        {
          "data": {
            "text/plain": [
              "((5000, 170), (5000,))"
            ]
          },
          "execution_count": 46,
          "metadata": {},
          "output_type": "execute_result"
        }
      ],
      "source": [
        "df = pd.read_csv('data.csv')\n",
        "\n",
        "y = df['price'].values\n",
        "df = df.drop(columns=['price', 'id', 'date'])\n",
        "df = df.astype('float64')\n",
        "df_poly = create_square_features(df)\n",
        "X = df_poly.values\n",
        "X.shape, y.shape"
      ]
    },
    {
      "cell_type": "code",
      "execution_count": 47,
      "metadata": {
        "id": "rU4XyIZoC4lo"
      },
      "outputs": [],
      "source": [
        "# preprocessing\n",
        "X, y = preprocess(X, y)"
      ]
    },
    {
      "cell_type": "code",
      "execution_count": 48,
      "metadata": {
        "id": "m6LdUmWcC4lo"
      },
      "outputs": [],
      "source": [
        "# training and validation split\n",
        "np.random.seed(42)\n",
        "indices = np.random.permutation(X.shape[0])\n",
        "idx_train, idx_val = indices[:int(0.8*X.shape[0])], indices[int(0.8*X.shape[0]):]\n",
        "X_train, X_val = X[idx_train,:], X[idx_val,:]\n",
        "y_train, y_val = y[idx_train], y[idx_val]"
      ]
    },
    {
      "cell_type": "code",
      "execution_count": 49,
      "metadata": {
        "id": "UpZ_FhMUC4lo"
      },
      "outputs": [
        {
          "data": {
            "text/plain": [
              "((4000, 170), (1000, 170), (4000,), (1000,))"
            ]
          },
          "execution_count": 49,
          "metadata": {},
          "output_type": "execute_result"
        }
      ],
      "source": [
        "X_train.shape, X_val.shape, y_train.shape, y_val.shape"
      ]
    },
    {
      "cell_type": "code",
      "execution_count": 50,
      "metadata": {
        "id": "8gi-yH5JC4lo"
      },
      "outputs": [],
      "source": [
        "feature_names = df_poly.columns.values"
      ]
    },
    {
      "cell_type": "code",
      "execution_count": 51,
      "metadata": {
        "id": "GmHd-dEeC4lo"
      },
      "outputs": [],
      "source": [
        "ffs = forward_feature_selection(X_train, y_train, X_val, y_val, best_alpha, iterations)"
      ]
    },
    {
      "cell_type": "code",
      "execution_count": 52,
      "metadata": {
        "id": "e893p4D3C4lo"
      },
      "outputs": [
        {
          "name": "stdout",
          "output_type": "stream",
          "text": [
            "sqft_lot^2\n",
            "sqft_lot*sqft_lot15\n",
            "sqft_lot*zipcode\n",
            "sqft_lot15^2\n",
            "zipcode*sqft_lot15\n"
          ]
        }
      ],
      "source": [
        "for feature in ffs:\n",
        "    print(feature_names[feature])"
      ]
    }
  ],
  "metadata": {
    "celltoolbar": "Create Assignment",
    "colab": {
      "provenance": []
    },
    "kernelspec": {
      "display_name": "base",
      "language": "python",
      "name": "python3"
    },
    "language_info": {
      "codemirror_mode": {
        "name": "ipython",
        "version": 3
      },
      "file_extension": ".py",
      "mimetype": "text/x-python",
      "name": "python",
      "nbconvert_exporter": "python",
      "pygments_lexer": "ipython3",
      "version": "3.12.4"
    }
  },
  "nbformat": 4,
  "nbformat_minor": 0
}
