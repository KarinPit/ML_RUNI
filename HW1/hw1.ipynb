{
  "cells": [
    {
      "cell_type": "markdown",
      "metadata": {
        "id": "psRAz819C4lN",
        "nbgrader": {
          "grade": false,
          "grade_id": "cell-35def0d0f4b47a0a",
          "locked": true,
          "schema_version": 1,
          "solution": false
        }
      },
      "source": [
        "# Exercise 1: Linear Regression\n",
        "\n",
        "## Do not start the exercise until you fully understand the submission guidelines.\n",
        "\n",
        "\n",
        "* The homework assignments are executed automatically.\n",
        "* Failure to comply with the following instructions will result in a significant penalty.\n",
        "* Appeals regarding your failure to read these instructions will be denied.\n",
        "* Kindly reminder: the homework assignments contribute 50% of the final grade.\n",
        "\n",
        "\n",
        "## Read the following instructions carefully:\n",
        "\n",
        "1. This Jupyter notebook contains all the step-by-step instructions needed for this exercise.\n",
        "1. Write **efficient**, **vectorized** code whenever possible. Some calculations in this exercise may take several minutes when implemented efficiently, and might take much longer otherwise. Unnecessary loops will result in point deductions.\n",
        "1. You are responsible for the correctness of your code and should add as many tests as you see fit to this jupyter notebook. Tests will not be graded nor checked.\n",
        "1. Complete the required functions in `hw1.py` script only. This exercise is graded automatically, and only the `hw1.py` script is tested.\n",
        "1. You are allowed to use functions and methods from the [Python Standard Library](https://docs.python.org/3/library/), numpy and pandas only. **Do not import anything else.**\n",
        "1. Your code must run without errors. Use at least `numpy` 1.15.4. Any code that cannot run will not be graded.\n",
        "1. Write your own code. Cheating will not be tolerated.\n",
        "1. Submission includes a zip file that contains the hw1.py script as well as this notebook, with your ID as the file name. For example, `hw1_123456789_987654321.zip` if you submitted in pairs and `hw1_123456789.zip` if you submitted the exercise alone.\n",
        "Please use only a **zip** file in your submission.\n",
        "\n",
        "---\n",
        "---\n",
        "\n",
        "## Please sign that you have read and understood the instructions:\n",
        "\n",
        "### 323842914, 208663120\n",
        "\n",
        "---\n",
        "---"
      ]
    },
    {
      "cell_type": "code",
      "execution_count": 53,
      "metadata": {
        "id": "9T8vs4R5C4lO",
        "nbgrader": {
          "grade": false,
          "grade_id": "cell-5ed0076cec86f623",
          "locked": true,
          "schema_version": 1,
          "solution": false
        }
      },
      "outputs": [
        {
          "name": "stdout",
          "output_type": "stream",
          "text": [
            "The autoreload extension is already loaded. To reload it, use:\n",
            "  %reload_ext autoreload\n"
          ]
        }
      ],
      "source": [
        "import numpy as np # used for scientific computing\n",
        "import pandas as pd # used for data analysis and manipulation\n",
        "import matplotlib.pyplot as plt # used for visualization and plotting\n",
        "np.random.seed(42)\n",
        "\n",
        "# make the notebook automatically reload external python modules\n",
        "%load_ext autoreload\n",
        "%autoreload 2"
      ]
    },
    {
      "cell_type": "markdown",
      "metadata": {
        "id": "ltcPY7z7C4lP",
        "nbgrader": {
          "grade": false,
          "grade_id": "cell-916f46de8cde2ca7",
          "locked": true,
          "schema_version": 1,
          "solution": false
        }
      },
      "source": [
        "## Part 1: Data Preprocessing (10 Points)\n",
        "\n",
        "For the following exercise, we will use a dataset containing housing prices in King County, USA. The dataset contains 5,000 observations with 18 features and a single target value - the house price.\n",
        "\n",
        "First, we will read and explore the data using pandas and the `.read_csv` method. Pandas is an open source library providing high-performance, easy-to-use data structures and data analysis tools for the Python programming language."
      ]
    },
    {
      "cell_type": "code",
      "execution_count": 54,
      "metadata": {
        "id": "0aTou443C4lP",
        "nbgrader": {
          "grade": false,
          "grade_id": "cell-9ef8b2769c2c1949",
          "locked": true,
          "schema_version": 1,
          "solution": false
        }
      },
      "outputs": [],
      "source": [
        "# Read comma separated data\n",
        "df = pd.read_csv('data.csv')\n",
        "# df stands for dataframe, which is the default format for datasets in pandas"
      ]
    },
    {
      "cell_type": "markdown",
      "metadata": {
        "id": "y8JnBC9OC4lP",
        "nbgrader": {
          "grade": false,
          "grade_id": "cell-6966afc155aa6616",
          "locked": true,
          "schema_version": 1,
          "solution": false
        }
      },
      "source": [
        "### Data Exploration\n",
        "A good practice in any data-oriented project is to first try and understand the data. Fortunately, pandas is built for that purpose. Start by looking at the top of the dataset using the `df.head()` command. This will be the first indication that you read your data properly, and that the headers are correct. Next, you can use `df.describe()` to show statistics on the data and check for trends and irregularities."
      ]
    },
    {
      "cell_type": "code",
      "execution_count": 55,
      "metadata": {
        "id": "KMGGRHVcC4lQ"
      },
      "outputs": [
        {
          "data": {
            "text/html": [
              "<div>\n",
              "<style scoped>\n",
              "    .dataframe tbody tr th:only-of-type {\n",
              "        vertical-align: middle;\n",
              "    }\n",
              "\n",
              "    .dataframe tbody tr th {\n",
              "        vertical-align: top;\n",
              "    }\n",
              "\n",
              "    .dataframe thead th {\n",
              "        text-align: right;\n",
              "    }\n",
              "</style>\n",
              "<table border=\"1\" class=\"dataframe\">\n",
              "  <thead>\n",
              "    <tr style=\"text-align: right;\">\n",
              "      <th></th>\n",
              "      <th>id</th>\n",
              "      <th>date</th>\n",
              "      <th>price</th>\n",
              "      <th>bedrooms</th>\n",
              "      <th>bathrooms</th>\n",
              "      <th>sqft_living</th>\n",
              "      <th>sqft_lot</th>\n",
              "      <th>floors</th>\n",
              "      <th>waterfront</th>\n",
              "      <th>view</th>\n",
              "      <th>condition</th>\n",
              "      <th>grade</th>\n",
              "      <th>sqft_above</th>\n",
              "      <th>yr_built</th>\n",
              "      <th>yr_renovated</th>\n",
              "      <th>zipcode</th>\n",
              "      <th>lat</th>\n",
              "      <th>long</th>\n",
              "      <th>sqft_living15</th>\n",
              "      <th>sqft_lot15</th>\n",
              "    </tr>\n",
              "  </thead>\n",
              "  <tbody>\n",
              "    <tr>\n",
              "      <th>0</th>\n",
              "      <td>7129300520</td>\n",
              "      <td>20141013T000000</td>\n",
              "      <td>221900.0</td>\n",
              "      <td>3</td>\n",
              "      <td>1.00</td>\n",
              "      <td>1180</td>\n",
              "      <td>5650</td>\n",
              "      <td>1.0</td>\n",
              "      <td>0</td>\n",
              "      <td>0</td>\n",
              "      <td>3</td>\n",
              "      <td>7</td>\n",
              "      <td>1180</td>\n",
              "      <td>1955</td>\n",
              "      <td>0</td>\n",
              "      <td>98178</td>\n",
              "      <td>47.5112</td>\n",
              "      <td>-122.257</td>\n",
              "      <td>1340</td>\n",
              "      <td>5650</td>\n",
              "    </tr>\n",
              "    <tr>\n",
              "      <th>1</th>\n",
              "      <td>6414100192</td>\n",
              "      <td>20141209T000000</td>\n",
              "      <td>538000.0</td>\n",
              "      <td>3</td>\n",
              "      <td>2.25</td>\n",
              "      <td>2570</td>\n",
              "      <td>7242</td>\n",
              "      <td>2.0</td>\n",
              "      <td>0</td>\n",
              "      <td>0</td>\n",
              "      <td>3</td>\n",
              "      <td>7</td>\n",
              "      <td>2170</td>\n",
              "      <td>1951</td>\n",
              "      <td>1991</td>\n",
              "      <td>98125</td>\n",
              "      <td>47.7210</td>\n",
              "      <td>-122.319</td>\n",
              "      <td>1690</td>\n",
              "      <td>7639</td>\n",
              "    </tr>\n",
              "    <tr>\n",
              "      <th>2</th>\n",
              "      <td>5631500400</td>\n",
              "      <td>20150225T000000</td>\n",
              "      <td>180000.0</td>\n",
              "      <td>2</td>\n",
              "      <td>1.00</td>\n",
              "      <td>770</td>\n",
              "      <td>10000</td>\n",
              "      <td>1.0</td>\n",
              "      <td>0</td>\n",
              "      <td>0</td>\n",
              "      <td>3</td>\n",
              "      <td>6</td>\n",
              "      <td>770</td>\n",
              "      <td>1933</td>\n",
              "      <td>0</td>\n",
              "      <td>98028</td>\n",
              "      <td>47.7379</td>\n",
              "      <td>-122.233</td>\n",
              "      <td>2720</td>\n",
              "      <td>8062</td>\n",
              "    </tr>\n",
              "    <tr>\n",
              "      <th>3</th>\n",
              "      <td>2487200875</td>\n",
              "      <td>20141209T000000</td>\n",
              "      <td>604000.0</td>\n",
              "      <td>4</td>\n",
              "      <td>3.00</td>\n",
              "      <td>1960</td>\n",
              "      <td>5000</td>\n",
              "      <td>1.0</td>\n",
              "      <td>0</td>\n",
              "      <td>0</td>\n",
              "      <td>5</td>\n",
              "      <td>7</td>\n",
              "      <td>1050</td>\n",
              "      <td>1965</td>\n",
              "      <td>0</td>\n",
              "      <td>98136</td>\n",
              "      <td>47.5208</td>\n",
              "      <td>-122.393</td>\n",
              "      <td>1360</td>\n",
              "      <td>5000</td>\n",
              "    </tr>\n",
              "    <tr>\n",
              "      <th>4</th>\n",
              "      <td>1954400510</td>\n",
              "      <td>20150218T000000</td>\n",
              "      <td>510000.0</td>\n",
              "      <td>3</td>\n",
              "      <td>2.00</td>\n",
              "      <td>1680</td>\n",
              "      <td>8080</td>\n",
              "      <td>1.0</td>\n",
              "      <td>0</td>\n",
              "      <td>0</td>\n",
              "      <td>3</td>\n",
              "      <td>8</td>\n",
              "      <td>1680</td>\n",
              "      <td>1987</td>\n",
              "      <td>0</td>\n",
              "      <td>98074</td>\n",
              "      <td>47.6168</td>\n",
              "      <td>-122.045</td>\n",
              "      <td>1800</td>\n",
              "      <td>7503</td>\n",
              "    </tr>\n",
              "  </tbody>\n",
              "</table>\n",
              "</div>"
            ],
            "text/plain": [
              "           id             date     price  bedrooms  bathrooms  sqft_living  \\\n",
              "0  7129300520  20141013T000000  221900.0         3       1.00         1180   \n",
              "1  6414100192  20141209T000000  538000.0         3       2.25         2570   \n",
              "2  5631500400  20150225T000000  180000.0         2       1.00          770   \n",
              "3  2487200875  20141209T000000  604000.0         4       3.00         1960   \n",
              "4  1954400510  20150218T000000  510000.0         3       2.00         1680   \n",
              "\n",
              "   sqft_lot  floors  waterfront  view  condition  grade  sqft_above  yr_built  \\\n",
              "0      5650     1.0           0     0          3      7        1180      1955   \n",
              "1      7242     2.0           0     0          3      7        2170      1951   \n",
              "2     10000     1.0           0     0          3      6         770      1933   \n",
              "3      5000     1.0           0     0          5      7        1050      1965   \n",
              "4      8080     1.0           0     0          3      8        1680      1987   \n",
              "\n",
              "   yr_renovated  zipcode      lat     long  sqft_living15  sqft_lot15  \n",
              "0             0    98178  47.5112 -122.257           1340        5650  \n",
              "1          1991    98125  47.7210 -122.319           1690        7639  \n",
              "2             0    98028  47.7379 -122.233           2720        8062  \n",
              "3             0    98136  47.5208 -122.393           1360        5000  \n",
              "4             0    98074  47.6168 -122.045           1800        7503  "
            ]
          },
          "execution_count": 55,
          "metadata": {},
          "output_type": "execute_result"
        }
      ],
      "source": [
        "df.head(5)"
      ]
    },
    {
      "cell_type": "code",
      "execution_count": 56,
      "metadata": {
        "id": "WWjtSNkRC4lQ",
        "nbgrader": {
          "grade": true,
          "grade_id": "cell-5bd0d6844b64ea1a",
          "locked": false,
          "points": 1,
          "schema_version": 1,
          "solution": true
        }
      },
      "outputs": [
        {
          "data": {
            "text/html": [
              "<div>\n",
              "<style scoped>\n",
              "    .dataframe tbody tr th:only-of-type {\n",
              "        vertical-align: middle;\n",
              "    }\n",
              "\n",
              "    .dataframe tbody tr th {\n",
              "        vertical-align: top;\n",
              "    }\n",
              "\n",
              "    .dataframe thead th {\n",
              "        text-align: right;\n",
              "    }\n",
              "</style>\n",
              "<table border=\"1\" class=\"dataframe\">\n",
              "  <thead>\n",
              "    <tr style=\"text-align: right;\">\n",
              "      <th></th>\n",
              "      <th>id</th>\n",
              "      <th>price</th>\n",
              "      <th>bedrooms</th>\n",
              "      <th>bathrooms</th>\n",
              "      <th>sqft_living</th>\n",
              "      <th>sqft_lot</th>\n",
              "      <th>floors</th>\n",
              "      <th>waterfront</th>\n",
              "      <th>view</th>\n",
              "      <th>condition</th>\n",
              "      <th>grade</th>\n",
              "      <th>sqft_above</th>\n",
              "      <th>yr_built</th>\n",
              "      <th>yr_renovated</th>\n",
              "      <th>zipcode</th>\n",
              "      <th>lat</th>\n",
              "      <th>long</th>\n",
              "      <th>sqft_living15</th>\n",
              "      <th>sqft_lot15</th>\n",
              "    </tr>\n",
              "  </thead>\n",
              "  <tbody>\n",
              "    <tr>\n",
              "      <th>count</th>\n",
              "      <td>5.000000e+03</td>\n",
              "      <td>5.000000e+03</td>\n",
              "      <td>5000.0000</td>\n",
              "      <td>5000.000000</td>\n",
              "      <td>5000.000000</td>\n",
              "      <td>5.000000e+03</td>\n",
              "      <td>5000.000000</td>\n",
              "      <td>5000.000000</td>\n",
              "      <td>5000.000000</td>\n",
              "      <td>5000.000000</td>\n",
              "      <td>5000.000000</td>\n",
              "      <td>5000.000000</td>\n",
              "      <td>5000.000000</td>\n",
              "      <td>5000.000000</td>\n",
              "      <td>5000.000000</td>\n",
              "      <td>5000.000000</td>\n",
              "      <td>5000.000000</td>\n",
              "      <td>5000.00000</td>\n",
              "      <td>5000.000000</td>\n",
              "    </tr>\n",
              "    <tr>\n",
              "      <th>mean</th>\n",
              "      <td>4.630823e+09</td>\n",
              "      <td>5.394699e+05</td>\n",
              "      <td>3.3714</td>\n",
              "      <td>2.062150</td>\n",
              "      <td>2061.036800</td>\n",
              "      <td>1.615893e+04</td>\n",
              "      <td>1.432600</td>\n",
              "      <td>0.009400</td>\n",
              "      <td>0.243000</td>\n",
              "      <td>3.455000</td>\n",
              "      <td>7.595200</td>\n",
              "      <td>1753.151000</td>\n",
              "      <td>1966.660800</td>\n",
              "      <td>95.052800</td>\n",
              "      <td>98078.812600</td>\n",
              "      <td>47.559312</td>\n",
              "      <td>-122.215864</td>\n",
              "      <td>1976.84520</td>\n",
              "      <td>13451.164600</td>\n",
              "    </tr>\n",
              "    <tr>\n",
              "      <th>std</th>\n",
              "      <td>2.870890e+09</td>\n",
              "      <td>3.873115e+05</td>\n",
              "      <td>0.9104</td>\n",
              "      <td>0.773592</td>\n",
              "      <td>923.727509</td>\n",
              "      <td>4.600220e+04</td>\n",
              "      <td>0.510793</td>\n",
              "      <td>0.096506</td>\n",
              "      <td>0.774643</td>\n",
              "      <td>0.677692</td>\n",
              "      <td>1.166537</td>\n",
              "      <td>818.390844</td>\n",
              "      <td>28.286855</td>\n",
              "      <td>425.234932</td>\n",
              "      <td>54.126332</td>\n",
              "      <td>0.139521</td>\n",
              "      <td>0.141807</td>\n",
              "      <td>674.73601</td>\n",
              "      <td>26514.749009</td>\n",
              "    </tr>\n",
              "    <tr>\n",
              "      <th>min</th>\n",
              "      <td>1.000102e+06</td>\n",
              "      <td>7.500000e+04</td>\n",
              "      <td>0.0000</td>\n",
              "      <td>0.000000</td>\n",
              "      <td>380.000000</td>\n",
              "      <td>6.090000e+02</td>\n",
              "      <td>1.000000</td>\n",
              "      <td>0.000000</td>\n",
              "      <td>0.000000</td>\n",
              "      <td>1.000000</td>\n",
              "      <td>3.000000</td>\n",
              "      <td>380.000000</td>\n",
              "      <td>1900.000000</td>\n",
              "      <td>0.000000</td>\n",
              "      <td>98001.000000</td>\n",
              "      <td>47.155900</td>\n",
              "      <td>-122.514000</td>\n",
              "      <td>620.00000</td>\n",
              "      <td>660.000000</td>\n",
              "    </tr>\n",
              "    <tr>\n",
              "      <th>25%</th>\n",
              "      <td>2.154075e+09</td>\n",
              "      <td>3.179062e+05</td>\n",
              "      <td>3.0000</td>\n",
              "      <td>1.500000</td>\n",
              "      <td>1410.000000</td>\n",
              "      <td>5.400000e+03</td>\n",
              "      <td>1.000000</td>\n",
              "      <td>0.000000</td>\n",
              "      <td>0.000000</td>\n",
              "      <td>3.000000</td>\n",
              "      <td>7.000000</td>\n",
              "      <td>1190.000000</td>\n",
              "      <td>1949.000000</td>\n",
              "      <td>0.000000</td>\n",
              "      <td>98033.000000</td>\n",
              "      <td>47.463675</td>\n",
              "      <td>-122.329000</td>\n",
              "      <td>1490.00000</td>\n",
              "      <td>5391.500000</td>\n",
              "    </tr>\n",
              "    <tr>\n",
              "      <th>50%</th>\n",
              "      <td>4.022900e+09</td>\n",
              "      <td>4.490000e+05</td>\n",
              "      <td>3.0000</td>\n",
              "      <td>2.000000</td>\n",
              "      <td>1890.000000</td>\n",
              "      <td>7.875000e+03</td>\n",
              "      <td>1.000000</td>\n",
              "      <td>0.000000</td>\n",
              "      <td>0.000000</td>\n",
              "      <td>3.000000</td>\n",
              "      <td>7.000000</td>\n",
              "      <td>1530.000000</td>\n",
              "      <td>1968.000000</td>\n",
              "      <td>0.000000</td>\n",
              "      <td>98070.000000</td>\n",
              "      <td>47.572850</td>\n",
              "      <td>-122.235000</td>\n",
              "      <td>1820.00000</td>\n",
              "      <td>7800.000000</td>\n",
              "    </tr>\n",
              "    <tr>\n",
              "      <th>75%</th>\n",
              "      <td>7.345078e+09</td>\n",
              "      <td>6.500000e+05</td>\n",
              "      <td>4.0000</td>\n",
              "      <td>2.500000</td>\n",
              "      <td>2500.000000</td>\n",
              "      <td>1.123400e+04</td>\n",
              "      <td>2.000000</td>\n",
              "      <td>0.000000</td>\n",
              "      <td>0.000000</td>\n",
              "      <td>4.000000</td>\n",
              "      <td>8.000000</td>\n",
              "      <td>2130.000000</td>\n",
              "      <td>1990.000000</td>\n",
              "      <td>0.000000</td>\n",
              "      <td>98118.000000</td>\n",
              "      <td>47.679200</td>\n",
              "      <td>-122.129000</td>\n",
              "      <td>2340.00000</td>\n",
              "      <td>10469.250000</td>\n",
              "    </tr>\n",
              "    <tr>\n",
              "      <th>max</th>\n",
              "      <td>9.842300e+09</td>\n",
              "      <td>7.060000e+06</td>\n",
              "      <td>9.0000</td>\n",
              "      <td>6.750000</td>\n",
              "      <td>10040.000000</td>\n",
              "      <td>1.651359e+06</td>\n",
              "      <td>3.500000</td>\n",
              "      <td>1.000000</td>\n",
              "      <td>4.000000</td>\n",
              "      <td>5.000000</td>\n",
              "      <td>13.000000</td>\n",
              "      <td>7680.000000</td>\n",
              "      <td>2015.000000</td>\n",
              "      <td>2015.000000</td>\n",
              "      <td>98199.000000</td>\n",
              "      <td>47.777600</td>\n",
              "      <td>-121.315000</td>\n",
              "      <td>5790.00000</td>\n",
              "      <td>434728.000000</td>\n",
              "    </tr>\n",
              "  </tbody>\n",
              "</table>\n",
              "</div>"
            ],
            "text/plain": [
              "                 id         price   bedrooms    bathrooms   sqft_living  \\\n",
              "count  5.000000e+03  5.000000e+03  5000.0000  5000.000000   5000.000000   \n",
              "mean   4.630823e+09  5.394699e+05     3.3714     2.062150   2061.036800   \n",
              "std    2.870890e+09  3.873115e+05     0.9104     0.773592    923.727509   \n",
              "min    1.000102e+06  7.500000e+04     0.0000     0.000000    380.000000   \n",
              "25%    2.154075e+09  3.179062e+05     3.0000     1.500000   1410.000000   \n",
              "50%    4.022900e+09  4.490000e+05     3.0000     2.000000   1890.000000   \n",
              "75%    7.345078e+09  6.500000e+05     4.0000     2.500000   2500.000000   \n",
              "max    9.842300e+09  7.060000e+06     9.0000     6.750000  10040.000000   \n",
              "\n",
              "           sqft_lot       floors   waterfront         view    condition  \\\n",
              "count  5.000000e+03  5000.000000  5000.000000  5000.000000  5000.000000   \n",
              "mean   1.615893e+04     1.432600     0.009400     0.243000     3.455000   \n",
              "std    4.600220e+04     0.510793     0.096506     0.774643     0.677692   \n",
              "min    6.090000e+02     1.000000     0.000000     0.000000     1.000000   \n",
              "25%    5.400000e+03     1.000000     0.000000     0.000000     3.000000   \n",
              "50%    7.875000e+03     1.000000     0.000000     0.000000     3.000000   \n",
              "75%    1.123400e+04     2.000000     0.000000     0.000000     4.000000   \n",
              "max    1.651359e+06     3.500000     1.000000     4.000000     5.000000   \n",
              "\n",
              "             grade   sqft_above     yr_built  yr_renovated       zipcode  \\\n",
              "count  5000.000000  5000.000000  5000.000000   5000.000000   5000.000000   \n",
              "mean      7.595200  1753.151000  1966.660800     95.052800  98078.812600   \n",
              "std       1.166537   818.390844    28.286855    425.234932     54.126332   \n",
              "min       3.000000   380.000000  1900.000000      0.000000  98001.000000   \n",
              "25%       7.000000  1190.000000  1949.000000      0.000000  98033.000000   \n",
              "50%       7.000000  1530.000000  1968.000000      0.000000  98070.000000   \n",
              "75%       8.000000  2130.000000  1990.000000      0.000000  98118.000000   \n",
              "max      13.000000  7680.000000  2015.000000   2015.000000  98199.000000   \n",
              "\n",
              "               lat         long  sqft_living15     sqft_lot15  \n",
              "count  5000.000000  5000.000000     5000.00000    5000.000000  \n",
              "mean     47.559312  -122.215864     1976.84520   13451.164600  \n",
              "std       0.139521     0.141807      674.73601   26514.749009  \n",
              "min      47.155900  -122.514000      620.00000     660.000000  \n",
              "25%      47.463675  -122.329000     1490.00000    5391.500000  \n",
              "50%      47.572850  -122.235000     1820.00000    7800.000000  \n",
              "75%      47.679200  -122.129000     2340.00000   10469.250000  \n",
              "max      47.777600  -121.315000     5790.00000  434728.000000  "
            ]
          },
          "execution_count": 56,
          "metadata": {},
          "output_type": "execute_result"
        }
      ],
      "source": [
        "df.describe()"
      ]
    },
    {
      "cell_type": "markdown",
      "metadata": {
        "id": "_UW1iHkqC4lQ",
        "nbgrader": {
          "grade": false,
          "grade_id": "cell-9b9bd1b387905904",
          "locked": true,
          "schema_version": 1,
          "solution": false
        }
      },
      "source": [
        "We will start with one variable linear regression by extracting the target column and the `sqft_living` variable from the dataset. We use pandas and select both columns as separate variables and transform them into a numpy array."
      ]
    },
    {
      "cell_type": "code",
      "execution_count": 57,
      "metadata": {
        "id": "b8g_CwY6C4lQ",
        "nbgrader": {
          "grade": true,
          "grade_id": "cell-c7cd243e8b5fe5aa",
          "locked": false,
          "points": 1,
          "schema_version": 1,
          "solution": true
        }
      },
      "outputs": [],
      "source": [
        "X = df['sqft_living'].values\n",
        "y = df['price'].values"
      ]
    },
    {
      "cell_type": "markdown",
      "metadata": {
        "id": "IFAUSykGC4lR",
        "nbgrader": {
          "grade": false,
          "grade_id": "cell-508e7e1a13f9bbe4",
          "locked": true,
          "schema_version": 1,
          "solution": false
        }
      },
      "source": [
        "## Preprocessing\n",
        "\n",
        "As the number of features grows, calculating gradients gets computationally expensive. We can speed this up by normalizing the input data to ensure all values are within the same range. This is especially important for datasets with high standard deviations or differences in the ranges of the attributes. Use [mean normalization](https://en.wikipedia.org/wiki/Feature_scaling) for the fearures (`X`) and the true labels (`y`).\n",
        "\n",
        "Your implementation should not contain loops.\n",
        "\n",
        "---\n",
        "Open `hw1.py` and complete the function `preprocess`. (5 points)"
      ]
    },
    {
      "cell_type": "code",
      "execution_count": 58,
      "metadata": {
        "id": "OK3oRuEkC4lR"
      },
      "outputs": [
        {
          "data": {
            "text/plain": [
              "((5000,), (5000,))"
            ]
          },
          "execution_count": 58,
          "metadata": {},
          "output_type": "execute_result"
        }
      ],
      "source": [
        "from hw1 import preprocess\n",
        "\n",
        "X, y = preprocess(X, y)\n",
        "X.shape, y.shape"
      ]
    },
    {
      "cell_type": "markdown",
      "metadata": {
        "id": "nfrLddpuC4lR"
      },
      "source": [
        "We will split the data into two datasets:\n",
        "1. The training dataset will contain 80% of the data and will always be used for model training.\n",
        "2. The validation dataset will contain the remaining 20% of the data and will be used for model evaluation. For example, we will pick the best alpha and the best features using the validation dataset, while still training the model using the training dataset."
      ]
    },
    {
      "cell_type": "code",
      "execution_count": 59,
      "metadata": {
        "id": "9NY_U-mBC4lR"
      },
      "outputs": [],
      "source": [
        "# training and validation split\n",
        "np.random.seed(42)\n",
        "indices = np.random.permutation(X.shape[0])\n",
        "idx_train, idx_val = indices[:int(0.8*X.shape[0])], indices[int(0.8*X.shape[0]):]\n",
        "X_train, X_val = X[idx_train], X[idx_val]\n",
        "y_train, y_val = y[idx_train], y[idx_val]"
      ]
    },
    {
      "cell_type": "markdown",
      "metadata": {
        "id": "bUqiw9R_C4lR",
        "nbgrader": {
          "grade": false,
          "grade_id": "cell-0c168d036748663e",
          "locked": true,
          "schema_version": 1,
          "solution": false
        }
      },
      "source": [
        "## Data Visualization\n",
        "Another useful tool is data visualization. Since this problem has only two parameters, it is possible to create a two-dimensional scatter plot to visualize the data. Note that many real-world datasets are highly dimensional and cannot be visualized naively. We will be using `matplotlib` for all data visualization purposes since it offers a wide range of visualization tools and is easy to use."
      ]
    },
    {
      "cell_type": "code",
      "execution_count": 60,
      "metadata": {
        "id": "pMyuc6-XC4lR",
        "nbgrader": {
          "grade": false,
          "grade_id": "cell-cbad8871e083093f",
          "locked": true,
          "schema_version": 1,
          "solution": false
        }
      },
      "outputs": [
        {
          "data": {
            "image/png": "[encoded data removed]",
            "text/plain": [
              "<Figure size 432x288 with 1 Axes>"
            ]
          },
          "metadata": {
            "needs_background": "light"
          },
          "output_type": "display_data"
        }
      ],
      "source": [
        "plt.plot(X_train, y_train, 'ro', ms=1, mec='k') # the parameters control the size, shape and color of the scatter plot\n",
        "plt.ylabel('Price in USD')\n",
        "plt.xlabel('sq.ft')\n",
        "plt.show()"
      ]
    },
    {
      "cell_type": "markdown",
      "metadata": {
        "id": "la5rWw3ZC4lR",
        "nbgrader": {
          "grade": false,
          "grade_id": "cell-c50f0a0e569142ed",
          "locked": true,
          "schema_version": 1,
          "solution": false
        }
      },
      "source": [
        "## Bias Trick\n",
        "\n",
        "Make sure that `X` takes into consideration the bias $\\theta_0$ in the linear model. Hint, recall that the predications of our linear model are of the form:\n",
        "\n",
        "$$\n",
        "\\hat{y} = h_\\theta(x) = \\theta^T x = \\theta_0 + \\theta_1 x_1\n",
        "$$\n",
        "\n",
        "Add columns of ones as the zeroth column of the features (do this for both the training and validation sets).\n",
        "\n",
        "---\n",
        "Open `hw1.py` and complete the function `apply_bias_trick`. (5 points)"
      ]
    },
    {
      "cell_type": "code",
      "execution_count": 61,
      "metadata": {
        "id": "SspnWP-0C4lR"
      },
      "outputs": [
        {
          "data": {
            "text/plain": [
              "((4000, 2), (1000, 2))"
            ]
          },
          "execution_count": 61,
          "metadata": {},
          "output_type": "execute_result"
        }
      ],
      "source": [
        "from hw1 import apply_bias_trick\n",
        "\n",
        "X_train = apply_bias_trick(X_train)\n",
        "X_val = apply_bias_trick(X_val)\n",
        "\n",
        "X_train.shape, X_val.shape"
      ]
    },
    {
      "cell_type": "markdown",
      "metadata": {
        "id": "vTolZbdLC4lR",
        "nbgrader": {
          "grade": false,
          "grade_id": "cell-c7d7fd68c1b24943",
          "locked": true,
          "schema_version": 1,
          "solution": false
        }
      },
      "source": [
        "## Part 2: Single Variable Linear Regression (60 Points)\n",
        "Simple linear regression is a linear regression model with a single explanatory varaible and a single target value.\n",
        "\n",
        "$$\n",
        "\\hat{y} = h_\\theta(x) = \\theta^T x = \\theta_0 + \\theta_1 x_1\n",
        "$$\n",
        "\n",
        "## Gradient Descent\n",
        "\n",
        "Our task is to find the best possible linear line that explains all the points in our dataset. We start by guessing initial values for the linear regression parameters $\\theta$ and updating the values using gradient descent.\n",
        "\n",
        "The objective of linear regression is to minimize the cost function $J$:\n",
        "\n",
        "$$\n",
        "J(\\theta) = \\frac{1}{2m} \\sum_{i=1}^{n}(h_\\theta(x^{(i)})-y^{(i)})^2\n",
        "$$\n",
        "\n",
        "where the hypothesis (model) $h_\\theta(x)$ is given by a **linear** model:\n",
        "\n",
        "$$\n",
        "h_\\theta(x) = \\theta^T x = \\theta_0 + \\theta_1 x_1\n",
        "$$\n",
        "\n",
        "$\\theta_j$ are parameters of your model. and by changing those values accordingly you will be able to lower the cost function $J(\\theta)$. One way to accopmlish this is to use gradient descent:\n",
        "\n",
        "$$\n",
        "\\theta_j = \\theta_j - \\alpha \\frac{1}{m} \\sum_{i=1}^m (h_\\theta(x^{(i)})-y^{(i)})x_j^{(i)}\n",
        "$$\n",
        "\n",
        "In linear regresion, we know that with each step of gradient descent, the parameters $\\theta_j$ get closer to the optimal values that will achieve the lowest cost $J(\\theta)$.\n",
        "\n",
        "---\n",
        "\n",
        "Open `hw1.py` and complete the function `compute_cost`. (10 points)"
      ]
    },
    {
      "cell_type": "code",
      "execution_count": 62,
      "metadata": {
        "id": "YvDLVbSQC4lS"
      },
      "outputs": [],
      "source": [
        "from hw1 import compute_cost\n",
        "theta = np.array([-1, 2])\n",
        "J = compute_cost(X_train, y_train, theta)"
      ]
    },
    {
      "cell_type": "code",
      "execution_count": 63,
      "metadata": {},
      "outputs": [
        {
          "data": {
            "text/plain": [
              "0.5110382451954535"
            ]
          },
          "execution_count": 63,
          "metadata": {},
          "output_type": "execute_result"
        }
      ],
      "source": [
        "J"
      ]
    },
    {
      "cell_type": "markdown",
      "metadata": {
        "id": "HFAhDftxC4lS",
        "nbgrader": {
          "grade": false,
          "grade_id": "cell-afdc527b73d275bb",
          "locked": true,
          "schema_version": 1,
          "solution": false
        }
      },
      "source": [
        "Open `hw1.py` and complete the function `gradient_descent`. (30 points)"
      ]
    },
    {
      "cell_type": "code",
      "execution_count": 64,
      "metadata": {
        "id": "-I2np-Z3C4lS"
      },
      "outputs": [],
      "source": [
        "from hw1 import gradient_descent\n",
        "\n",
        "np.random.seed(42)\n",
        "theta = np.random.random(size=2)\n",
        "iterations = 40000\n",
        "alpha = 0.1\n",
        "theta, J_history = gradient_descent(X_train ,y_train, theta, alpha, iterations)"
      ]
    },
    {
      "cell_type": "code",
      "execution_count": 65,
      "metadata": {},
      "outputs": [
        {
          "data": {
            "text/plain": [
              "array([1.94301549e-04, 4.08751964e-01])"
            ]
          },
          "execution_count": 65,
          "metadata": {},
          "output_type": "execute_result"
        }
      ],
      "source": [
        "theta"
      ]
    },
    {
      "cell_type": "code",
      "execution_count": 66,
      "metadata": {},
      "outputs": [
        {
          "data": {
            "text/plain": [
              "[0.05909008502223921,\n",
              " 0.048270775925842925,\n",
              " 0.039506665580988067,\n",
              " 0.032407266679853726,\n",
              " 0.02665628458113545,\n",
              " 0.021997520688276852,\n",
              " 0.018223454188712414,\n",
              " 0.015165993264983304,\n",
              " 0.012688983577627641,\n",
              " 0.010682140137849612,\n",
              " 0.009056132125619275,\n",
              " 0.007738601593335908,\n",
              " 0.006670938616607409,\n",
              " 0.005805669167039382,\n",
              " 0.0051043392897270915,\n",
              " 0.004535801287455529,\n",
              " 0.004074825530251004,\n",
              " 0.0037009760214011134,\n",
              " 0.0033976996061602354,\n",
              " 0.0031515882309867765,\n",
              " 0.0029517813736757987,\n",
              " 0.002789482011888337,\n",
              " 0.002657564557758869,\n",
              " 0.0025502572850073313,\n",
              " 0.002462885094964626,\n",
              " 0.0023916611571057375,\n",
              " 0.002333518137924058,\n",
              " 0.0022859714963540108,\n",
              " 0.0022470087530912478,\n",
              " 0.002214999798764597,\n",
              " 0.002188624243573624,\n",
              " 0.002166812570509875,\n",
              " 0.002148698469478078,\n",
              " 0.0021335802279440355,\n",
              " 0.0021208894573672837,\n",
              " 0.0021101657616179248,\n",
              " 0.002101036218399421,\n",
              " 0.002093198759205237,\n",
              " 0.002086408707087106,\n",
              " 0.0020804678722500655,\n",
              " 0.0020752157194866548,\n",
              " 0.0020705222138004127,\n",
              " 0.002066282025362364,\n",
              " 0.002062409835526952,\n",
              " 0.0020588365347058916,\n",
              " 0.0020555061426467632,\n",
              " 0.0020523733138593033,\n",
              " 0.00204940131701119,\n",
              " 0.00204656039823905,\n",
              " 0.002043826455430692,\n",
              " 0.002041179964393988,\n",
              " 0.0020386051090538794,\n",
              " 0.0020360890769121225,\n",
              " 0.002033621488369823,\n",
              " 0.0020311939344788,\n",
              " 0.0020287996025202793,\n",
              " 0.002026432972723705,\n",
              " 0.0020240895726090376,\n",
              " 0.0020217657780040557,\n",
              " 0.0020194586518684126,\n",
              " 0.0020171658137411405,\n",
              " 0.002014885333993162,\n",
              " 0.0020126156481718267,\n",
              " 0.002010355487620016,\n",
              " 0.0020081038232776104,\n",
              " 0.002005859820160695,\n",
              " 0.0020036228004897154,\n",
              " 0.002001392213823291,\n",
              " 0.0019991676128665987,\n",
              " 0.001996948633876169,\n",
              " 0.001994734980787768,\n",
              " 0.0019925264123599796,\n",
              " 0.001990322731760505,\n",
              " 0.0019881237781310644,\n",
              " 0.00198592941975496,\n",
              " 0.001983739548522805,\n",
              " 0.0019815540754497523,\n",
              " 0.0019793729270444534,\n",
              " 0.001977196042367907,\n",
              " 0.001975023370651121,\n",
              " 0.001972854869365417,\n",
              " 0.0019706905026593735,\n",
              " 0.0019685302400927404,\n",
              " 0.0019663740556109116,\n",
              " 0.0019642219267142374,\n",
              " 0.001962073833785166,\n",
              " 0.0019599297595432248,\n",
              " 0.001957789688603546,\n",
              " 0.001955653607119272,\n",
              " 0.0019535215024918968,\n",
              " 0.0019513933631366404,\n",
              " 0.001949269178292392,\n",
              " 0.0019471489378677655,\n",
              " 0.0019450326323163973,\n",
              " 0.0019429202525359306,\n",
              " 0.001940811789786192,\n",
              " 0.0019387072356229055,\n",
              " 0.0019366065818440025,\n",
              " 0.0019345098204461187,\n",
              " 0.0019324169435893626,\n",
              " 0.001930327943568766,\n",
              " 0.0019282428127911557,\n",
              " 0.0019261615437564182,\n",
              " 0.0019240841290423143,\n",
              " 0.0019220105612921788,\n",
              " 0.0019199408332049495,\n",
              " 0.0019178749375270898,\n",
              " 0.0019158128670460357,\n",
              " 0.00191375461458489,\n",
              " 0.0019117001729981138,\n",
              " 0.0019096495351680364,\n",
              " 0.0019076026940020225,\n",
              " 0.0019055596424301714,\n",
              " 0.0019035203734034513,\n",
              " 0.0019014848798921827,\n",
              " 0.0018994531548848044,\n",
              " 0.0018974251913868702,\n",
              " 0.001895400982420233,\n",
              " 0.001893380521022376,\n",
              " 0.00189136380024587,\n",
              " 0.001889350813157929,\n",
              " 0.0018873415528400418,\n",
              " 0.0018853360123876743,\n",
              " 0.0018833341849100206,\n",
              " 0.001881336063529799,\n",
              " 0.0018793416413830802,\n",
              " 0.0018773509116191446,\n",
              " 0.0018753638674003635,\n",
              " 0.0018733805019020965,\n",
              " 0.0018714008083126044,\n",
              " 0.0018694247798329772,\n",
              " 0.0018674524096770654,\n",
              " 0.0018654836910714267,\n",
              " 0.0018635186172552718,\n",
              " 0.0018615571814804231,\n",
              " 0.0018595993770112705,\n",
              " 0.0018576451971247354,\n",
              " 0.0018556946351102348,\n",
              " 0.0018537476842696507,\n",
              " 0.0018518043379172973,\n",
              " 0.0018498645893798927,\n",
              " 0.001847928431996531,\n",
              " 0.001845995859118655,\n",
              " 0.001844066864110031,\n",
              " 0.0018421414403467216,\n",
              " 0.0018402195812170623,\n",
              " 0.001838301280121637,\n",
              " 0.0018363865304732527,\n",
              " 0.001834475325696917,\n",
              " 0.0018325676592298135,\n",
              " 0.0018306635245212797,\n",
              " 0.0018287629150327827,\n",
              " 0.001826865824237897,\n",
              " 0.001824972245622282,\n",
              " 0.001823082172683658,\n",
              " 0.001821195598931785,\n",
              " 0.0018193125178884398,\n",
              " 0.001817432923087392,\n",
              " 0.001815556808074385,\n",
              " 0.0018136841664071102,\n",
              " 0.001811814991655187,\n",
              " 0.0018099492774001403,\n",
              " 0.0018080870172353775,\n",
              " 0.0018062282047661671,\n",
              " 0.0018043728336096171,\n",
              " 0.0018025208973946527,\n",
              " 0.0018006723897619936,\n",
              " 0.0017988273043641333,\n",
              " 0.0017969856348653166,\n",
              " 0.0017951473749415181,\n",
              " 0.0017933125182804214,\n",
              " 0.0017914810585813944,\n",
              " 0.0017896529895554722,\n",
              " 0.0017878283049253298,\n",
              " 0.0017860069984252669,\n",
              " 0.0017841890638011827,\n",
              " 0.001782374494810553,\n",
              " 0.0017805632852224123,\n",
              " 0.0017787554288173303,\n",
              " 0.0017769509193873909,\n",
              " 0.0017751497507361718,\n",
              " 0.0017733519166787217,\n",
              " 0.00177155741104154,\n",
              " 0.0017697662276625558,\n",
              " 0.0017679783603911062,\n",
              " 0.0017661938030879142,\n",
              " 0.0017644125496250709,\n",
              " 0.0017626345938860097,\n",
              " 0.0017608599297654912,\n",
              " 0.001759088551169575,\n",
              " 0.0017573204520156065,\n",
              " 0.0017555556262321894,\n",
              " 0.0017537940677591695,\n",
              " 0.001752035770547611,\n",
              " 0.0017502807285597775,\n",
              " 0.0017485289357691096,\n",
              " 0.001746780386160206,\n",
              " 0.0017450350737288022,\n",
              " 0.0017432929924817491,\n",
              " 0.0017415541364369932,\n",
              " 0.0017398184996235556,\n",
              " 0.0017380860760815124,\n",
              " 0.001736356859861973,\n",
              " 0.0017346308450270614,\n",
              " 0.0017329080256498928,\n",
              " 0.0017311883958145563,\n",
              " 0.001729471949616094,\n",
              " 0.0017277586811604783,\n",
              " 0.0017260485845645964,\n",
              " 0.0017243416539562233,\n",
              " 0.0017226378834740098,\n",
              " 0.0017209372672674543,\n",
              " 0.001719239799496889,\n",
              " 0.001717545474333457,\n",
              " 0.0017158542859590914,\n",
              " 0.0017141662285664976,\n",
              " 0.0017124812963591328,\n",
              " 0.0017107994835511846,\n",
              " 0.0017091207843675528,\n",
              " 0.0017074451930438285,\n",
              " 0.001705772703826274,\n",
              " 0.0017041033109718065,\n",
              " 0.0017024370087479728,\n",
              " 0.0017007737914329338,\n",
              " 0.0016991136533154427,\n",
              " 0.001697456588694828,\n",
              " 0.0016958025918809702,\n",
              " 0.001694151657194285,\n",
              " 0.0016925037789657029,\n",
              " 0.0016908589515366498,\n",
              " 0.001689217169259028,\n",
              " 0.0016875784264951958,\n",
              " 0.0016859427176179492,\n",
              " 0.001684310037010502,\n",
              " 0.0016826803790664666,\n",
              " 0.0016810537381898344,\n",
              " 0.0016794301087949574,\n",
              " 0.0016778094853065297,\n",
              " 0.0016761918621595645,\n",
              " 0.00167457723379938,\n",
              " 0.0016729655946815774,\n",
              " 0.0016713569392720225,\n",
              " 0.0016697512620468266,\n",
              " 0.0016681485574923278,\n",
              " 0.0016665488201050719,\n",
              " 0.0016649520443917938,\n",
              " 0.0016633582248693978,\n",
              " 0.00166176735606494,\n",
              " 0.0016601794325156077,\n",
              " 0.0016585944487687028,\n",
              " 0.0016570123993816224,\n",
              " 0.0016554332789218379,\n",
              " 0.0016538570819668807,\n",
              " 0.0016522838031043188,\n",
              " 0.0016507134369317428,\n",
              " 0.0016491459780567427,\n",
              " 0.001647581421096893,\n",
              " 0.0016460197606797328,\n",
              " 0.0016444609914427477,\n",
              " 0.001642905108033351,\n",
              " 0.0016413521051088656,\n",
              " 0.0016398019773365049,\n",
              " 0.0016382547193933565,\n",
              " 0.0016367103259663613,\n",
              " 0.0016351687917522972,\n",
              " 0.0016336301114577604,\n",
              " 0.0016320942797991456,\n",
              " 0.0016305612915026308,\n",
              " 0.001629031141304158,\n",
              " 0.0016275038239494135,\n",
              " 0.0016259793341938122,\n",
              " 0.0016244576668024775,\n",
              " 0.0016229388165502252,\n",
              " 0.0016214227782215447,\n",
              " 0.0016199095466105811,\n",
              " 0.0016183991165211174,\n",
              " 0.0016168914827665564,\n",
              " 0.0016153866401699027,\n",
              " 0.0016138845835637463,\n",
              " 0.0016123853077902434,\n",
              " 0.001610888807701099,\n",
              " 0.0016093950781575495,\n",
              " 0.0016079041140303451,\n",
              " 0.0016064159101997321,\n",
              " 0.0016049304615554348,\n",
              " 0.0016034477629966392,\n",
              " 0.0016019678094319743,\n",
              " 0.0016004905957794943,\n",
              " 0.0015990161169666631,\n",
              " 0.0015975443679303342,\n",
              " 0.0015960753436167368,\n",
              " 0.0015946090389814538,\n",
              " 0.00159314544898941,\n",
              " 0.001591684568614849,\n",
              " 0.0015902263928413208,\n",
              " 0.0015887709166616624,\n",
              " 0.0015873181350779797,\n",
              " 0.001585868043101632,\n",
              " 0.001584420635753215,\n",
              " 0.0015829759080625428,\n",
              " 0.0015815338550686298,\n",
              " 0.0015800944718196766,\n",
              " 0.0015786577533730508,\n",
              " 0.0015772236947952695,\n",
              " 0.001575792291161985,\n",
              " 0.0015743635375579654,\n",
              " 0.001572937429077078,\n",
              " 0.0015715139608222747,\n",
              " 0.0015700931279055723,\n",
              " 0.001568674925448038,\n",
              " 0.0015672593485797693,\n",
              " 0.0015658463924398825,\n",
              " 0.001564436052176492,\n",
              " 0.0015630283229466939,\n",
              " 0.0015616231999165515,\n",
              " 0.001560220678261076,\n",
              " 0.0015588207531642131,\n",
              " 0.0015574234198188232,\n",
              " 0.0015560286734266674,\n",
              " 0.0015546365091983882,\n",
              " 0.0015532469223534977,\n",
              " 0.0015518599081203565,\n",
              " 0.0015504754617361595,\n",
              " 0.0015490935784469191,\n",
              " 0.0015477142535074491,\n",
              " 0.0015463374821813492,\n",
              " 0.0015449632597409862,\n",
              " 0.0015435915814674805,\n",
              " 0.0015422224426506889,\n",
              " 0.0015408558385891866,\n",
              " 0.001539491764590256,\n",
              " 0.001538130215969864,\n",
              " 0.0015367711880526515,\n",
              " 0.0015354146761719148,\n",
              " 0.0015340606756695887,\n",
              " 0.0015327091818962328,\n",
              " 0.001531360190211014,\n",
              " 0.0015300136959816918,\n",
              " 0.0015286696945846002,\n",
              " 0.0015273281814046343,\n",
              " 0.001525989151835233,\n",
              " 0.0015246526012783637,\n",
              " 0.0015233185251445065,\n",
              " 0.0015219869188526378,\n",
              " 0.0015206577778302157,\n",
              " 0.0015193310975131628,\n",
              " 0.0015180068733458524,\n",
              " 0.0015166851007810908,\n",
              " 0.0015153657752801039,\n",
              " 0.0015140488923125206,\n",
              " 0.001512734447356355,\n",
              " 0.001511422435897996,\n",
              " 0.0015101128534321853,\n",
              " 0.001508805695462009,\n",
              " 0.0015075009574988757,\n",
              " 0.001506198635062506,\n",
              " 0.0015048987236809135,\n",
              " 0.0015036012188903922,\n",
              " 0.001502306116235499,\n",
              " 0.0015010134112690404,\n",
              " 0.0014997230995520546,\n",
              " 0.0014984351766538003,\n",
              " 0.001497149638151737,\n",
              " 0.0014958664796315127,\n",
              " 0.0014945856966869478,\n",
              " 0.0014933072849200198,\n",
              " 0.0014920312399408484,\n",
              " 0.001490757557367682,\n",
              " 0.0014894862328268792,\n",
              " 0.0014882172619528965,\n",
              " 0.001486950640388273,\n",
              " 0.0014856863637836145,\n",
              " 0.0014844244277975784,\n",
              " 0.0014831648280968608,\n",
              " 0.00148190756035618,\n",
              " 0.001480652620258261,\n",
              " 0.001479400003493822,\n",
              " 0.0014781497057615599,\n",
              " 0.0014769017227681336,\n",
              " 0.0014756560502281516,\n",
              " 0.0014744126838641557,\n",
              " 0.0014731716194066062,\n",
              " 0.0014719328525938692,\n",
              " 0.0014706963791721987,\n",
              " 0.0014694621948957258,\n",
              " 0.001468230295526441,\n",
              " 0.0014670006768341811,\n",
              " 0.001465773334596614,\n",
              " 0.001464548264599226,\n",
              " 0.0014633254626353045,\n",
              " 0.0014621049245059255,\n",
              " 0.0014608866460199387,\n",
              " 0.0014596706229939535,\n",
              " 0.0014584568512523229,\n",
              " 0.0014572453266271323,\n",
              " 0.0014560360449581812,\n",
              " 0.0014548290020929737,\n",
              " 0.0014536241938866996,\n",
              " 0.0014524216162022235,\n",
              " 0.001451221264910068,\n",
              " 0.001450023135888401,\n",
              " 0.0014488272250230228,\n",
              " 0.0014476335282073488,\n",
              " 0.0014464420413423983,\n",
              " 0.0014452527603367785,\n",
              " 0.0014440656811066717,\n",
              " 0.0014428807995758204,\n",
              " 0.0014416981116755138,\n",
              " 0.0014405176133445744,\n",
              " 0.0014393393005293423,\n",
              " 0.0014381631691836622,\n",
              " 0.0014369892152688711,\n",
              " 0.0014358174347537818,\n",
              " 0.0014346478236146702,\n",
              " 0.0014334803778352622,\n",
              " 0.0014323150934067188,\n",
              " 0.001431151966327623,\n",
              " 0.001429990992603965,\n",
              " 0.0014288321682491309,\n",
              " 0.0014276754892838866,\n",
              " 0.001426520951736364,\n",
              " 0.0014253685516420495,\n",
              " 0.001424218285043769,\n",
              " 0.001423070147991674,\n",
              " 0.00142192413654323,\n",
              " 0.0014207802467631997,\n",
              " 0.0014196384747236315,\n",
              " 0.0014184988165038476,\n",
              " 0.0014173612681904267,\n",
              " 0.0014162258258771936,\n",
              " 0.001415092485665205,\n",
              " 0.001413961243662735,\n",
              " 0.0014128320959852635,\n",
              " 0.0014117050387554616,\n",
              " 0.0014105800681031787,\n",
              " 0.0014094571801654297,\n",
              " 0.0014083363710863806,\n",
              " 0.0014072176370173357,\n",
              " 0.0014061009741167258,\n",
              " 0.0014049863785500925,\n",
              " 0.0014038738464900767,\n",
              " 0.0014027633741164056,\n",
              " 0.0014016549576158785,\n",
              " 0.0014005485931823545,\n",
              " 0.0013994442770167389,\n",
              " 0.001398342005326971,\n",
              " 0.0013972417743280102,\n",
              " 0.001396143580241823,\n",
              " 0.001395047419297371,\n",
              " 0.0013939532877305975,\n",
              " 0.0013928611817844128,\n",
              " 0.001391771097708685,\n",
              " 0.0013906830317602236,\n",
              " 0.0013895969802027687,\n",
              " 0.001388512939306977,\n",
              " 0.0013874309053504104,\n",
              " 0.0013863508746175212,\n",
              " 0.001385272843399641,\n",
              " 0.001384196807994968,\n",
              " 0.0013831227647085524,\n",
              " 0.0013820507098522867,\n",
              " 0.00138098063974489,\n",
              " 0.0013799125507118974,\n",
              " 0.001378846439085647,\n",
              " 0.001377782301205266,\n",
              " 0.00137672013341666,\n",
              " 0.0013756599320724995,\n",
              " 0.0013746016935322074,\n",
              " 0.0013735454141619466,\n",
              " 0.0013724910903346074,\n",
              " 0.0013714387184297948,\n",
              " 0.0013703882948338172,\n",
              " 0.0013693398159396728,\n",
              " 0.0013682932781470378,\n",
              " 0.001367248677862254,\n",
              " 0.0013662060114983151,\n",
              " 0.0013651652754748571,\n",
              " 0.0013641264662181437,\n",
              " 0.0013630895801610558,\n",
              " 0.0013620546137430767,\n",
              " 0.0013610215634102829,\n",
              " 0.0013599904256153298,\n",
              " 0.00135896119681744,\n",
              " 0.0013579338734823919,\n",
              " 0.0013569084520825064,\n",
              " 0.0013558849290966357,\n",
              " 0.001354863301010151,\n",
              " 0.0013538435643149303,\n",
              " 0.0013528257155093458,\n",
              " 0.0013518097510982529,\n",
              " 0.0013507956675929771,\n",
              " 0.0013497834615113042,\n",
              " 0.001348773129377466,\n",
              " 0.0013477646677221278,\n",
              " 0.0013467580730823798,\n",
              " 0.0013457533420017224,\n",
              " 0.0013447504710300553,\n",
              " 0.0013437494567236652,\n",
              " 0.001342750295645215,\n",
              " 0.0013417529843637308,\n",
              " 0.0013407575194545908,\n",
              " 0.001339763897499514,\n",
              " 0.0013387721150865462,\n",
              " 0.0013377821688100515,\n",
              " 0.001336794055270698,\n",
              " 0.0013358077710754486,\n",
              " 0.0013348233128375458,\n",
              " 0.0013338406771765034,\n",
              " 0.0013328598607180945,\n",
              " 0.001331880860094337,\n",
              " 0.001330903671943486,\n",
              " 0.0013299282929100191,\n",
              " 0.0013289547196446265,\n",
              " 0.0013279829488041998,\n",
              " 0.0013270129770518193,\n",
              " 0.0013260448010567433,\n",
              " 0.0013250784174943955,\n",
              " 0.0013241138230463561,\n",
              " 0.0013231510144003477,\n",
              " 0.0013221899882502263,\n",
              " 0.0013212307412959676,\n",
              " 0.0013202732702436567,\n",
              " 0.0013193175718054777,\n",
              " 0.0013183636426997013,\n",
              " 0.0013174114796506737,\n",
              " 0.0013164610793888053,\n",
              " 0.0013155124386505603,\n",
              " 0.0013145655541784444,\n",
              " 0.001313620422720994,\n",
              " 0.001312677041032765,\n",
              " 0.0013117354058743227,\n",
              " 0.0013107955140122278,\n",
              " 0.0013098573622190297,\n",
              " 0.0013089209472732506,\n",
              " 0.0013079862659593786,\n",
              " 0.0013070533150678536,\n",
              " 0.001306122091395059,\n",
              " 0.0013051925917433066,\n",
              " 0.0013042648129208312,\n",
              " 0.0013033387517417748,\n",
              " 0.0013024144050261784,\n",
              " 0.0013014917695999691,\n",
              " 0.0013005708422949521,\n",
              " 0.0012996516199487963,\n",
              " 0.0012987340994050265,\n",
              " 0.0012978182775130102,\n",
              " 0.001296904151127949,\n",
              " 0.001295991717110865,\n",
              " 0.0012950809723285932,\n",
              " 0.0012941719136537687,\n",
              " 0.0012932645379648156,\n",
              " 0.0012923588421459384,\n",
              " 0.0012914548230871091,\n",
              " 0.001290552477684058,\n",
              " 0.0012896518028382622,\n",
              " 0.0012887527954569358,\n",
              " 0.001287855452453018,\n",
              " 0.0012869597707451633,\n",
              " 0.001286065747257731,\n",
              " 0.0012851733789207747,\n",
              " 0.0012842826626700316,\n",
              " 0.0012833935954469117,\n",
              " 0.0012825061741984873,\n",
              " 0.0012816203958774827,\n",
              " 0.0012807362574422648,\n",
              " 0.0012798537558568303,\n",
              " 0.0012789728880907973,\n",
              " 0.0012780936511193946,\n",
              " 0.0012772160419234498,\n",
              " 0.0012763400574893806,\n",
              " 0.0012754656948091845,\n",
              " 0.0012745929508804267,\n",
              " 0.0012737218227062317,\n",
              " 0.0012728523072952727,\n",
              " 0.0012719844016617593,\n",
              " 0.0012711181028254306,\n",
              " 0.0012702534078115422,\n",
              " 0.0012693903136508573,\n",
              " 0.0012685288173796363,\n",
              " 0.0012676689160396259,\n",
              " 0.0012668106066780508,\n",
              " 0.0012659538863476012,\n",
              " 0.0012650987521064239,\n",
              " 0.0012642452010181127,\n",
              " 0.0012633932301516968,\n",
              " 0.0012625428365816331,\n",
              " 0.0012616940173877937,\n",
              " 0.0012608467696554567,\n",
              " 0.001260001090475296,\n",
              " 0.0012591569769433736,\n",
              " 0.0012583144261611259,\n",
              " 0.0012574734352353563,\n",
              " 0.0012566340012782238,\n",
              " 0.001255796121407235,\n",
              " 0.001254959792745232,\n",
              " 0.001254125012420384,\n",
              " 0.0012532917775661772,\n",
              " 0.001252460085321404,\n",
              " 0.0012516299328301538,\n",
              " 0.0012508013172418048,\n",
              " 0.0012499742357110107,\n",
              " 0.0012491486853976946,\n",
              " 0.0012483246634670366,\n",
              " 0.0012475021670894648,\n",
              " 0.0012466811934406473,\n",
              " 0.0012458617397014793,\n",
              " 0.0012450438030580763,\n",
              " 0.0012442273807017627,\n",
              " 0.0012434124698290634,\n",
              " 0.0012425990676416924,\n",
              " 0.0012417871713465453,\n",
              " 0.0012409767781556883,\n",
              " 0.0012401678852863491,\n",
              " 0.0012393604899609075,\n",
              " 0.0012385545894068853,\n",
              " 0.0012377501808569368,\n",
              " 0.0012369472615488407,\n",
              " 0.0012361458287254887,\n",
              " 0.0012353458796348776,\n",
              " 0.0012345474115300979,\n",
              " 0.0012337504216693267,\n",
              " 0.0012329549073158167,\n",
              " 0.0012321608657378878,\n",
              " 0.0012313682942089162,\n",
              " 0.0012305771900073268,\n",
              " 0.001229787550416583,\n",
              " 0.0012289993727251777,\n",
              " 0.0012282126542266225,\n",
              " 0.0012274273922194413,\n",
              " 0.0012266435840071583,\n",
              " 0.0012258612268982905,\n",
              " 0.001225080318206337,\n",
              " 0.0012243008552497714,\n",
              " 0.0012235228353520307,\n",
              " 0.0012227462558415088,\n",
              " 0.001221971114051544,\n",
              " 0.0012211974073204122,\n",
              " 0.0012204251329913174,\n",
              " 0.0012196542884123814,\n",
              " 0.001218884870936637,\n",
              " 0.0012181168779220157,\n",
              " 0.0012173503067313414,\n",
              " 0.0012165851547323206,\n",
              " 0.0012158214192975324,\n",
              " 0.0012150590978044205,\n",
              " 0.001214298187635284,\n",
              " 0.0012135386861772675,\n",
              " 0.001212780590822354,\n",
              " 0.0012120238989673548,\n",
              " 0.0012112686080138996,\n",
              " 0.001210514715368429,\n",
              " 0.0012097622184421856,\n",
              " 0.0012090111146512048,\n",
              " 0.0012082614014163051,\n",
              " 0.0012075130761630807,\n",
              " 0.0012067661363218912,\n",
              " 0.001206020579327854,\n",
              " 0.001205276402620835,\n",
              " 0.0012045336036454394,\n",
              " 0.001203792179851004,\n",
              " 0.0012030521286915874,\n",
              " 0.0012023134476259612,\n",
              " 0.0012015761341176024,\n",
              " 0.0012008401856346835,\n",
              " 0.001200105599650065,\n",
              " 0.001199372373641285,\n",
              " 0.0011986405050905522,\n",
              " 0.0011979099914847368,\n",
              " 0.0011971808303153613,\n",
              " 0.001196453019078592,\n",
              " 0.0011957265552752316,\n",
              " 0.0011950014364107084,\n",
              " 0.0011942776599950704,\n",
              " 0.0011935552235429743,\n",
              " 0.0011928341245736789,\n",
              " 0.0011921143606110345,\n",
              " 0.0011913959291834774,\n",
              " 0.0011906788278240176,\n",
              " 0.0011899630540702342,\n",
              " 0.0011892486054642637,\n",
              " 0.0011885354795527943,\n",
              " 0.0011878236738870548,\n",
              " 0.0011871131860228083,\n",
              " 0.001186404013520343,\n",
              " 0.0011856961539444635,\n",
              " 0.0011849896048644827,\n",
              " 0.0011842843638542146,\n",
              " 0.0011835804284919642,\n",
              " 0.0011828777963605191,\n",
              " 0.0011821764650471436,\n",
              " 0.0011814764321435676,\n",
              " 0.0011807776952459802,\n",
              " 0.0011800802519550207,\n",
              " 0.00117938409987577,\n",
              " 0.0011786892366177435,\n",
              " 0.0011779956597948815,\n",
              " 0.0011773033670255425,\n",
              " 0.0011766123559324932,\n",
              " 0.001175922624142903,\n",
              " 0.0011752341692883327,\n",
              " 0.001174546989004729,\n",
              " 0.0011738610809324144,\n",
              " 0.0011731764427160808,\n",
              " 0.0011724930720047795,\n",
              " 0.0011718109664519156,\n",
              " 0.0011711301237152373,\n",
              " 0.0011704505414568303,\n",
              " 0.001169772217343108,\n",
              " 0.0011690951490448036,\n",
              " 0.0011684193342369636,\n",
              " 0.0011677447705989376,\n",
              " 0.0011670714558143734,\n",
              " 0.0011663993875712052,\n",
              " 0.0011657285635616479,\n",
              " 0.0011650589814821907,\n",
              " 0.0011643906390335851,\n",
              " 0.0011637235339208415,\n",
              " 0.0011630576638532175,\n",
              " 0.001162393026544212,\n",
              " 0.0011617296197115577,\n",
              " 0.001161067441077211,\n",
              " 0.0011604064883673482,\n",
              " 0.0011597467593123531,\n",
              " 0.0011590882516468125,\n",
              " 0.0011584309631095064,\n",
              " 0.001157774891443402,\n",
              " 0.0011571200343956445,\n",
              " 0.0011564663897175506,\n",
              " 0.0011558139551645988,\n",
              " 0.0011551627284964244,\n",
              " 0.0011545127074768092,\n",
              " 0.0011538638898736765,\n",
              " 0.00115321627345908,\n",
              " 0.0011525698560092,\n",
              " 0.001151924635304333,\n",
              " 0.0011512806091288845,\n",
              " 0.0011506377752713627,\n",
              " 0.0011499961315243694,\n",
              " 0.0011493556756845937,\n",
              " 0.0011487164055528033,\n",
              " 0.0011480783189338377,\n",
              " 0.0011474414136366004,\n",
              " 0.0011468056874740509,\n",
              " 0.0011461711382631983,\n",
              " 0.0011455377638250927,\n",
              " 0.0011449055619848188,\n",
              " 0.0011442745305714874,\n",
              " 0.0011436446674182284,\n",
              " 0.0011430159703621834,\n",
              " 0.0011423884372444985,\n",
              " 0.0011417620659103153,\n",
              " 0.0011411368542087671,\n",
              " 0.0011405127999929675,\n",
              " 0.0011398899011200048,\n",
              " 0.0011392681554509348,\n",
              " 0.0011386475608507738,\n",
              " 0.0011380281151884902,\n",
              " 0.0011374098163369972,\n",
              " 0.0011367926621731472,\n",
              " 0.0011361766505777226,\n",
              " 0.001135561779435429,\n",
              " 0.0011349480466348878,\n",
              " 0.001134335450068631,\n",
              " 0.0011337239876330902,\n",
              " 0.0011331136572285932,\n",
              " 0.0011325044567593535,\n",
              " 0.0011318963841334656,\n",
              " 0.0011312894372628964,\n",
              " 0.0011306836140634793,\n",
              " 0.001130078912454905,\n",
              " 0.0011294753303607164,\n",
              " 0.0011288728657083001,\n",
              " 0.0011282715164288807,\n",
              " 0.001127671280457512,\n",
              " 0.0011270721557330712,\n",
              " 0.001126474140198251,\n",
              " 0.0011258772317995532,\n",
              " 0.001125281428487281,\n",
              " 0.0011246867282155325,\n",
              " 0.001124093128942194,\n",
              " 0.0011235006286289318,\n",
              " 0.0011229092252411856,\n",
              " 0.0011223189167481624,\n",
              " 0.0011217297011228292,\n",
              " 0.001121141576341905,\n",
              " 0.0011205545403858547,\n",
              " 0.0011199685912388823,\n",
              " 0.001119383726888924,\n",
              " 0.0011187999453276408,\n",
              " 0.0011182172445504115,\n",
              " 0.0011176356225563264,\n",
              " 0.0011170550773481804,\n",
              " 0.0011164756069324655,\n",
              " 0.0011158972093193648,\n",
              " 0.0011153198825227448,\n",
              " 0.0011147436245601498,\n",
              " 0.0011141684334527932,\n",
              " 0.001113594307225553,\n",
              " 0.001113021243906963,\n",
              " 0.0011124492415292074,\n",
              " 0.0011118782981281129,\n",
              " 0.0011113084117431431,\n",
              " 0.0011107395804173911,\n",
              " 0.0011101718021975732,\n",
              " 0.0011096050751340215,\n",
              " 0.001109039397280677,\n",
              " 0.0011084747666950852,\n",
              " 0.0011079111814383867,\n",
              " 0.0011073486395753113,\n",
              " 0.0011067871391741723,\n",
              " 0.0011062266783068593,\n",
              " 0.0011056672550488309,\n",
              " 0.0011051088674791094,\n",
              " 0.001104551513680273,\n",
              " 0.00110399519173845,\n",
              " 0.0011034398997433108,\n",
              " 0.001102885635788065,\n",
              " 0.0011023323979694496,\n",
              " 0.0011017801843877274,\n",
              " 0.0011012289931466768,\n",
              " 0.0011006788223535875,\n",
              " 0.0011001296701192527,\n",
              " 0.0010995815345579642,\n",
              " 0.0010990344137875034,\n",
              " 0.0010984883059291383,\n",
              " 0.0010979432091076126,\n",
              " 0.0010973991214511445,\n",
              " 0.001096856041091415,\n",
              " 0.0010963139661635658,\n",
              " 0.001095772894806191,\n",
              " 0.0010952328251613293,\n",
              " 0.0010946937553744608,\n",
              " 0.0010941556835944975,\n",
              " 0.00109361860797378,\n",
              " 0.0010930825266680685,\n",
              " 0.0010925474378365382,\n",
              " 0.0010920133396417717,\n",
              " 0.001091480230249753,\n",
              " 0.0010909481078298624,\n",
              " 0.0010904169705548692,\n",
              " 0.0010898868166009249,\n",
              " 0.0010893576441475582,\n",
              " 0.001088829451377668,\n",
              " 0.0010883022364775168,\n",
              " 0.0010877759976367256,\n",
              " 0.001087250733048267,\n",
              " 0.0010867264409084587,\n",
              " 0.0010862031194169574,\n",
              " 0.0010856807667767537,\n",
              " 0.0010851593811941644,\n",
              " 0.0010846389608788276,\n",
              " 0.0010841195040436958,\n",
              " 0.0010836010089050293,\n",
              " 0.0010830834736823914,\n",
              " 0.0010825668965986416,\n",
              " 0.0010820512758799293,\n",
              " 0.0010815366097556877,\n",
              " 0.0010810228964586285,\n",
              " 0.0010805101342247357,\n",
              " 0.0010799983212932572,\n",
              " 0.0010794874559067024,\n",
              " 0.0010789775363108341,\n",
              " 0.0010784685607546623,\n",
              " 0.0010779605274904391,\n",
              " 0.0010774534347736523,\n",
              " 0.0010769472808630194,\n",
              " 0.001076442064020481,\n",
              " 0.0010759377825111964,\n",
              " 0.0010754344346035364,\n",
              " 0.0010749320185690777,\n",
              " 0.001074430532682596,\n",
              " 0.0010739299752220623,\n",
              " 0.001073430344468635,\n",
              " 0.0010729316387066547,\n",
              " 0.0010724338562236389,\n",
              " 0.0010719369953102742,\n",
              " 0.001071441054260413,\n",
              " 0.0010709460313710656,\n",
              " 0.001070451924942396,\n",
              " 0.001069958733277714,\n",
              " 0.0010694664546834717,\n",
              " 0.0010689750874692554,\n",
              " 0.0010684846299477827,\n",
              " 0.0010679950804348929,\n",
              " 0.0010675064372495443,\n",
              " 0.0010670186987138078,\n",
              " 0.0010665318631528599,\n",
              " 0.001066045928894978,\n",
              " 0.0010655608942715348,\n",
              " 0.0010650767576169922,\n",
              " 0.0010645935172688948,\n",
              " 0.0010641111715678662,\n",
              " 0.0010636297188576012,\n",
              " 0.0010631491574848609,\n",
              " 0.001062669485799468,\n",
              " 0.0010621907021542989,\n",
              " 0.0010617128049052816,\n",
              " 0.0010612357924113854,\n",
              " 0.0010607596630346193,\n",
              " 0.0010602844151400242,\n",
              " 0.0010598100470956679,\n",
              " 0.00105933655727264,\n",
              " 0.0010588639440450446,\n",
              " 0.001058392205789997,\n",
              " 0.0010579213408876173,\n",
              " 0.0010574513477210226,\n",
              " 0.001056982224676326,\n",
              " 0.0010565139701426268,\n",
              " 0.0010560465825120069,\n",
              " 0.0010555800601795256,\n",
              " 0.0010551144015432125,\n",
              " 0.0010546496050040646,\n",
              " 0.001054185668966037,\n",
              " 0.0010537225918360415,\n",
              " 0.001053260372023939,\n",
              " 0.0010527990079425332,\n",
              " 0.0010523384980075674,\n",
              " 0.0010518788406377177,\n",
              " 0.0010514200342545865,\n",
              " 0.001050962077282701,\n",
              " 0.001050504968149502,\n",
              " 0.0010500487052853447,\n",
              " 0.001049593287123488,\n",
              " 0.0010491387121000927,\n",
              " 0.0010486849786542137,\n",
              " 0.001048232085227797,\n",
              " 0.001047780030265672,\n",
              " 0.0010473288122155478,\n",
              " 0.0010468784295280076,\n",
              " 0.0010464288806565027,\n",
              " 0.0010459801640573477,\n",
              " 0.001045532278189715,\n",
              " 0.0010450852215156293,\n",
              " 0.0010446389924999638,\n",
              " 0.0010441935896104326,\n",
              " 0.0010437490113175871,\n",
              " 0.0010433052560948103,\n",
              " 0.0010428623224183107,\n",
              " 0.0010424202087671193,\n",
              " 0.0010419789136230815,\n",
              " 0.0010415384354708545,\n",
              " 0.0010410987727979004,\n",
              " 0.0010406599240944815,\n",
              " 0.001040221887853655,\n",
              " 0.0010397846625712682,\n",
              " 0.0010393482467459531,\n",
              " 0.0010389126388791216,\n",
              " 0.0010384778374749595,\n",
              " 0.0010380438410404222,\n",
              " 0.001037610648085229,\n",
              " 0.0010371782571218578,\n",
              " 0.0010367466666655414,\n",
              " 0.0010363158752342617,\n",
              " 0.001035885881348742,\n",
              " 0.0010354566835324476,\n",
              " 0.0010350282803115744,\n",
              " 0.0010346006702150485,\n",
              " 0.0010341738517745194,\n",
              " 0.001033747823524354,\n",
              " 0.0010333225840016343,\n",
              " 0.0010328981317461483,\n",
              " 0.0010324744653003896,\n",
              " 0.0010320515832095494,\n",
              " 0.0010316294840215115,\n",
              " 0.0010312081662868493,\n",
              " 0.001030787628558819,\n",
              " 0.0010303678693933547,\n",
              " 0.001029948887349065,\n",
              " 0.0010295306809872265,\n",
              " 0.0010291132488717792,\n",
              " 0.0010286965895693221,\n",
              " 0.0010282807016491079,\n",
              " 0.0010278655836830374,\n",
              " 0.0010274512342456567,\n",
              " 0.0010270376519141498,\n",
              " 0.0010266248352683353,\n",
              " 0.0010262127828906604,\n",
              " 0.001025801493366198,\n",
              " 0.0010253909652826391,\n",
              " 0.0010249811972302902,\n",
              " 0.0010245721878020676,\n",
              " 0.0010241639355934922,\n",
              " 0.0010237564392026855,\n",
              " 0.0010233496972303642,\n",
              " 0.0010229437082798355,\n",
              " 0.001022538470956992,\n",
              " 0.0010221339838703085,\n",
              " 0.0010217302456308347,\n",
              " 0.0010213272548521921,\n",
              " 0.0010209250101505696,\n",
              " 0.001020523510144717,\n",
              " 0.0010201227534559418,\n",
              " 0.0010197227387081038,\n",
              " 0.001019323464527611,\n",
              " 0.0010189249295434136,\n",
              " 0.001018527132387,\n",
              " 0.001018130071692393,\n",
              " 0.0010177337460961448,\n",
              " 0.0010173381542373297,\n",
              " 0.0010169432947575436,\n",
              " ...]"
            ]
          },
          "execution_count": 66,
          "metadata": {},
          "output_type": "execute_result"
        }
      ],
      "source": [
        "J_history"
      ]
    },
    {
      "cell_type": "markdown",
      "metadata": {
        "id": "1EPaTC6GC4lS",
        "nbgrader": {
          "grade": false,
          "grade_id": "cell-86125cd57f0fdb89",
          "locked": true,
          "schema_version": 1,
          "solution": false
        }
      },
      "source": [
        "You can evaluate the learning process by monitoring the loss as training progress. In the following graph, we visualize the loss as a function of the iterations. This is possible since we are saving the loss value at every iteration in the `J_history` array. This visualization might help you find problems with your code. Notice that since the network converges quickly, we are using logarithmic scale for the number of iterations."
      ]
    },
    {
      "cell_type": "code",
      "execution_count": 67,
      "metadata": {
        "id": "laQF0rByC4lS",
        "nbgrader": {
          "grade": false,
          "grade_id": "cell-a565f1f721f6377f",
          "locked": true,
          "schema_version": 1,
          "solution": false
        }
      },
      "outputs": [
        {
          "data": {
            "image/png": "[encoded data removed]",
            "text/plain": [
              "<Figure size 432x288 with 1 Axes>"
            ]
          },
          "metadata": {
            "needs_background": "light"
          },
          "output_type": "display_data"
        }
      ],
      "source": [
        "plt.plot(np.arange(iterations), J_history)\n",
        "plt.xscale('log')\n",
        "plt.xlabel('Iterations')\n",
        "plt.ylabel('Loss')\n",
        "plt.title('Loss as a function of iterations')\n",
        "plt.show()"
      ]
    },
    {
      "cell_type": "markdown",
      "metadata": {
        "id": "9D4VkMrrC4lT",
        "nbgrader": {
          "grade": false,
          "grade_id": "cell-3bdd058ecc5db0eb",
          "locked": true,
          "schema_version": 1,
          "solution": false
        }
      },
      "source": [
        "The pseudo inverse solution is a direct approach to finding the best-fitting parameters of the linear model. In your implementation, **do not use `np.linalg.pinv`**. Instead, use only direct matrix multiplication as you saw in class (you can calculate the inverse of a matrix using `np.linalg.inv`).\n",
        "\n",
        "---\n",
        "Open `hw1.py` and complete the function `compute_pinv`. (10 points)"
      ]
    },
    {
      "cell_type": "code",
      "execution_count": 68,
      "metadata": {
        "id": "m5lonkWZC4lT"
      },
      "outputs": [],
      "source": [
        "from hw1 import compute_pinv"
      ]
    },
    {
      "cell_type": "code",
      "execution_count": 69,
      "metadata": {
        "id": "CCqKnjwOC4lT",
        "nbgrader": {
          "grade": false,
          "grade_id": "cell-ee89ac06af3087ae",
          "locked": true,
          "schema_version": 1,
          "solution": false
        }
      },
      "outputs": [],
      "source": [
        "theta_pinv = compute_pinv(X_train ,y_train)\n",
        "J_pinv = compute_cost(X_train, y_train, theta_pinv)"
      ]
    },
    {
      "cell_type": "code",
      "execution_count": 70,
      "metadata": {},
      "outputs": [
        {
          "data": {
            "text/plain": [
              "array([1.94301549e-04, 4.08751964e-01])"
            ]
          },
          "execution_count": 70,
          "metadata": {},
          "output_type": "execute_result"
        }
      ],
      "source": [
        "theta_pinv"
      ]
    },
    {
      "cell_type": "code",
      "execution_count": 71,
      "metadata": {},
      "outputs": [
        {
          "data": {
            "text/plain": [
              "0.0008040562476843768"
            ]
          },
          "execution_count": 71,
          "metadata": {},
          "output_type": "execute_result"
        }
      ],
      "source": [
        "J_pinv"
      ]
    },
    {
      "cell_type": "markdown",
      "metadata": {
        "id": "JUVTqa94C4lk"
      },
      "source": [
        "We can add the loss value for the theta calculated using the psuedo-inverse to our graph. This is another sanity check as the loss of our model should converge to the psuedo-inverse loss."
      ]
    },
    {
      "cell_type": "code",
      "execution_count": 72,
      "metadata": {
        "id": "P4GlE9VpC4lk",
        "nbgrader": {
          "grade": false,
          "grade_id": "cell-639b53fc41479335",
          "locked": true,
          "schema_version": 1,
          "solution": false
        }
      },
      "outputs": [
        {
          "data": {
            "image/png": "[encoded data removed]",
            "text/plain": [
              "<Figure size 432x288 with 1 Axes>"
            ]
          },
          "metadata": {
            "needs_background": "light"
          },
          "output_type": "display_data"
        }
      ],
      "source": [
        "plt.plot(np.arange(len(J_history)), J_history)\n",
        "plt.xscale('log')\n",
        "plt.xlabel('Iterations')\n",
        "plt.ylabel('Loss')\n",
        "plt.title('Loss as a function of iterations')\n",
        "plt.hlines(y = J_pinv, xmin = 0, xmax = len(J_history), color='r',\n",
        "           linewidth = 1, linestyle = 'dashed')\n",
        "plt.show()"
      ]
    },
    {
      "cell_type": "markdown",
      "metadata": {
        "id": "Ct343icPC4lk",
        "nbgrader": {
          "grade": false,
          "grade_id": "cell-5043aa5363cbe5c9",
          "locked": true,
          "schema_version": 1,
          "solution": false
        }
      },
      "source": [
        "We can use a better approach for the implementation of `gradient_descent`. Instead of performing 40,000 iterations, we wish to stop when the improvement of the loss value is smaller than `1e-8` from one iteration to the next.\n",
        "\n",
        "The learning rate is another factor that determines the performance of our model in terms of speed and accuracy. Complete the function `find_best_alpha`. Make sure you use the training dataset to learn the parameters (thetas) and use those parameters with the validation dataset to compute the cost.\n",
        "\n",
        "**After implementing `efficient_gradient_descent` and finding the best alpha value, use them for the rest of the exercise.**\n",
        "\n",
        "---\n",
        "Open `hw1.py` and complete the function `efficient_gradient_descent` and `find_best_alpha`. (5 points each)"
      ]
    },
    {
      "cell_type": "code",
      "execution_count": 73,
      "metadata": {
        "id": "mhNMVntmC4lk"
      },
      "outputs": [],
      "source": [
        "from hw1 import efficient_gradient_descent, find_best_alpha"
      ]
    },
    {
      "cell_type": "code",
      "execution_count": 74,
      "metadata": {
        "id": "JTpAW1XZC4lk",
        "nbgrader": {
          "grade": false,
          "grade_id": "cell-a8b088fe7a10910a",
          "locked": true,
          "schema_version": 1,
          "solution": false
        }
      },
      "outputs": [
        {
          "name": "stderr",
          "output_type": "stream",
          "text": [
            "c:\\Anaconda3\\lib\\site-packages\\numpy\\core\\fromnumeric.py:86: RuntimeWarning: overflow encountered in reduce\n",
            "  return ufunc.reduce(obj, axis, dtype, out, **passkwargs)\n"
          ]
        }
      ],
      "source": [
        "alpha_dict = find_best_alpha(X_train, y_train, X_val, y_val, 40000)"
      ]
    },
    {
      "cell_type": "code",
      "execution_count": 75,
      "metadata": {},
      "outputs": [
        {
          "data": {
            "text/plain": [
              "{1e-05: 0.0013732996298951707,\n",
              " 3e-05: 0.0013732991783727835,\n",
              " 0.0001: 0.0013732975980414808,\n",
              " 0.0003: 0.0013732930827839037,\n",
              " 0.001: 0.001165682839567445,\n",
              " 0.003: 0.0008490542925908263,\n",
              " 0.01: 0.000743700333106861,\n",
              " 0.03: 0.0007164468423525542,\n",
              " 0.1: 0.0007086420041979611,\n",
              " 0.3: 0.0007073219698654301,\n",
              " 1: 0.0007074187205587333,\n",
              " 2: 0.000708461763532936,\n",
              " 3: 3.676409516214874e+304}"
            ]
          },
          "execution_count": 75,
          "metadata": {},
          "output_type": "execute_result"
        }
      ],
      "source": [
        "alpha_dict"
      ]
    },
    {
      "cell_type": "markdown",
      "metadata": {
        "id": "RmtmsqkfC4lk",
        "nbgrader": {
          "grade": false,
          "grade_id": "cell-5bd93130c022d3e1",
          "locked": true,
          "schema_version": 1,
          "solution": false
        }
      },
      "source": [
        "We can now obtain the best learning rate from the dictionary `alpha_dict` in a single line."
      ]
    },
    {
      "cell_type": "code",
      "execution_count": 76,
      "metadata": {
        "id": "gv2RTAR_C4ll",
        "nbgrader": {
          "grade": false,
          "grade_id": "cell-4f81cf375ac46b73",
          "locked": false,
          "schema_version": 1,
          "solution": true
        }
      },
      "outputs": [
        {
          "name": "stdout",
          "output_type": "stream",
          "text": [
            "0.3\n"
          ]
        }
      ],
      "source": [
        "best_alpha = min(alpha_dict, key=alpha_dict.get)\n",
        "print(best_alpha)"
      ]
    },
    {
      "cell_type": "markdown",
      "metadata": {
        "id": "g-eoydDNC4ll",
        "nbgrader": {
          "grade": false,
          "grade_id": "cell-d16367ecb7183996",
          "locked": true,
          "schema_version": 1,
          "solution": false
        }
      },
      "source": [
        "The following code gets the best three alpha values you just calculated and provides a graph with three lines indicating the training loss as a function of iterations. Use it as a test for your implementation. You can change this code as you see fit."
      ]
    },
    {
      "cell_type": "code",
      "execution_count": 77,
      "metadata": {
        "id": "ANx9d_VNC4ll",
        "nbgrader": {
          "grade": true,
          "grade_id": "cell-448638e817503ca3",
          "locked": false,
          "points": 0,
          "schema_version": 1,
          "solution": true
        }
      },
      "outputs": [
        {
          "data": {
            "image/png": "[encoded data removed]",
            "text/plain": [
              "<Figure size 432x288 with 1 Axes>"
            ]
          },
          "metadata": {
            "needs_background": "light"
          },
          "output_type": "display_data"
        }
      ],
      "source": [
        "top_3_alphas = sorted([(value, key) for key, value in alpha_dict.items()], reverse=False)[:3]\n",
        "top_3_alphas = [x[1] for x in top_3_alphas]\n",
        "\n",
        "histories = []\n",
        "for alpha in top_3_alphas:\n",
        "    params = np.random.random(size=2)\n",
        "    _, J_history = gradient_descent(X_train ,y_train, params, alpha, num_iters=10000)\n",
        "    histories.append(J_history)\n",
        "\n",
        "for i, (alpha, color) in enumerate(zip(top_3_alphas, ['b','g','r'])):\n",
        "    plt.plot(np.arange(10000), histories[i], color, label='alpha='+str(alpha))\n",
        "\n",
        "plt.xscale('log')\n",
        "plt.ylim(0, 0.005)\n",
        "plt.xlabel('Iterations')\n",
        "plt.ylabel('Loss')\n",
        "plt.title('Loss as a function of iterations')\n",
        "plt.legend()\n",
        "plt.show()\n"
      ]
    },
    {
      "cell_type": "markdown",
      "metadata": {
        "id": "OS9K79UdC4ll",
        "nbgrader": {
          "grade": false,
          "grade_id": "cell-b73893d236bff1d5",
          "locked": true,
          "schema_version": 1,
          "solution": false
        }
      },
      "source": [
        "This is yet another check. This function plots the regression lines of your model and the model based on the pseudoinverse calculation. Both models should exhibit the same trend through the data."
      ]
    },
    {
      "cell_type": "code",
      "execution_count": 78,
      "metadata": {
        "id": "SG3I3VS5C4ll",
        "nbgrader": {
          "grade": false,
          "grade_id": "cell-c7ee7d8763464371",
          "locked": true,
          "schema_version": 1,
          "solution": false
        }
      },
      "outputs": [
        {
          "data": {
            "image/png": "[encoded data removed]",
            "text/plain": [
              "<Figure size 504x504 with 1 Axes>"
            ]
          },
          "metadata": {
            "needs_background": "light"
          },
          "output_type": "display_data"
        }
      ],
      "source": [
        "plt.figure(figsize=(7, 7))\n",
        "plt.plot(X_train[:,1], y_train, 'ro', ms=1, mec='k')\n",
        "plt.ylabel('Price in USD')\n",
        "plt.xlabel('sq.ft')\n",
        "plt.plot(X_train[:, 1], np.dot(X_train, theta), 'o')\n",
        "plt.plot(X_train[:, 1], np.dot(X_train, theta_pinv), '-')\n",
        "\n",
        "plt.legend(['Training data', 'Linear regression', 'Best theta']);"
      ]
    },
    {
      "cell_type": "markdown",
      "metadata": {
        "id": "-BERdHQSC4ll",
        "nbgrader": {
          "grade": false,
          "grade_id": "cell-e77c602466fab37d",
          "locked": true,
          "schema_version": 1,
          "solution": false
        }
      },
      "source": [
        "## Part 2: Multivariate Linear Regression\n",
        "\n",
        "In most cases, you will deal with datasets that have more than one feature. It can be as little as two features and up to thousands of features. In those cases, we use a multivariate linear regression model. The regression equation is almost the same as the simple linear regression equation:\n",
        "\n",
        "$$\n",
        "\\hat{y} = h_\\theta(\\vec{x}) = \\theta^T \\vec{x} = \\theta_0 + \\theta_1 x_1 + ... + \\theta_n x_n\n",
        "$$\n",
        "\n",
        "\n",
        "If you wrote proper vectorized code, this part should be trivial and work without changes. If this is not the case, you should go back and edit your functions such that they support both multivariate and single variable regression. **Your code should not check the dimensionality of the input before running**."
      ]
    },
    {
      "cell_type": "code",
      "execution_count": 79,
      "metadata": {
        "id": "C68wvrSqC4ll",
        "nbgrader": {
          "grade": false,
          "grade_id": "cell-15626dda8db26550",
          "locked": true,
          "schema_version": 1,
          "solution": false
        }
      },
      "outputs": [
        {
          "data": {
            "text/html": [
              "<div>\n",
              "<style scoped>\n",
              "    .dataframe tbody tr th:only-of-type {\n",
              "        vertical-align: middle;\n",
              "    }\n",
              "\n",
              "    .dataframe tbody tr th {\n",
              "        vertical-align: top;\n",
              "    }\n",
              "\n",
              "    .dataframe thead th {\n",
              "        text-align: right;\n",
              "    }\n",
              "</style>\n",
              "<table border=\"1\" class=\"dataframe\">\n",
              "  <thead>\n",
              "    <tr style=\"text-align: right;\">\n",
              "      <th></th>\n",
              "      <th>id</th>\n",
              "      <th>date</th>\n",
              "      <th>price</th>\n",
              "      <th>bedrooms</th>\n",
              "      <th>bathrooms</th>\n",
              "      <th>sqft_living</th>\n",
              "      <th>sqft_lot</th>\n",
              "      <th>floors</th>\n",
              "      <th>waterfront</th>\n",
              "      <th>view</th>\n",
              "      <th>condition</th>\n",
              "      <th>grade</th>\n",
              "      <th>sqft_above</th>\n",
              "      <th>yr_built</th>\n",
              "      <th>yr_renovated</th>\n",
              "      <th>zipcode</th>\n",
              "      <th>lat</th>\n",
              "      <th>long</th>\n",
              "      <th>sqft_living15</th>\n",
              "      <th>sqft_lot15</th>\n",
              "    </tr>\n",
              "  </thead>\n",
              "  <tbody>\n",
              "    <tr>\n",
              "      <th>0</th>\n",
              "      <td>7129300520</td>\n",
              "      <td>20141013T000000</td>\n",
              "      <td>221900.0</td>\n",
              "      <td>3</td>\n",
              "      <td>1.00</td>\n",
              "      <td>1180</td>\n",
              "      <td>5650</td>\n",
              "      <td>1.0</td>\n",
              "      <td>0</td>\n",
              "      <td>0</td>\n",
              "      <td>3</td>\n",
              "      <td>7</td>\n",
              "      <td>1180</td>\n",
              "      <td>1955</td>\n",
              "      <td>0</td>\n",
              "      <td>98178</td>\n",
              "      <td>47.5112</td>\n",
              "      <td>-122.257</td>\n",
              "      <td>1340</td>\n",
              "      <td>5650</td>\n",
              "    </tr>\n",
              "    <tr>\n",
              "      <th>1</th>\n",
              "      <td>6414100192</td>\n",
              "      <td>20141209T000000</td>\n",
              "      <td>538000.0</td>\n",
              "      <td>3</td>\n",
              "      <td>2.25</td>\n",
              "      <td>2570</td>\n",
              "      <td>7242</td>\n",
              "      <td>2.0</td>\n",
              "      <td>0</td>\n",
              "      <td>0</td>\n",
              "      <td>3</td>\n",
              "      <td>7</td>\n",
              "      <td>2170</td>\n",
              "      <td>1951</td>\n",
              "      <td>1991</td>\n",
              "      <td>98125</td>\n",
              "      <td>47.7210</td>\n",
              "      <td>-122.319</td>\n",
              "      <td>1690</td>\n",
              "      <td>7639</td>\n",
              "    </tr>\n",
              "    <tr>\n",
              "      <th>2</th>\n",
              "      <td>5631500400</td>\n",
              "      <td>20150225T000000</td>\n",
              "      <td>180000.0</td>\n",
              "      <td>2</td>\n",
              "      <td>1.00</td>\n",
              "      <td>770</td>\n",
              "      <td>10000</td>\n",
              "      <td>1.0</td>\n",
              "      <td>0</td>\n",
              "      <td>0</td>\n",
              "      <td>3</td>\n",
              "      <td>6</td>\n",
              "      <td>770</td>\n",
              "      <td>1933</td>\n",
              "      <td>0</td>\n",
              "      <td>98028</td>\n",
              "      <td>47.7379</td>\n",
              "      <td>-122.233</td>\n",
              "      <td>2720</td>\n",
              "      <td>8062</td>\n",
              "    </tr>\n",
              "    <tr>\n",
              "      <th>3</th>\n",
              "      <td>2487200875</td>\n",
              "      <td>20141209T000000</td>\n",
              "      <td>604000.0</td>\n",
              "      <td>4</td>\n",
              "      <td>3.00</td>\n",
              "      <td>1960</td>\n",
              "      <td>5000</td>\n",
              "      <td>1.0</td>\n",
              "      <td>0</td>\n",
              "      <td>0</td>\n",
              "      <td>5</td>\n",
              "      <td>7</td>\n",
              "      <td>1050</td>\n",
              "      <td>1965</td>\n",
              "      <td>0</td>\n",
              "      <td>98136</td>\n",
              "      <td>47.5208</td>\n",
              "      <td>-122.393</td>\n",
              "      <td>1360</td>\n",
              "      <td>5000</td>\n",
              "    </tr>\n",
              "    <tr>\n",
              "      <th>4</th>\n",
              "      <td>1954400510</td>\n",
              "      <td>20150218T000000</td>\n",
              "      <td>510000.0</td>\n",
              "      <td>3</td>\n",
              "      <td>2.00</td>\n",
              "      <td>1680</td>\n",
              "      <td>8080</td>\n",
              "      <td>1.0</td>\n",
              "      <td>0</td>\n",
              "      <td>0</td>\n",
              "      <td>3</td>\n",
              "      <td>8</td>\n",
              "      <td>1680</td>\n",
              "      <td>1987</td>\n",
              "      <td>0</td>\n",
              "      <td>98074</td>\n",
              "      <td>47.6168</td>\n",
              "      <td>-122.045</td>\n",
              "      <td>1800</td>\n",
              "      <td>7503</td>\n",
              "    </tr>\n",
              "  </tbody>\n",
              "</table>\n",
              "</div>"
            ],
            "text/plain": [
              "           id             date     price  bedrooms  bathrooms  sqft_living  \\\n",
              "0  7129300520  20141013T000000  221900.0         3       1.00         1180   \n",
              "1  6414100192  20141209T000000  538000.0         3       2.25         2570   \n",
              "2  5631500400  20150225T000000  180000.0         2       1.00          770   \n",
              "3  2487200875  20141209T000000  604000.0         4       3.00         1960   \n",
              "4  1954400510  20150218T000000  510000.0         3       2.00         1680   \n",
              "\n",
              "   sqft_lot  floors  waterfront  view  condition  grade  sqft_above  yr_built  \\\n",
              "0      5650     1.0           0     0          3      7        1180      1955   \n",
              "1      7242     2.0           0     0          3      7        2170      1951   \n",
              "2     10000     1.0           0     0          3      6         770      1933   \n",
              "3      5000     1.0           0     0          5      7        1050      1965   \n",
              "4      8080     1.0           0     0          3      8        1680      1987   \n",
              "\n",
              "   yr_renovated  zipcode      lat     long  sqft_living15  sqft_lot15  \n",
              "0             0    98178  47.5112 -122.257           1340        5650  \n",
              "1          1991    98125  47.7210 -122.319           1690        7639  \n",
              "2             0    98028  47.7379 -122.233           2720        8062  \n",
              "3             0    98136  47.5208 -122.393           1360        5000  \n",
              "4             0    98074  47.6168 -122.045           1800        7503  "
            ]
          },
          "execution_count": 79,
          "metadata": {},
          "output_type": "execute_result"
        }
      ],
      "source": [
        "# Read comma separated data\n",
        "df = pd.read_csv('data.csv')\n",
        "df.head()"
      ]
    },
    {
      "cell_type": "markdown",
      "metadata": {
        "id": "a4HSv79GC4lm",
        "nbgrader": {
          "grade": false,
          "grade_id": "cell-2dc0f4dc3491520c",
          "locked": true,
          "schema_version": 1,
          "solution": false
        }
      },
      "source": [
        "## Preprocessing\n",
        "\n",
        "Like in the single variable case, we need to create a numpy array from the dataframe. Before doing so, we should notice that some of the features are clearly irrelevant so we will go ahead and drop them."
      ]
    },
    {
      "cell_type": "code",
      "execution_count": 80,
      "metadata": {
        "id": "HizyhctMC4lm",
        "nbgrader": {
          "grade": true,
          "grade_id": "cell-a87b4027bd3bda4b",
          "locked": false,
          "points": 0,
          "schema_version": 1,
          "solution": true
        }
      },
      "outputs": [],
      "source": [
        "X = df.drop(columns=['price', 'id', 'date']).values\n",
        "y = df['price'].values"
      ]
    },
    {
      "cell_type": "markdown",
      "metadata": {
        "id": "Su3al4KAC4lm",
        "nbgrader": {
          "grade": false,
          "grade_id": "cell-1aa12f54513b1efa",
          "locked": true,
          "schema_version": 1,
          "solution": false
        }
      },
      "source": [
        "Use the same `preprocess` function you implemented previously. Notice that proper vectorized implementation should work regardless of the dimensionality of the input. You might want to check that your code in the previous parts still works."
      ]
    },
    {
      "cell_type": "code",
      "execution_count": 81,
      "metadata": {
        "id": "33uywsUvC4lm",
        "nbgrader": {
          "grade": false,
          "grade_id": "cell-f40a9df530db9399",
          "locked": true,
          "schema_version": 1,
          "solution": false
        }
      },
      "outputs": [],
      "source": [
        "# preprocessing\n",
        "X, y = preprocess(X, y)"
      ]
    },
    {
      "cell_type": "code",
      "execution_count": 82,
      "metadata": {
        "id": "bNhna2pBC4lm"
      },
      "outputs": [],
      "source": [
        "# training and validation split\n",
        "np.random.seed(42)\n",
        "indices = np.random.permutation(X.shape[0])\n",
        "idx_train, idx_val = indices[:int(0.8*X.shape[0])], indices[int(0.8*X.shape[0]):]\n",
        "X_train, X_val = X[idx_train,:], X[idx_val,:]\n",
        "y_train, y_val = y[idx_train], y[idx_val]"
      ]
    },
    {
      "cell_type": "markdown",
      "metadata": {
        "id": "JqNQx8tGC4lm"
      },
      "source": [
        "Using 3D visualization, we can still observe trends in the data. Visualizing additional dimensions requires advanced techniques we will learn later in the course."
      ]
    },
    {
      "cell_type": "code",
      "execution_count": 83,
      "metadata": {
        "id": "jtkqxZCXC4lm",
        "nbgrader": {
          "grade": false,
          "grade_id": "cell-0c68216a26a9b5af",
          "locked": true,
          "schema_version": 1,
          "solution": false
        }
      },
      "outputs": [
        {
          "name": "stderr",
          "output_type": "stream",
          "text": [
            "C:\\Users\\Acer\\AppData\\Local\\Temp/ipykernel_16884/187571787.py:4: MatplotlibDeprecationWarning: Axes3D(fig) adding itself to the figure is deprecated since 3.4. Pass the keyword argument auto_add_to_figure=False and use fig.add_axes(ax) to suppress this warning. The default value of auto_add_to_figure will change to False in mpl3.5 and True values will no longer work in 3.6.  This is consistent with other Axes classes.\n",
            "  ax = p3.Axes3D(fig)\n"
          ]
        },
        {
          "data": {
            "image/png": "[encoded data removed]",
            "text/plain": [
              "<Figure size 360x360 with 1 Axes>"
            ]
          },
          "metadata": {
            "needs_background": "light"
          },
          "output_type": "display_data"
        }
      ],
      "source": [
        "%matplotlib inline\n",
        "import mpl_toolkits.mplot3d.axes3d as p3\n",
        "fig = plt.figure(figsize=(5,5))\n",
        "ax = p3.Axes3D(fig)\n",
        "xx = X_train[:, 1][:1000]\n",
        "yy = X_train[:, 2][:1000]\n",
        "zz = y_train[:1000]\n",
        "ax.scatter(xx, yy, zz, marker='o')\n",
        "ax.set_xlabel('bathrooms')\n",
        "ax.set_ylabel('sqft_living')\n",
        "ax.set_zlabel('price')\n",
        "plt.show()"
      ]
    },
    {
      "cell_type": "markdown",
      "metadata": {
        "id": "NpygsygcC4lm",
        "nbgrader": {
          "grade": false,
          "grade_id": "cell-70fcd47d69caea00",
          "locked": true,
          "schema_version": 1,
          "solution": false
        }
      },
      "source": [
        "Make sure the functions `apply_bias_trick`, `compute_cost`, `gradient_descent`, `efficient_gradient_descent` and `compute_pinv` work on the multi-dimensional dataset. If you make any changes, make sure your code still works on the single variable regression model."
      ]
    },
    {
      "cell_type": "code",
      "execution_count": 84,
      "metadata": {
        "id": "GnhxRZseC4lm",
        "nbgrader": {
          "grade": true,
          "grade_id": "cell-2985911f4b7af3e1",
          "locked": false,
          "points": 0,
          "schema_version": 1,
          "solution": true
        }
      },
      "outputs": [
        {
          "data": {
            "text/plain": [
              "((4000, 18), (1000, 18))"
            ]
          },
          "execution_count": 84,
          "metadata": {},
          "output_type": "execute_result"
        }
      ],
      "source": [
        "# bias trick\n",
        "X_train = apply_bias_trick(X_train)\n",
        "X_val = apply_bias_trick(X_val)\n",
        "\n",
        "X_train.shape, X_val.shape"
      ]
    },
    {
      "cell_type": "code",
      "execution_count": 85,
      "metadata": {
        "id": "0x3DcmBtC4ln",
        "nbgrader": {
          "grade": false,
          "grade_id": "cell-81ab741781b2f6ec",
          "locked": true,
          "schema_version": 1,
          "solution": false
        }
      },
      "outputs": [],
      "source": [
        "# calculating the cost\n",
        "shape = X_train.shape[1]\n",
        "theta = np.ones(shape)\n",
        "J = compute_cost(X_train, y_train, theta)"
      ]
    },
    {
      "cell_type": "code",
      "execution_count": 86,
      "metadata": {},
      "outputs": [
        {
          "data": {
            "text/plain": [
              "0.5015467076207576"
            ]
          },
          "execution_count": 86,
          "metadata": {},
          "output_type": "execute_result"
        }
      ],
      "source": [
        "J"
      ]
    },
    {
      "cell_type": "code",
      "execution_count": 87,
      "metadata": {
        "id": "5tjKilnoC4ln",
        "nbgrader": {
          "grade": false,
          "grade_id": "cell-6f25fb05bd6c648a",
          "locked": true,
          "schema_version": 1,
          "solution": false
        }
      },
      "outputs": [],
      "source": [
        "# running the efficient version of gradient descent\n",
        "np.random.seed(42)\n",
        "shape = X_train.shape[1]\n",
        "theta = np.random.random(shape)\n",
        "iterations = 40000\n",
        "theta, J_history = efficient_gradient_descent(X_train ,y_train, theta, best_alpha, iterations)"
      ]
    },
    {
      "cell_type": "code",
      "execution_count": 88,
      "metadata": {},
      "outputs": [
        {
          "data": {
            "text/plain": [
              "array([0.01992913, 0.95242493, 0.73370488, 0.60008585, 0.15327208,\n",
              "       0.15770553, 0.0597949 , 0.86788746, 0.60282556, 0.70978242,\n",
              "       0.02203621, 0.97119875, 0.83414905, 0.19299041, 0.18352605,\n",
              "       0.18514203, 0.3056263 , 0.52276999])"
            ]
          },
          "execution_count": 88,
          "metadata": {},
          "output_type": "execute_result"
        }
      ],
      "source": [
        "theta"
      ]
    },
    {
      "cell_type": "code",
      "execution_count": 89,
      "metadata": {},
      "outputs": [
        {
          "data": {
            "text/plain": [
              "[0.06487121363492453,\n",
              " 0.03249813918463367,\n",
              " 0.016680157753778433,\n",
              " 0.008951246969236082,\n",
              " 0.005174779330695607,\n",
              " 0.003329535625382704,\n",
              " 0.0024279173552980687,\n",
              " 0.0019873688495441453,\n",
              " 0.0017721060562136696,\n",
              " 0.0016669212956816018,\n",
              " 0.0016155223406436724,\n",
              " 0.001590403951299571,\n",
              " 0.001578126648475608,\n",
              " 0.0015721236979137686,\n",
              " 0.0015691864932191365,\n",
              " 0.0015677472604274001,\n",
              " 0.0015670399612957846,\n",
              " 0.0015666902978684544,\n",
              " 0.0015665153824614246,\n",
              " 0.0015664258533654239,\n",
              " 0.0015663780470871714,\n",
              " 0.0015663506289778726,\n",
              " 0.0015663331746023003,\n",
              " 0.00156632059042178,\n",
              " 0.0015663103876549015,\n",
              " 0.0015663013502443346]"
            ]
          },
          "execution_count": 89,
          "metadata": {},
          "output_type": "execute_result"
        }
      ],
      "source": [
        "J_history"
      ]
    },
    {
      "cell_type": "code",
      "execution_count": 90,
      "metadata": {
        "id": "asmLJI3sC4ln",
        "nbgrader": {
          "grade": false,
          "grade_id": "cell-827d1de1293be51f",
          "locked": true,
          "schema_version": 1,
          "solution": false
        }
      },
      "outputs": [],
      "source": [
        "# calculating the pseudoinverse\n",
        "theta_pinv = compute_pinv(X_train ,y_train)\n",
        "J_pinv = compute_cost(X_train, y_train, theta_pinv)"
      ]
    },
    {
      "cell_type": "code",
      "execution_count": 91,
      "metadata": {},
      "outputs": [
        {
          "data": {
            "text/plain": [
              "array([ 1.51961700e+03, -1.06772031e+04,  5.50486118e+03,  4.16192262e+01,\n",
              "        1.45100996e-03,  2.16044333e+02,  1.88593532e+05,  1.13599037e+04,\n",
              "        4.82841675e+03,  2.16046694e+04,  7.23764449e+00, -6.85817062e+02,\n",
              "        3.59441861e+00, -1.40763061e+02,  1.35978374e+05, -4.21571228e+04,\n",
              "        7.98660126e+00, -1.03333888e-01])"
            ]
          },
          "execution_count": 91,
          "metadata": {},
          "output_type": "execute_result"
        }
      ],
      "source": [
        "theta_pinv"
      ]
    },
    {
      "cell_type": "code",
      "execution_count": 92,
      "metadata": {},
      "outputs": [
        {
          "data": {
            "text/plain": [
              "0.0004698776756364389"
            ]
          },
          "execution_count": 92,
          "metadata": {},
          "output_type": "execute_result"
        }
      ],
      "source": [
        "J_pinv"
      ]
    },
    {
      "cell_type": "markdown",
      "metadata": {
        "id": "cwEWOPD6C4ln"
      },
      "source": [
        "We can use visualization to make sure the code works well. Notice we use logarithmic scale for the number of iterations, since gradient descent converges after ~500 iterations."
      ]
    },
    {
      "cell_type": "code",
      "execution_count": 93,
      "metadata": {
        "id": "r9uHXzPPC4ln",
        "nbgrader": {
          "grade": false,
          "grade_id": "cell-4fa207b72d2445c2",
          "locked": true,
          "schema_version": 1,
          "solution": false
        }
      },
      "outputs": [
        {
          "data": {
            "image/png": "[encoded data removed]",
            "text/plain": [
              "<Figure size 432x288 with 1 Axes>"
            ]
          },
          "metadata": {
            "needs_background": "light"
          },
          "output_type": "display_data"
        }
      ],
      "source": [
        "plt.plot(np.arange(len(J_history)), J_history)\n",
        "plt.xscale('log')\n",
        "plt.xlabel('Iterations')\n",
        "plt.ylabel('Loss')\n",
        "plt.title('Loss as a function of iterations - multivariate linear regression')\n",
        "plt.hlines(y = J_pinv, xmin = 0, xmax = len(J_history), color='r',\n",
        "           linewidth = 1, linestyle = 'dashed')\n",
        "plt.show()"
      ]
    },
    {
      "cell_type": "markdown",
      "metadata": {
        "id": "JYznpcf9C4ln",
        "nbgrader": {
          "grade": false,
          "grade_id": "cell-cad652570cee3629",
          "locked": true,
          "schema_version": 1,
          "solution": false
        }
      },
      "source": [
        "## Part 3: Forward feature selection (15 points)\n",
        "\n",
        "Adding additional features to our regression model makes it more complicated but does not necessarily improves performance.\n",
        "\n",
        "Forward feature selection is a greedy, iterative algorithm used to select the most relevant features for a predictive model. The objective of this algorithm is to improve the model's performance by identifying and using only the most relevant features, potentially reducing overfitting, improving accuracy, and reducing computational cost.\n",
        "\n",
        "Implement forward feature selection using the following guidelines:\n",
        "1. Start with an empty set of selected features.\n",
        "1. For each feature not yet in the selected set, do the following:\n",
        "    1. Add the feature to the selected set temporarily.\n",
        "    1. Train a model using the current set of selected features and evaluate its performance by calculating the cost or error on a validation set.\n",
        "    1. Remove the temporarily added feature from the selected set.\n",
        "1. Choose the feature that resulted in the best model performance and permanently add it to the selected set.\n",
        "1. Repeat steps 2-3 until you have 5 features (not including the bias).\n",
        "\n",
        "---\n",
        "Open `hw1.py` and complete the function `forward_feature_selection`.\n",
        "\n",
        "**Note that you should use the inputs as provided in the next cell and don't forget to use the bias trick inside `forward_feature_selection`**."
      ]
    },
    {
      "cell_type": "code",
      "execution_count": 94,
      "metadata": {
        "id": "kYLquGP-C4ln"
      },
      "outputs": [],
      "source": [
        "df = pd.read_csv('data.csv')\n",
        "feature_names = df.drop(columns=['price', 'id', 'date']).columns.values\n",
        "X = df.drop(columns=['price', 'id', 'date']).values\n",
        "y = df['price'].values\n",
        "\n",
        "# preprocessing\n",
        "X, y = preprocess(X, y)\n",
        "\n",
        "# training and validation split\n",
        "np.random.seed(42)\n",
        "indices = np.random.permutation(X.shape[0])\n",
        "idx_train, idx_val = indices[:int(0.8*X.shape[0])], indices[int(0.8*X.shape[0]):]\n",
        "X_train, X_val = X[idx_train,:], X[idx_val,:]\n",
        "y_train, y_val = y[idx_train], y[idx_val]"
      ]
    },
    {
      "cell_type": "code",
      "execution_count": 95,
      "metadata": {
        "id": "RXFUVUCfC4ln"
      },
      "outputs": [],
      "source": [
        "from hw1 import forward_feature_selection"
      ]
    },
    {
      "cell_type": "code",
      "execution_count": 96,
      "metadata": {
        "id": "YPR6g7p1C4lo"
      },
      "outputs": [
        {
          "name": "stdout",
          "output_type": "stream",
          "text": [
            "sqft_lot\n",
            "sqft_living\n",
            "sqft_above\n",
            "yr_renovated\n",
            "yr_built\n"
          ]
        }
      ],
      "source": [
        "ffs = forward_feature_selection(X_train, y_train, X_val, y_val, best_alpha, iterations)\n",
        "for feature in ffs:\n",
        "    print(feature_names[feature])"
      ]
    },
    {
      "cell_type": "markdown",
      "metadata": {
        "id": "sYfegilHC4lo"
      },
      "source": [
        "## Part 4: Polynomial regression (15 points)\n",
        "\n",
        "Implement a function to create polynomial features up to a degree of 2 for given dataset. The function should take a pandas DataFrame as input and should return a new DataFrame with all possible square features, including the original features. When you create the new dataframe, make sure the feature names also represent the transformation performed. For example: `sqft_lot`, `yr_built^2`, `bedrooms*bathrooms`, ...\n",
        "\n",
        "After you obtain the polynomial dataframe, use forward feature selection and print the 5 best features.\n",
        "\n",
        "Open `hw1.py` and complete the function `create_square_features`."
      ]
    },
    {
      "cell_type": "code",
      "execution_count": 97,
      "metadata": {
        "id": "rqXNPoLDC4lo"
      },
      "outputs": [],
      "source": [
        "from hw1 import create_square_features"
      ]
    },
    {
      "cell_type": "code",
      "execution_count": 98,
      "metadata": {
        "id": "gRJFDhCgC4lo"
      },
      "outputs": [
        {
          "data": {
            "text/plain": [
              "((5000, 170), (5000,))"
            ]
          },
          "execution_count": 98,
          "metadata": {},
          "output_type": "execute_result"
        }
      ],
      "source": [
        "df = pd.read_csv('data.csv')\n",
        "\n",
        "y = df['price'].values\n",
        "df = df.drop(columns=['price', 'id', 'date'])\n",
        "df = df.astype('float64')\n",
        "df_poly = create_square_features(df)\n",
        "X = df_poly.values\n",
        "X.shape, y.shape"
      ]
    },
    {
      "cell_type": "code",
      "execution_count": 99,
      "metadata": {
        "id": "rU4XyIZoC4lo"
      },
      "outputs": [],
      "source": [
        "# preprocessing\n",
        "X, y = preprocess(X, y)"
      ]
    },
    {
      "cell_type": "code",
      "execution_count": 100,
      "metadata": {
        "id": "m6LdUmWcC4lo"
      },
      "outputs": [],
      "source": [
        "# training and validation split\n",
        "np.random.seed(42)\n",
        "indices = np.random.permutation(X.shape[0])\n",
        "idx_train, idx_val = indices[:int(0.8*X.shape[0])], indices[int(0.8*X.shape[0]):]\n",
        "X_train, X_val = X[idx_train,:], X[idx_val,:]\n",
        "y_train, y_val = y[idx_train], y[idx_val]"
      ]
    },
    {
      "cell_type": "code",
      "execution_count": 101,
      "metadata": {
        "id": "UpZ_FhMUC4lo"
      },
      "outputs": [
        {
          "data": {
            "text/plain": [
              "((4000, 170), (1000, 170), (4000,), (1000,))"
            ]
          },
          "execution_count": 101,
          "metadata": {},
          "output_type": "execute_result"
        }
      ],
      "source": [
        "X_train.shape, X_val.shape, y_train.shape, y_val.shape"
      ]
    },
    {
      "cell_type": "code",
      "execution_count": 102,
      "metadata": {
        "id": "8gi-yH5JC4lo"
      },
      "outputs": [],
      "source": [
        "feature_names = df_poly.columns.values"
      ]
    },
    {
      "cell_type": "code",
      "execution_count": 103,
      "metadata": {
        "id": "GmHd-dEeC4lo"
      },
      "outputs": [],
      "source": [
        "ffs = forward_feature_selection(X_train, y_train, X_val, y_val, best_alpha, iterations)"
      ]
    },
    {
      "cell_type": "code",
      "execution_count": 104,
      "metadata": {
        "id": "e893p4D3C4lo"
      },
      "outputs": [
        {
          "name": "stdout",
          "output_type": "stream",
          "text": [
            "sqft_lot^2\n",
            "sqft_lot*sqft_lot15\n",
            "sqft_lot*zipcode\n",
            "sqft_lot15^2\n",
            "zipcode*sqft_lot15\n"
          ]
        }
      ],
      "source": [
        "for feature in ffs:\n",
        "    print(feature_names[feature])"
      ]
    }
  ],
  "metadata": {
    "celltoolbar": "Create Assignment",
    "colab": {
      "provenance": []
    },
    "kernelspec": {
      "display_name": "base",
      "language": "python",
      "name": "python3"
    },
    "language_info": {
      "codemirror_mode": {
        "name": "ipython",
        "version": 3
      },
      "file_extension": ".py",
      "mimetype": "text/x-python",
      "name": "python",
      "nbconvert_exporter": "python",
      "pygments_lexer": "ipython3",
      "version": "3.9.7"
    }
  },
  "nbformat": 4,
  "nbformat_minor": 0
}
